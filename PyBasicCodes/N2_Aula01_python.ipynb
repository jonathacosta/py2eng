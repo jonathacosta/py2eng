{
 "cells": [
  {
   "cell_type": "markdown",
   "metadata": {
    "id": "asx887spoo_z"
   },
   "source": [
    "# **Curso de Python - N2**\n",
    " - Prof. Jonatha Costa"
   ]
  },
  {
   "cell_type": "markdown",
   "metadata": {
    "id": "6TDBRSv6GZGD"
   },
   "source": [
    "**Introdução à Programação Orientada a Objetos (POO):**\n",
    "\n",
    "    O que é POO?\n",
    "        - Objetos, classes, métodos, atributos\n",
    "        - Encapsulamento, herança, polimorfismo\n"
   ]
  },
  {
   "cell_type": "markdown",
   "metadata": {
    "id": "7eDpY4aQGZL3",
    "tags": []
   },
   "source": [
    "## **O que é POO:**\n",
    "\n",
    "A Programação Orientada a Objetos (POO) é um paradigma de programação que organiza dados e comportamentos (funções) relacionados em estruturas chamadas objetos. Os objetos são instâncias de classes, que são como modelos ou plantas baixas para criar objetos. A POO baseia-se em quatro principais conceitos:\n",
    "\n",
    "### **Objetos:**\n",
    "- **Definição:** Um objeto é uma instância de uma classe. Pode ser qualquer coisa do mundo real, como um carro, uma pessoa ou um livro. Em programação, objetos contêm dados (também conhecidos como atributos) e comportamentos (métodos).\n",
    "\n",
    "### **Classes:**\n",
    "- **Definição:** Uma classe é um modelo para criar objetos. Define os atributos (dados) e métodos (ações) que os objetos dessa classe terão.\n",
    "- **Exemplo:** Se um objeto é um carro, a classe seria o projeto do carro, incluindo todas as propriedades (cor, modelo, ano) e ações (ligar, desligar, acelerar).\n",
    "\n",
    "### **Métodos:**\n",
    "- **Definição:** Métodos são funções associadas a uma classe ou a um objeto e representam o comportamento dos objetos. Eles definem o que um objeto pode fazer.\n",
    "- **Exemplo:** Um objeto da classe \"Círculo\" pode ter um método chamado \"calcularÁrea()\" que calcula a área do círculo.\n",
    "\n",
    "### **Atributos:**\n",
    "- **Definição:** Atributos são variáveis que armazenam dados dentro de um objeto ou uma classe. Eles representam as características do objeto.\n",
    "- **Exemplo:** Para um objeto da classe \"Pessoa\", os atributos poderiam incluir nome, idade e altura.\n",
    "\n",
    "## **Princípios Avançados da POO:**\n",
    "\n",
    "### **Encapsulamento:**\n",
    "- **Definição:** É o conceito de restringir o acesso direto aos dados e métodos de um objeto, protegendo assim os dados de modificações não autorizadas.\n",
    "- **Exemplo:** Atributos podem ser definidos como privados para garantir que só os métodos da própria classe possam acessá-los diretamente.\n",
    "\n",
    "### **Herança:**\n",
    "- **Definição:** Permite criar uma nova classe baseada em uma classe existente. A nova classe herda atributos e métodos da classe existente e pode adicionar ou modificar comportamentos.\n",
    "- **Exemplo:** Uma classe \"CarroEsportivo\" pode herdar da classe \"Carro\", adicionando métodos específicos para acelerar rapidamente.\n",
    "\n",
    "### **Polimorfismo:**\n",
    "- **Definição:** Permite que objetos de diferentes classes sejam tratados como objetos da mesma classe, facilitando o uso de diferentes implementações de uma interface.\n",
    "- **Exemplo:** Métodos com o mesmo nome, mas em classes diferentes, podem ser chamados de maneira uniforme, simplificando a interação com objetos de classes diversas.\n",
    "\n",
    "A POO oferece uma maneira poderosa de organizar e estruturar código, tornando-o mais reutilizável, flexível e fácil de entender, especialmente em projetos complexos. Ela ajuda a modelar o mundo real em código, tornando a programação mais intuitiva e representativa das entidades e ações do mundo real."
   ]
  },
  {
   "cell_type": "markdown",
   "metadata": {
    "id": "g4z0gO5eNFq4",
    "tags": []
   },
   "source": [
    "# Classes e objetos"
   ]
  },
  {
   "cell_type": "markdown",
   "metadata": {
    "id": "lJd1gLABiL_D",
    "tags": []
   },
   "source": [
    "## **Definindo classes**"
   ]
  },
  {
   "cell_type": "markdown",
   "metadata": {},
   "source": [
    "### **Atributos e Métodos de Classe:**\n"
   ]
  },
  {
   "cell_type": "markdown",
   "metadata": {},
   "source": [
    "- **Atributos:** São variáveis associadas à classe, representando características dos objetos. Cada objeto da classe pode ter valores diferentes para esses atributos.\n",
    "- **Métodos:** São funções associadas à classe, representando comportamentos dos objetos. Eles operam nos atributos da classe.\n",
    "\n",
    "```python\n",
    "class Carro:\n",
    "    def __init__(self, cor, modelo):\n",
    "        self.cor = cor\n",
    "        self.modelo = modelo\n",
    "    \n",
    "    def ligar(self):\n",
    "        print(f\"O carro {self.modelo} está ligado.\")\n",
    "```\n",
    "\n",
    "No exemplo acima, `cor` e `modelo` são atributos da classe `Carro`, e `ligar()` é um método da classe `Carro`.\n"
   ]
  },
  {
   "cell_type": "code",
   "execution_count": null,
   "metadata": {},
   "outputs": [],
   "source": [
    "#Simular"
   ]
  },
  {
   "cell_type": "markdown",
   "metadata": {
    "tags": []
   },
   "source": [
    "### **Construtores (`__init__`) e Destrutores (`__del__`):**\n"
   ]
  },
  {
   "cell_type": "markdown",
   "metadata": {
    "id": "KTscOsMERvyI"
   },
   "source": [
    "\n",
    "- **Construtores:** São métodos especiais chamados automaticamente quando um objeto é criado. O método `__init__` é o construtor e é usado para inicializar os atributos do objeto.\n",
    "- **Destrutores:** São métodos especiais chamados automaticamente quando um objeto é destruído (por exemplo, quando não há mais referências ao objeto). O método `__del__` é o destrutor.\n",
    "\n",
    "```python\n",
    "class Pessoa:\n",
    "    def __init__(self, nome, idade):\n",
    "        self.nome = nome\n",
    "        self.idade = idade\n",
    "    \n",
    "    def __del__(self):\n",
    "        print(f\"A pessoa {self.nome} foi removida da memória.\")\n",
    "```\n"
   ]
  },
  {
   "cell_type": "code",
   "execution_count": null,
   "metadata": {},
   "outputs": [],
   "source": [
    "#Simular"
   ]
  },
  {
   "cell_type": "markdown",
   "metadata": {
    "id": "8vkvawtBiUy0",
    "tags": []
   },
   "source": [
    "## **Criando Objetos:**\n"
   ]
  },
  {
   "cell_type": "markdown",
   "metadata": {},
   "source": [
    "### **Instanciando Objetos:**\n"
   ]
  },
  {
   "cell_type": "markdown",
   "metadata": {},
   "source": [
    "- Para criar um objeto de uma classe, você chama o nome da classe como se fosse uma função, passando os valores necessários para o construtor (`__init__`).\n",
    "\n",
    "```python\n",
    "carro1 = Carro(\"Azul\", \"Sedan\")\n",
    "pessoa1 = Pessoa(\"Alice\", 30)\n",
    "```\n",
    "\n",
    "No exemplo acima, `carro1` é um objeto da classe `Carro` e `pessoa1` é um objeto da classe `Pessoa`"
   ]
  },
  {
   "cell_type": "code",
   "execution_count": 3,
   "metadata": {
    "tags": []
   },
   "outputs": [],
   "source": [
    "#Simular"
   ]
  },
  {
   "cell_type": "markdown",
   "metadata": {
    "tags": []
   },
   "source": [
    "#### **Acesso a Atributos e Métodos:**\n"
   ]
  },
  {
   "cell_type": "markdown",
   "metadata": {
    "id": "9_ixtvAMiVL5"
   },
   "source": [
    "- Para acessar os atributos e métodos de um objeto, você usa a notação de ponto (`objeto.atributo` ou `objeto.método()`).\n",
    "\n",
    "```python\n",
    "print(carro1.cor)  # Saída: Azul\n",
    "carro1.ligar()      # Saída: O carro Sedan está ligado.\n",
    "\n",
    "print(pessoa1.nome)  # Saída: Alice\n",
    "del pessoa1         # Saída: A pessoa Alice foi removida da memória.\n",
    "```\n",
    "\n",
    "No exemplo acima, `carro1.cor` acessa o atributo `cor` do objeto `carro1`, e `carro1.ligar()` chama o método `ligar()` do objeto `carro1`. Além disso, `del pessoa1` remove o objeto `pessoa1` da memória, chamando o destrutor (`__del__`)."
   ]
  },
  {
   "cell_type": "code",
   "execution_count": 2,
   "metadata": {
    "tags": []
   },
   "outputs": [],
   "source": [
    "#Simular"
   ]
  },
  {
   "cell_type": "markdown",
   "metadata": {
    "id": "QQqphOTKRv1M",
    "tags": []
   },
   "source": [
    "## **Atributos e Métodos Privados em Python:**"
   ]
  },
  {
   "cell_type": "markdown",
   "metadata": {},
   "source": [
    "### **Atributos Privados:**\n"
   ]
  },
  {
   "cell_type": "markdown",
   "metadata": {},
   "source": [
    "Em Python, a convenção para criar atributos privados é adicionar um sublinhado antes do nome do atributo. Embora isso não impeça o acesso direto ao atributo, é uma indicação para os desenvolvedores de que o atributo deve ser tratado como privado.\n",
    "\n",
    "```python\n",
    "class Carro:\n",
    "    def __init__(self, modelo):\n",
    "        self._modelo = modelo  # Atributo privado\n",
    "```\n",
    "\n",
    "Neste exemplo, `_modelo` é um atributo privado da classe `Carro`."
   ]
  },
  {
   "cell_type": "code",
   "execution_count": 4,
   "metadata": {
    "tags": []
   },
   "outputs": [],
   "source": [
    "#Simular"
   ]
  },
  {
   "cell_type": "markdown",
   "metadata": {},
   "source": [
    "### **Atributos Protegidos (Convenção):**\n"
   ]
  },
  {
   "cell_type": "markdown",
   "metadata": {},
   "source": [
    "Em Python, não há atributos completamente protegidos, mas para indicar que um atributo deve ser tratado como protegido, adicionamos dois sublinhados antes do nome do atributo. Esta é uma convenção que sugere aos desenvolvedores que o atributo não deve ser acessado diretamente fora da classe.\n",
    "\n",
    "```python\n",
    "class Pessoa:\n",
    "    def __init__(self, nome):\n",
    "        self.__nome = nome  # Atributo protegido\n",
    "```\n",
    "\n",
    "Neste exemplo, `__nome` é um atributo protegido da classe `Pessoa`.\n"
   ]
  },
  {
   "cell_type": "code",
   "execution_count": 5,
   "metadata": {
    "tags": []
   },
   "outputs": [],
   "source": [
    "#Simular"
   ]
  },
  {
   "cell_type": "markdown",
   "metadata": {},
   "source": [
    "### **Métodos Privados:**\n"
   ]
  },
  {
   "cell_type": "markdown",
   "metadata": {},
   "source": [
    "Métodos privados seguem a mesma convenção de nomes com um sublinhado antes do nome do método. No entanto, essa convenção também é apenas uma indicação para os desenvolvedores e não impede o acesso direto ao método.\n",
    "\n",
    "```python\n",
    "class ContaBancaria:\n",
    "    def __init__(self):\n",
    "        self.__saldo = 0  # Atributo privado\n",
    "    \n",
    "    def __verificar_saldo(self):  # Método privado\n",
    "        return self.__saldo\n",
    "```\n",
    "\n",
    "Neste exemplo, `__verificar_saldo()` é um método privado da classe `ContaBancaria`.\n",
    "\n",
    "**Observação:** Em Python, a filosofia é que os desenvolvedores são todos adultos responsáveis. A linguagem não força a encapsulação estrita; ela confia nos desenvolvedores para seguir convenções."
   ]
  },
  {
   "cell_type": "code",
   "execution_count": 6,
   "metadata": {
    "id": "Mi0K3zvoRwIO",
    "tags": []
   },
   "outputs": [],
   "source": [
    "#Simular"
   ]
  },
  {
   "cell_type": "markdown",
   "metadata": {
    "id": "aHcAbGbri1BC"
   },
   "source": []
  },
  {
   "cell_type": "markdown",
   "metadata": {
    "id": "slVksFJBRwRC",
    "tags": []
   },
   "source": [
    "## **Getters e Setters em Python:**\n"
   ]
  },
  {
   "cell_type": "markdown",
   "metadata": {},
   "source": [
    "### **Getters:**\n"
   ]
  },
  {
   "cell_type": "markdown",
   "metadata": {},
   "source": [
    "Getters são métodos que permitem obter o valor de um atributo privado. Embora seja possível acessar o atributo diretamente (em Python, não há uma imposição estrita de acesso privado), é uma boa prática usar getters para acessar atributos privados.\n",
    "\n",
    "```python\n",
    "class Pessoa:\n",
    "    def __init__(self, nome):\n",
    "        self.__nome = nome  # Atributo privado\n",
    "    \n",
    "    def get_nome(self):  # Getter\n",
    "        return self.__nome\n",
    "```\n",
    "\n",
    "Neste exemplo, `get_nome()` é um getter que permite acessar o atributo privado `__nome` da classe `Pessoa`.\n"
   ]
  },
  {
   "cell_type": "code",
   "execution_count": 8,
   "metadata": {
    "tags": []
   },
   "outputs": [],
   "source": [
    "# Simular"
   ]
  },
  {
   "cell_type": "markdown",
   "metadata": {},
   "source": [
    "### **Setters:**\n"
   ]
  },
  {
   "cell_type": "markdown",
   "metadata": {},
   "source": [
    "Setters são métodos que permitem modificar o valor de um atributo privado. Eles são úteis quando você deseja impor regras ou validações ao modificar um atributo.\n",
    "\n",
    "```python\n",
    "class Pessoa:\n",
    "    def __init__(self, nome):\n",
    "        self.__nome = nome  # Atributo privado\n",
    "    \n",
    "    def set_nome(self, novo_nome):  # Setter\n",
    "        if len(novo_nome) > 0:\n",
    "            self.__nome = novo_nome\n",
    "        else:\n",
    "            print(\"Nome inválido.\")\n",
    "```\n",
    "\n",
    "Neste exemplo, `set_nome()` é um setter que permite modificar o atributo privado `__nome` da classe `Pessoa` com validação.\n"
   ]
  },
  {
   "cell_type": "code",
   "execution_count": 10,
   "metadata": {
    "tags": []
   },
   "outputs": [],
   "source": [
    "#Simular"
   ]
  },
  {
   "cell_type": "code",
   "execution_count": null,
   "metadata": {},
   "outputs": [],
   "source": []
  },
  {
   "cell_type": "markdown",
   "metadata": {},
   "source": [
    "**Utilizando Getters e Setters:**\n"
   ]
  },
  {
   "cell_type": "markdown",
   "metadata": {
    "id": "0hSM_kDli1az",
    "tags": []
   },
   "source": [
    "```python\n",
    "pessoa = Pessoa(\"Alice\")\n",
    "print(pessoa.get_nome())  # Saída: Alice\n",
    "\n",
    "pessoa.set_nome(\"Bob\")\n",
    "print(pessoa.get_nome())  # Saída: Bob\n",
    "\n",
    "pessoa.set_nome(\"\")  # Saída: Nome inválido.\n",
    "print(pessoa.get_nome())  # Saída: Bob (não foi modificado)\n",
    "```\n",
    "\n",
    "No exemplo acima, `get_nome()` é usado para acessar o nome e `set_nome()` é usado para modificar o nome, com validação para garantir que o nome não seja vazio."
   ]
  },
  {
   "cell_type": "code",
   "execution_count": null,
   "metadata": {},
   "outputs": [],
   "source": [
    "#Simular"
   ]
  },
  {
   "cell_type": "code",
   "execution_count": null,
   "metadata": {},
   "outputs": [],
   "source": []
  }
 ],
 "metadata": {
  "colab": {
   "authorship_tag": "ABX9TyOiV864hshHbyc/g33hrg0i",
   "provenance": [],
   "toc_visible": true
  },
  "kernelspec": {
   "display_name": "Python 3 (ipykernel)",
   "language": "python",
   "name": "python3"
  },
  "language_info": {
   "codemirror_mode": {
    "name": "ipython",
    "version": 3
   },
   "file_extension": ".py",
   "mimetype": "text/x-python",
   "name": "python",
   "nbconvert_exporter": "python",
   "pygments_lexer": "ipython3",
   "version": "3.11.5"
  },
  "toc-autonumbering": true
 },
 "nbformat": 4,
 "nbformat_minor": 4
}
