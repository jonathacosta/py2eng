{
 "cells": [
  {
   "cell_type": "code",
   "execution_count": 23,
   "id": "b99ccc8e-dd18-4016-96ef-c121439db3cc",
   "metadata": {
    "tags": []
   },
   "outputs": [],
   "source": [
    "lst1=[[1,2,3],9,[3,4,6]]\n",
    "a=10;\n"
   ]
  },
  {
   "cell_type": "code",
   "execution_count": 24,
   "id": "4979a4f7-c412-4f9c-ab25-e11822e0b538",
   "metadata": {
    "tags": []
   },
   "outputs": [
    {
     "data": {
      "text/plain": [
       "[[1, 2, 3], 9, [3, 4, 6]]"
      ]
     },
     "execution_count": 24,
     "metadata": {},
     "output_type": "execute_result"
    }
   ],
   "source": [
    "lst1"
   ]
  },
  {
   "cell_type": "code",
   "execution_count": 33,
   "id": "78ec6b3f-861f-41f7-8f28-9fd71187b469",
   "metadata": {
    "tags": []
   },
   "outputs": [],
   "source": [
    "a=10;\n",
    "lst2= a * lst1[0][:2]\n",
    " \n"
   ]
  },
  {
   "cell_type": "code",
   "execution_count": 38,
   "id": "138602aa-58f9-4c80-8770-ee03dd91ff5b",
   "metadata": {
    "tags": []
   },
   "outputs": [
    {
     "name": "stdout",
     "output_type": "stream",
     "text": [
      "False\n"
     ]
    }
   ],
   "source": [
    "print(5 in lst1)"
   ]
  },
  {
   "cell_type": "code",
   "execution_count": 15,
   "id": "7d309029-18e8-43b7-86cf-d63cd0b0dc6c",
   "metadata": {
    "tags": []
   },
   "outputs": [
    {
     "ename": "NameError",
     "evalue": "name 'shape' is not defined",
     "output_type": "error",
     "traceback": [
      "\u001b[0;31m---------------------------------------------------------------------------\u001b[0m",
      "\u001b[0;31mNameError\u001b[0m                                 Traceback (most recent call last)",
      "Cell \u001b[0;32mIn[15], line 1\u001b[0m\n\u001b[0;32m----> 1\u001b[0m shape(lst2)\n",
      "\u001b[0;31mNameError\u001b[0m: name 'shape' is not defined"
     ]
    }
   ],
   "source": [
    "shape(lst2)"
   ]
  },
  {
   "cell_type": "code",
   "execution_count": null,
   "id": "45a99b13-1a5a-4f2c-8228-24b256535ab3",
   "metadata": {},
   "outputs": [],
   "source": []
  }
 ],
 "metadata": {
  "kernelspec": {
   "display_name": "Python 3 (ipykernel)",
   "language": "python",
   "name": "python3"
  },
  "language_info": {
   "codemirror_mode": {
    "name": "ipython",
    "version": 3
   },
   "file_extension": ".py",
   "mimetype": "text/x-python",
   "name": "python",
   "nbconvert_exporter": "python",
   "pygments_lexer": "ipython3",
   "version": "3.11.5"
  }
 },
 "nbformat": 4,
 "nbformat_minor": 5
}
