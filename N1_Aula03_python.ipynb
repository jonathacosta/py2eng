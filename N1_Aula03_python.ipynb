{
 "cells": [
  {
   "cell_type": "markdown",
   "metadata": {
    "id": "asx887spoo_z"
   },
   "source": [
    "# **Curso de Python - N1**\n",
    " - Prof. Jonatha Costa"
   ]
  },
  {
   "cell_type": "markdown",
   "metadata": {
    "id": "2dpFZAPvu2Td"
   },
   "source": [
    "# **Estruturas de Controle:**\n",
    "\n",
    "- São ferramentas essenciais na programação que permitem controlar o fluxo de execução do código. Em Python, existem estruturas de controle condicionais (if, else, elif) e estruturas de repetição (for e while). Vamos entender cada uma delas:"
   ]
  },
  {
   "cell_type": "markdown",
   "metadata": {
    "id": "2sWy0I0NJTbO"
   },
   "source": [
    "## 1. **`if`, `else` e `elif` (Condicional):**\n",
    "A estrutura condicional `if` é usada para executar um bloco de código se uma determinada condição for verdadeira. O `else` é usado para executar um bloco de código quando a condição no `if` não é verdadeira. O `elif` é uma combinação de `else` e `if` e é usado para verificar várias condições.\n",
    "\n",
    "```python\n",
    "idade = 20\n",
    "\n",
    "if idade < 18:\n",
    "    print(\"Menor de idade\")\n",
    "elif idade >= 18 and idade < 60:\n",
    "    print(\"Adulto\")\n",
    "else:\n",
    "    print(\"Idoso\")\n",
    "```\n",
    "\n",
    "Neste exemplo, o programa verifica a idade e imprime uma mensagem adequada com base na condição.\n",
    "\n",
    "\n",
    "```python\n",
    "idade = 20\n",
    "\n",
    "if (idade < 17) or (idade==17):\n",
    "    print(\"Menor de idade\")\n",
    "elif idade >= 18 and idade < 60:\n",
    "    print(\"Adulto\")\n",
    "else:\n",
    "    print(\"Idoso\")\n",
    "```\n",
    "Neste exemplo, o programa verifica a idade utilizando duas condições simultâneas com lógica 'ou' (or).\n",
    "\n",
    "```python\n",
    "disciplina=\"Linguagem de Programação\";\n",
    "nota=8\n",
    "semestre=3;\n",
    "\n",
    "if (disciplina == \"Linguagem de Programação\") and (nota>=8) and (semestre !=2):\n",
    "    print(f'Aprovado em {disciplina} com nota {nota}, semestre {semestre}')\n",
    "else:\n",
    "    print('Procure sua coordenação de curso')    \n",
    "```\n",
    "\n",
    "Explique o que esse código faz!\n",
    "\n",
    "### Estruturas de Repetição:\n",
    "\n",
    "#### 2. **`for` (Loop `for`):**\n",
    "O loop `for` é usado para iterar sobre uma sequência (como uma lista, tupla, string) ou outros objetos iteráveis. Ele executa um bloco de código para cada item na sequência.\n",
    "\n",
    "```python\n",
    "nomes = [\"Alice\", \"Bob\", \"Charlie\"]\n",
    "\n",
    "for nome in nomes:\n",
    "    print(nome)\n",
    "```\n",
    "\n",
    "#### 2.1 **Comando for combinado com lista:**\n",
    "\n",
    "O nome específico desta estrutura é *compreensão de lista*, ou *list comprehension* em inglês. Uma maneira concisa e poderosa de criar listas em Python. É uma técnica que permite criar novas listas a partir de iteráveis existentes (como listas, tuplas, conjuntos, etc.) de uma maneira mais compacta e legível.\n",
    "\n",
    "A estrutura básica da *list comprehension* em português seria:\n",
    "\n",
    "```\n",
    "[expressão for item in iterável if condição]\n",
    "\n",
    "quadrados = [x**2 for x in range(10)]\n",
    "\n",
    "[0, 1, 4, 9, 16, 25, 36, 49, 64, 81]\n",
    "\n",
    "```\n",
    "\n",
    "Execute, observe, analise, conclua e explique!\n",
    "\n",
    "\n",
    "```\n",
    "quadrados_pares = [x**2 for x in range(10) if x % 2 == 0]\n",
    "```\n",
    "Execute, observe, analise, conclua e explique!\n",
    "\n",
    "\n",
    "#### 2.2 **`for` aninhado:**\n",
    "\n",
    "**Observe** o código a seguir, **analise** as estruturas com 'for', **conclua** a sintaxe e semântica, e **avalie** suas conclusões com novos testes e simulações.\n",
    "\n",
    "```\n",
    "matriz = [[0, 0, 0], [0, 0, 0], [0, 0, 0]]\n",
    "contador = 1\n",
    "for i in range(3):\n",
    "    for j in range(3):\n",
    "        matriz[i][j] = contador\n",
    "        contador += 1\n",
    "\n",
    "for linha in matriz:\n",
    "    print(linha)\n",
    "```\n",
    "\n",
    "Você é capaz de alterar esse código para que os valores da matriz sejam nulos quando os índices das linhas e colunas forem iguais entre si? Prove!\n",
    "\n",
    "#### 2.3 **`for` chamada e referência:**\n",
    "\n",
    "**Observe** o código a seguir, **analise** as estruturas com 'for', **conclua** a sintaxe e semântica, e **avalie** suas conclusões com novos testes e simulações.\n",
    "\n",
    "```\n",
    "dec=list(\"Estudar linguagem de programação é fundamental\")\n",
    "for i,j in enumerate(dec):\n",
    "    print(f\"{i}->{j}\")\n",
    "\n",
    "```\n",
    "\n",
    "#### 2.4 **comando for com dicionário:**\n",
    "\n",
    "**Observe** o código a seguir, **analise** as estruturas com 'for', **conclua** a sintaxe e semântica, e **avalie** suas conclusões com novos testes e simulações.\n",
    "\n",
    "```python\n",
    "dic_alunos={'João':70,'Maria':60,'José':90,'Rute':68}\n",
    "dic_alunos_status={k:v for (k,v) in dic_alunos.items()}\n",
    "print(dic_alunos_status)\n",
    "```\n",
    "Dica de leitura em sintaxe:\n",
    "*Retorne k,v para cada k,v nos itens do dic_alunos*\n",
    "\n",
    "\n",
    "**Observe** o código a seguir, **analise** as estruturas com 'for', **conclua** a sintaxe e semântica, e **avalie** suas conclusões com novos testes e simulações.\n",
    "\n",
    "```python\n",
    "dic_alunos={'João':70,'Maria':60,'José':90,'Rute':68}\n",
    "dic_alunos_status={k:(\"aprovada\" if v>70 else \"reprovado\") for (k,v) in dic_alunos.items()}\n",
    "print(dic_alunos_status)\n",
    "```\n",
    "#### 3. **`while` (Loop `while`):**\n",
    "O loop `while` é usado para repetir um bloco de código enquanto uma condição é verdadeira. Ele executa o bloco de código enquanto a condição fornecida for verdadeira.\n",
    "\n",
    "```python\n",
    "contador = 1\n",
    "\n",
    "while contador <= 5:\n",
    "    print(contador)\n",
    "    contador += 1\n",
    "```\n",
    "\n",
    "Neste exemplo, o loop `while` imprime números de 1 a 5, incrementando o contador em cada iteração.\n",
    "\n",
    "**Dicas Adicionais:**\n",
    "- Use `break` para sair de um loop antes que ele seja concluído.\n",
    "- Use `continue` para pular a iteração atual e ir para a próxima iteração do loop.\n",
    "\n",
    "Essas estruturas de controle são fundamentais para controlar o fluxo do seu programa, permitindo que você tome decisões com base em condições e execute repetidamente blocos de código."
   ]
  },
  {
   "cell_type": "markdown",
   "metadata": {
    "id": "9tT598Wh5ZJJ"
   },
   "source": [
    "# Exercícios"
   ]
  },
  {
   "cell_type": "markdown",
   "metadata": {
    "id": "nGivZPID7jCc"
   },
   "source": [
    "## **1.0 Exercícios de 'if'**"
   ]
  },
  {
   "cell_type": "markdown",
   "metadata": {
    "id": "67XdWKAP7A6O"
   },
   "source": [
    "\n",
    "\n",
    "- Escreva um código que leia uma nota e verifique se aprovado ou reprovado,\n",
    "considerando a nota de aprovação (6,0).\n",
    "-  Escreva um código que leia duas notas, calcule a média aritmética e verifique se o aluno está aprovado ou reprovado (6,0)\n",
    "- Escreva um código que leia duas notas, calcule a média ponderada e verifique se o aluno foi aprovado ou reprovado (6,0). (Utilize peso nota1 = 2 e peso nota2 = 3)\n",
    "- Escreva um código que leia 5 valores, encontre o maior, menor e média utilizando números inteiros (int).\n",
    "- Escreva um código que leia 5 valores, encontre o maior, menor e média utilizando números reais (float).\n"
   ]
  },
  {
   "cell_type": "markdown",
   "metadata": {
    "id": "zyGV6FvX7olT"
   },
   "source": [
    "## **2.0 Exercícios de 'adicionais'**\n",
    "Exercícios de equivalência ao comando 'switch'"
   ]
  },
  {
   "cell_type": "markdown",
   "metadata": {
    "id": "L-rbWxn98byF"
   },
   "source": [
    "- Escreva um código para ler uma letra e verificar se é uma vogal ou não;\n",
    "- Escreva um código que imprima um mês de acordo com o número digitado pelo usuário e informe se o número não tem mês correspondente ou não. (Use o calendário gregoriano);\n",
    "- Escreva um código que leia um número entre 0 e 10, e escreva este número por extenso.\n",
    "- Escreva um código que receba um dígito e informe se é uma pontução identificando-o (. : ;  ! ? ).\n",
    "- Escreva um código que receba o preço de um produto e o tipo de pagamento. Apresente o preço líquido com desconto de 10\\% para pagamento à vista, 5\\% para pagamento no cartão em 1 vez e acréscimo de 10\\% se parcelado."
   ]
  },
  {
   "cell_type": "markdown",
   "metadata": {
    "id": "H2jKGTu_797s"
   },
   "source": [
    "## **3.0 Exercícios de 'while'**"
   ]
  },
  {
   "cell_type": "markdown",
   "metadata": {
    "id": "BmdFjxW99JrU"
   },
   "source": [
    "- Escreva um código que mostre todos os números ímpares de 1 até 100;\n",
    "- Escreva um código que leia um número e verifica se é um número primo.\n",
    "- Escreva um código que solicite um número ao usuário, e mostre sua tabuada completa (de 1 até 10);\n",
    "- Escreva um código que solicite 10 números ao usuário, através de um laço while, e ao final mostre qual destes números é o maior;\n",
    "- Escreva um código que leia 10 números e escreva a diferença entre o maior e o menor valor lido;\n",
    "- Escreva um código que imprima todos os divisores de um número inteiro positivo."
   ]
  },
  {
   "cell_type": "markdown",
   "metadata": {
    "id": "bWP_loop8E5Q"
   },
   "source": [
    "## **4.0 Exercícios de 'for'**"
   ]
  },
  {
   "cell_type": "markdown",
   "metadata": {
    "id": "fl7dXbJP8_hG"
   },
   "source": [
    "- Escreva um código que faça uma contagem regressiva de 10 até 1.\n",
    "- Escreva um código que leia a idade de 10 pessoas e imprima quantas são maiores de idade;\n",
    "- Escreva um código que leia a idade e o peso de 8 pessoas. Calcule e imprima as médias de peso das pessoas da mesma faixa etária e quantas são de cada faixa etária. As faixas são de 1 a 10 anos, de 11-20, de  21-30 e maiores de 30;\n",
    "- Escreva um código que calcule o fatorial de um número;\n",
    "- Escreva um código que imprima todos os divisores de um número, usando o laço for;\n",
    "- Escreva um código que calcule a soma de todos os números pares dos números entre 1 e 100."
   ]
  },
  {
   "cell_type": "markdown",
   "metadata": {
    "id": "eaHKl3b7U-TY"
   },
   "source": [
    "## **Exercícios adicionais**\n",
    "\n",
    "- Escreva um código que realize a conversão de um número entre os seguintes sistemas de numeração:\n",
    "    - de decimal para binário;\n",
    "    - de decimal para octal;\n",
    "    - de decimal para hexadecimal;\n",
    "    - de binário para octal;\n",
    "    - de binário para decimal;\n",
    "    - de binário para hexadecimal;\n",
    "    \n",
    "- Escreva um código que recebe uma lista de números aletórios e reorganizado a lista em ordem crescente;"
   ]
  },
  {
   "cell_type": "markdown",
   "metadata": {
    "id": "uo5Qt3ZQb9pB",
    "tags": []
   },
   "source": [
    "# Soluções com versões distintas\n",
    "```\n",
    "Código recebe 5 valores e retorna o menor e maior valor dentre esses.\n",
    "```"
   ]
  },
  {
   "cell_type": "markdown",
   "metadata": {
    "id": "O1dIVhjwckrK",
    "tags": []
   },
   "source": [
    "## V00"
   ]
  },
  {
   "cell_type": "markdown",
   "metadata": {
    "id": "EYUX_P_2cbO1"
   },
   "source": [
    "```python\n",
    "#%% Versão 00, para iniciantes\n",
    "# ATENÇÃO: HÁ DUAS LIMITAÇÕES NESSE CÓDIGO!\n",
    "# =============================================================================\n",
    "#   Recebendo os dados\n",
    "a=int(input(f\"Informe um valor para 'x_{1}': \"))\n",
    "b=int(input(f\"Informe um valor para 'x_{2}': \"))\n",
    "c=int(input(f\"Informe um valor para 'x_{3}': \"))\n",
    "d=int(input(f\"Informe um valor para 'x_{4}': \"))\n",
    "e=int(input(f\"Informe um valor para 'x_{5}': \"))\n",
    "# Definindo o menor valor\n",
    "# Seja menor = 100\n",
    "'''\n",
    "Código recebe 5 valores e retorna o menor e maior valor dentre esses.\n",
    "'''\n",
    "#%% Versão 00, para iniciantes.\n",
    "# =============================================================================\n",
    "#   Recebendo os dados\n",
    "a=int(input(f\"Informe um valor para 'x_{1}': \"))\n",
    "b=int(input(f\"Informe um valor para 'x_{2}': \"))\n",
    "c=int(input(f\"Informe um valor para 'x_{3}': \"))\n",
    "d=int(input(f\"Informe um valor para 'x_{4}': \"))\n",
    "e=int(input(f\"Informe um valor para 'x_{5}': \"))\n",
    "# Definindo o menor valor\n",
    "# Seja menor = 100\n",
    "menor= 100\n",
    "if a<menor:\n",
    "    menor=a\n",
    "elif b<menor:\n",
    "    menor=b\n",
    "elif c<menor:\n",
    "    menor=c\n",
    "elif d<menor:\n",
    "    menor=d    \n",
    "else:\n",
    "    menor=e    \n",
    "# Definindo um maior valor\n",
    "# Seja maior = -100\n",
    "maior= 100\n",
    "if a>maior:\n",
    "    maior=a\n",
    "elif b>maior:\n",
    "    maior=b\n",
    "elif c>maior:\n",
    "    maior=c\n",
    "elif d>maior:\n",
    "    maior=d    \n",
    "else:\n",
    "    maior=e  \n",
    "# Calculando a media aritmética\n",
    "media = sum([a,b,c,d,e]) / 5\n",
    "# Exibindo os resultados\n",
    "print(f'\\nO menor valor da série é {menor},o maior valor é {maior} e a média é {media}.')\n",
    "# Calculando a media aritmética\n",
    "media = sum([a,b,c,d,e]) / 5\n",
    "# Exibindo os resultados\n",
    "print(f'\\nO menor valor da série é {menor},o maior valor é {maior} e a média é {media}.')\n",
    "\n",
    "```\n",
    "\n",
    "\n",
    "* NOTA:*\n",
    "- Entrada de dados deve ser ascendente e valor do menor valor deve ser inferior a 100, e "
   ]
  },
  {
   "cell_type": "markdown",
   "metadata": {
    "id": "sGkaWECndmxx",
    "jp-MarkdownHeadingCollapsed": true,
    "tags": []
   },
   "source": [
    "## V01"
   ]
  },
  {
   "cell_type": "markdown",
   "metadata": {
    "id": "oH78ApjPcoih"
   },
   "source": [
    "```python\n",
    "#%% Versão 01- versão 00 otimizada.\n",
    "# =============================================================================\n",
    "# Definindo os variaveis auxiliares\n",
    "x=[0,0,0,0,0]\n",
    "# Recebendo os valores\n",
    "for i in range(5):\n",
    "    x[i]=int(input(f\"Informe um valor para 'x_{i}': \"))\n",
    "#Definindo um mesmo valores para menor e maior\n",
    "menor, maior = x[0],x[0]\n",
    "\n",
    "#Atualizando o valor de menor\n",
    "for i in range(5):\n",
    "    if x[i]<menor:\n",
    "        menor=x[i]\n",
    "#Atualizando o valor de maior\n",
    "for i in range(5):\n",
    "    if x[i]> maior:\n",
    "        maior=x[i]\n",
    "#Calculando a media\n",
    "media = sum(x) / 5\n",
    "# Exibindo os resultados\n",
    "print(f'\\nO menor valor da série é {menor},o maior valor é {maior} e a média é {media}.')\n",
    "\n",
    "```"
   ]
  },
  {
   "cell_type": "markdown",
   "metadata": {
    "id": "eKTQMjcsdu0j",
    "jp-MarkdownHeadingCollapsed": true,
    "tags": []
   },
   "source": [
    "## V02"
   ]
  },
  {
   "cell_type": "markdown",
   "metadata": {
    "id": "zCx_AM-Wcok9"
   },
   "source": [
    "```python\n",
    "# Versão 02- versão 01 otimizada.\n",
    "# =============================================================================\n",
    "# Definindo os variaveis auxiliares\n",
    "x=[0,0,0,0,0]\n",
    "# Recebendo os valores\n",
    "for i in range(5):\n",
    "    x[i]=int(input(f\"Informe um valor para 'x_{i}': \"))\n",
    "#Definindo um mesmo valores para menor e maior\n",
    "menor, maior = x[0],x[0]\n",
    "#Atualizando o valor de menor\n",
    "for i in range(5):\n",
    "    if x[i]< menor: menor=x[i]\n",
    "    if x[i]> maior: maior=x[i]\n",
    "#Calculando a media\n",
    "media = sum(x) / 5\n",
    "# Exibindo os resultados\n",
    "print(f'\\nO menor valor da série é {menor},o maior valor é {maior} e a média é {media}.')\n",
    "```"
   ]
  },
  {
   "cell_type": "markdown",
   "metadata": {
    "id": "ZIJ3fCVCd2RU",
    "jp-MarkdownHeadingCollapsed": true,
    "tags": []
   },
   "source": [
    "## V03"
   ]
  },
  {
   "cell_type": "markdown",
   "metadata": {
    "id": "mg0f51zaconG"
   },
   "source": [
    "```python\n",
    "#%% Versão 03- versão 02 otimizada.\n",
    "# =============================================================================\n",
    "# Definindo os variaveis auxiliares\n",
    "x=[0,0,0,0,0]\n",
    "# Recebendo os valores\n",
    "for i in range(len(x)):\n",
    "    x[i]=int(input(f\"Informe um valor para 'x_{i}': \"))\n",
    "#Definindo um mesmo valores para menor e maior\n",
    "menor, maior = x[0],x[0]\n",
    "#Atualizando o valor de menor\n",
    "for i in range(len(x)):\n",
    "    if x[i]< menor: menor=x[i]\n",
    "    if x[i]> maior: maior=x[i]\n",
    "#Calculando a media\n",
    "media = sum(x) / len(x)\n",
    "# Exibindo os resultados\n",
    "print(f'\\nO menor valor da série é {menor},o maior valor é {maior} e a média é {media}.')\n",
    "\n",
    "\n",
    "```"
   ]
  },
  {
   "cell_type": "markdown",
   "metadata": {
    "id": "1lASfG5md7HJ",
    "jp-MarkdownHeadingCollapsed": true,
    "tags": []
   },
   "source": [
    "## V04"
   ]
  },
  {
   "cell_type": "markdown",
   "metadata": {
    "id": "8nE3UjIFcopj"
   },
   "source": [
    "```python\n",
    "#%% Versão 04- versão 03 otimizada.\n",
    "# =============================================================================\n",
    "# Definindo os variaveis auxiliares\n",
    "comp=int(input('Informe quantos elementos deseja analisar: '))\n",
    "x=[]\n",
    "# Recebendo os valores\n",
    "for i in range(comp):\n",
    "    x.append(int(input(f\"Informe um valor para 'x_{i}': \")))\n",
    "#Definindo um mesmo valores para menor e maior\n",
    "menor, maior = x[0],x[0]\n",
    "#Atualizando o valor de menor\n",
    "for i in range(len(x)):\n",
    "    if x[i]< menor: menor=x[i]\n",
    "    if x[i]> maior: maior=x[i]\n",
    "#Calculando a media\n",
    "media = sum(x) / len(x)\n",
    "# Exibindo os resultados\n",
    "print(f'\\nO menor valor da série é {menor},o maior valor é {maior} e a média é {media}.')\n",
    "\n",
    "\n",
    "```"
   ]
  },
  {
   "cell_type": "markdown",
   "metadata": {
    "id": "CcSChttweD0E",
    "jp-MarkdownHeadingCollapsed": true,
    "tags": []
   },
   "source": [
    "## V05"
   ]
  },
  {
   "cell_type": "markdown",
   "metadata": {
    "id": "byIfXcPScwx9"
   },
   "source": [
    "```python\n",
    "#%% Versão 05- versão 04 otimizada.\n",
    "# =============================================================================\n",
    "# Recebendo os valores\n",
    "comp=int(input('Informe quantos elementos deseja analisar: '))\n",
    "x=[int(input(f\"Informe o valor do elemento'{i+1}': \")) for i in range(comp)]\n",
    "#Definindo o valor de menor e maior\n",
    "x.sort();\n",
    "menor,maior = x[0], x[-1]\n",
    "#Calculando a media\n",
    "media = sum(x) / len(x)\n",
    "# Exibindo os resultados\n",
    "print(f'\\nO menor valor da série é {menor},o maior valor é {maior} e a média é {media}.')\n",
    "\n",
    "\n",
    "```"
   ]
  },
  {
   "cell_type": "markdown",
   "metadata": {
    "id": "KQ_A_OKceJrY",
    "jp-MarkdownHeadingCollapsed": true,
    "tags": []
   },
   "source": [
    "## V06"
   ]
  },
  {
   "cell_type": "markdown",
   "metadata": {
    "id": "ttGdW9A3cw4-"
   },
   "source": [
    "```python\n",
    "#%% Versão 06- versão 05 otimizada.\n",
    "# =============================================================================\n",
    "# Recebendo os valores\n",
    "comp=int(input('Informe quantos elementos deseja analisar: '))\n",
    "x=[int(input(f\"Informe o valor do elemento'{i+1}': \")) for i in range(comp)]\n",
    "#Definindo o valor de menor e maior\n",
    "media = sum(x) / len(x)\n",
    "menor,maior = min(x), max(x)\n",
    "# Exibindo os resultados\n",
    "print(f'\\nO menor valor da série é {menor},o maior valor é {maior} e a média é {sum(x)/len(x)}.')\n",
    "\n",
    "\n",
    "```"
   ]
  }
 ],
 "metadata": {
  "colab": {
   "authorship_tag": "ABX9TyMlnS+PhqX/pnQTiAInw+oL",
   "cell_execution_strategy": "setup",
   "provenance": []
  },
  "kernelspec": {
   "display_name": "Python 3 (ipykernel)",
   "language": "python",
   "name": "python3"
  },
  "language_info": {
   "codemirror_mode": {
    "name": "ipython",
    "version": 3
   },
   "file_extension": ".py",
   "mimetype": "text/x-python",
   "name": "python",
   "nbconvert_exporter": "python",
   "pygments_lexer": "ipython3",
   "version": "3.11.5"
  }
 },
 "nbformat": 4,
 "nbformat_minor": 4
}
