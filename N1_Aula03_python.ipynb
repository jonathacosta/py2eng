{
 "cells": [
  {
   "cell_type": "markdown",
   "metadata": {
    "id": "asx887spoo_z",
    "jp-MarkdownHeadingCollapsed": true,
    "tags": []
   },
   "source": [
    "# **Curso de Python - N1**\n",
    " - Prof. Jonatha Costa"
   ]
  },
  {
   "cell_type": "markdown",
   "metadata": {
    "id": "2dpFZAPvu2Td",
    "tags": []
   },
   "source": [
    "# **Estruturas de Controle:**\n",
    "\n",
    "- São ferramentas essenciais na programação que permitem controlar o fluxo de execução do código. Em Python, existem estruturas de controle condicionais (if, else, elif) e estruturas de repetição (for e while). "
   ]
  },
  {
   "cell_type": "markdown",
   "metadata": {
    "tags": []
   },
   "source": [
    "## 1. **`if`, `else` e `elif` (Condicional):**\n"
   ]
  },
  {
   "cell_type": "markdown",
   "metadata": {},
   "source": [
    "A estrutura condicional `if` é usada para executar um bloco de código se uma determinada condição for verdadeira. O `else` é usado para executar um bloco de código quando a condição no `if` não é verdadeira. O `elif` é uma combinação de `else` e `if` e é usado para verificar várias condições.\n",
    "\n",
    "### **Utilizando o 'if' em modo independente:**\n",
    "```python\n",
    "idade = 20\n",
    "if idade < 18: print(\"Menor de idade\")\n",
    "if idade >= 18: print(\"Maior de idade\")\n",
    "```\n",
    "### **Utilizando apenas o 'if' com 'else':**\n",
    "```python\n",
    "idade = 20\n",
    "if idade < 18:\n",
    "    print(\"Menor de idade\")\n",
    "else:\n",
    "    print(\"Adulto\")\n",
    "```\n",
    "### **Utilizando apenas o 'if' com 'elif' com 'else':**\n",
    "```python\n",
    "idade = 20\n",
    "if idade < 18:\n",
    "    print(\"Menor de idade\")\n",
    "elif idade >= 18 and idade < 60:\n",
    "    print(\"Adulto\")\n",
    "else:\n",
    "    print(\"Idoso\")\n",
    "```\n",
    "\n",
    "### **Utilizando o 'if' como operador 'true' or 'false':**\n",
    "\n",
    "```python\n",
    "letra=input('Digite uma letra:')\n",
    "if letra.lower() in 'aeiou':     # letra.lower() converte a string letra para minúsculo\n",
    "    print('A letra informada é uma vogal')\n",
    "```\n",
    "> Explore funções adicionais utilizando \"letra.\" + tecla tab.\n",
    "\n",
    "   "
   ]
  },
  {
   "cell_type": "code",
   "execution_count": 9,
   "metadata": {
    "tags": []
   },
   "outputs": [
    {
     "name": "stdout",
     "output_type": "stream",
     "text": [
      "maior\n"
     ]
    }
   ],
   "source": [
    "idade = 21\n",
    "if idade < 18:\n",
    "    print(\"Menor de idade\")\n",
    "else:\n",
    "    print('maior')"
   ]
  },
  {
   "cell_type": "markdown",
   "metadata": {
    "tags": []
   },
   "source": [
    "# **Estruturas de Repetição:**\n"
   ]
  },
  {
   "cell_type": "markdown",
   "metadata": {
    "tags": []
   },
   "source": [
    "## 2. **`for` (Loop `for`):**\n"
   ]
  },
  {
   "cell_type": "markdown",
   "metadata": {
    "id": "2sWy0I0NJTbO",
    "jp-MarkdownHeadingCollapsed": true,
    "tags": []
   },
   "source": [
    "O loop `for` é usado para iterar sobre uma sequência (como uma lista, tupla, string) ou outros objetos iteráveis. Ele executa um bloco de código para cada item na sequência.\n",
    "\n",
    "```python\n",
    "nomes = [\"Alice\", \"Bob\", \"Charlie\"]\n",
    "\n",
    "for nome in nomes:\n",
    "    print(nome)\n",
    "```\n",
    "\n",
    "#### 2.1 **Comando for combinado com lista:**\n",
    "\n",
    "O nome específico desta estrutura é *compreensão de lista*, ou *list comprehension* em inglês. Uma maneira concisa e poderosa de criar listas em Python. É uma técnica que permite criar novas listas a partir de iteráveis existentes (como listas, tuplas, conjuntos, etc.) de uma maneira mais compacta e legível.\n",
    "\n",
    "A estrutura básica da *list comprehension* em português seria:\n",
    "\n",
    "```\n",
    "[expressão for item in iterável if condição]\n",
    "\n",
    "quadrados = [x**2 for x in range(10)]\n",
    "\n",
    "[0, 1, 4, 9, 16, 25, 36, 49, 64, 81]\n",
    "\n",
    "```\n",
    "\n",
    "Execute, observe, analise, conclua e explique!\n",
    "\n",
    "\n",
    "```\n",
    "quadrados_pares = [x**2 for x in range(10) if x % 2 == 0]\n",
    "```\n",
    "Execute, observe, analise, conclua e explique!\n",
    "\n",
    "\n",
    "#### 2.2 **`for` aninhado:**\n",
    "\n",
    "**Observe** o código a seguir, **analise** as estruturas com 'for', **conclua** a sintaxe e semântica, e **avalie** suas conclusões com novos testes e simulações.\n",
    "\n",
    "```\n",
    "matriz = [[0, 0, 0], [0, 0, 0], [0, 0, 0]]\n",
    "contador = 1\n",
    "for i in range(3):\n",
    "    for j in range(3):\n",
    "        matriz[i][j] = contador\n",
    "        contador += 1\n",
    "\n",
    "for linha in matriz:\n",
    "    print(linha)\n",
    "```\n",
    "\n",
    "Você é capaz de alterar esse código para que os valores da matriz sejam nulos quando os índices das linhas e colunas forem iguais entre si? Prove!\n",
    "\n",
    "#### 2.3 **`for` chamada e referência:**\n",
    "\n",
    "**Observe** o código a seguir, **analise** as estruturas com 'for', **conclua** a sintaxe e semântica, e **avalie** suas conclusões com novos testes e simulações.\n",
    "\n",
    "```\n",
    "dec=list(\"Estudar linguagem de programação é fundamental\")\n",
    "for i,j in enumerate(dec):\n",
    "    print(f\"{i}->{j}\")\n",
    "\n",
    "```\n",
    "\n",
    "#### 2.4 **comando for com dicionário:**\n",
    "\n",
    "**Observe** o código a seguir, **analise** as estruturas com 'for', **conclua** a sintaxe e semântica, e **avalie** suas conclusões com novos testes e simulações.\n",
    "\n",
    "```python\n",
    "dic_alunos={'João':70,'Maria':60,'José':90,'Rute':68}\n",
    "dic_alunos_status={k:v for (k,v) in dic_alunos.items()}\n",
    "print(dic_alunos_status)\n",
    "```\n",
    "Dica de leitura em sintaxe:\n",
    "*Retorne k,v para cada k,v nos itens do dic_alunos*\n",
    "\n",
    "\n",
    "**Observe** o código a seguir, **analise** as estruturas com 'for', **conclua** a sintaxe e semântica, e **avalie** suas conclusões com novos testes e simulações.\n",
    "\n",
    "```python\n",
    "dic_alunos={'João':70,'Maria':60,'José':90,'Rute':68}\n",
    "dic_alunos_status={k:(\"aprovada\" if v>70 else \"reprovado\") for (k,v) in dic_alunos.items()}\n",
    "print(dic_alunos_status)\n",
    "```\n"
   ]
  },
  {
   "cell_type": "markdown",
   "metadata": {
    "tags": []
   },
   "source": [
    "## 3. **`while` (Loop `while`):**\n"
   ]
  },
  {
   "cell_type": "markdown",
   "metadata": {},
   "source": [
    "O loop `while` é usado para repetir um bloco de código enquanto uma condição é verdadeira. Ele executa o bloco de código enquanto a condição fornecida for verdadeira.\n",
    "\n",
    "```python\n",
    "contador = 1\n",
    "\n",
    "while contador <= 5:\n",
    "    print(contador)\n",
    "    contador += 1\n",
    "```\n",
    "\n",
    "Neste exemplo, o loop `while` imprime números de 1 a 5, incrementando o contador em cada iteração.\n",
    "\n",
    "**Dicas Adicionais:**\n",
    "- Use `break` para sair de um loop antes que ele seja concluído.\n",
    "- Use `continue` para pular a iteração atual e ir para a próxima iteração do loop.\n",
    "\n",
    "Essas estruturas de controle são fundamentais para controlar o fluxo do seu programa, permitindo que você tome decisões com base em condições e execute repetidamente blocos de código."
   ]
  },
  {
   "cell_type": "markdown",
   "metadata": {
    "id": "9tT598Wh5ZJJ"
   },
   "source": [
    "# Exercícios"
   ]
  },
  {
   "cell_type": "markdown",
   "metadata": {
    "id": "nGivZPID7jCc",
    "tags": []
   },
   "source": [
    "## **1.0 Exercícios de 'if'**"
   ]
  },
  {
   "cell_type": "markdown",
   "metadata": {
    "id": "67XdWKAP7A6O"
   },
   "source": [
    "1. Escreva um código que leia duas notas, calcule a média e verifique se o aluno está aprovado ou reprovado (7,0)\n",
    "2. Escreva um código que leia duas notas, calcule a média ponderada e verifique se o aluno foi aprovado ou reprovado (7,0).(Use peso nota1 = 2 e peso nota2 = 3).\n",
    "3. Escreva um código que leia 5 valores, encontre o maior, menor e média utilizando números reais (float).\n",
    "4. Escreva um código para ler uma letra e verificar se é uma vogal ou não;\n",
    "5. Escreva um código que imprima um mês de acordo com o número digitado pelo usuário e informe se o número não tem mês correspondente ou não. (Use o calendário gregoriano);\n",
    "6. Escreva um código que leia um número entre 0 e 10, e escreva este número por extenso.\n",
    "7. Escreva um código que receba um dígito e informe se é uma pontução identificando-o (. : ;  ! ? ).\n",
    "8. Escreva um código que receba o preço de um produto e o tipo de pagamento. Apresente o preço líquido com desconto de 10\\% para pagamento à vista, 5\\% para pagamento no cartão em 1 vez e acréscimo de 10\\% se parcelado.\n"
   ]
  },
  {
   "cell_type": "code",
   "execution_count": null,
   "metadata": {},
   "outputs": [],
   "source": []
  },
  {
   "cell_type": "markdown",
   "metadata": {
    "id": "H2jKGTu_797s",
    "tags": []
   },
   "source": [
    "## **3.0 Exercícios de 'while'**"
   ]
  },
  {
   "cell_type": "markdown",
   "metadata": {
    "id": "BmdFjxW99JrU"
   },
   "source": [
    "- Escreva um código que mostre todos os números ímpares de 1 até 100;\n",
    "- Escreva um código que leia um número e verifica se é um número primo.\n",
    "- Escreva um código que solicite um número ao usuário, e mostre sua tabuada completa (de 1 até 10);\n",
    "- Escreva um código que solicite 10 números ao usuário, através de um laço while, e ao final mostre qual destes números é o maior;\n",
    "- Escreva um código que leia 10 números e escreva a diferença entre o maior e o menor valor lido;\n",
    "- Escreva um código que imprima todos os divisores de um número inteiro positivo."
   ]
  },
  {
   "cell_type": "markdown",
   "metadata": {
    "id": "bWP_loop8E5Q",
    "tags": []
   },
   "source": [
    "## **4.0 Exercícios de 'for'**"
   ]
  },
  {
   "cell_type": "markdown",
   "metadata": {
    "id": "fl7dXbJP8_hG"
   },
   "source": [
    "- Escreva um código que faça uma contagem regressiva de 10 até 1.\n",
    "- Escreva um código que leia a idade de 10 pessoas e imprima quantas são maiores de idade;\n",
    "- Escreva um código que leia a idade e o peso de 8 pessoas. Calcule e imprima as médias de peso das pessoas da mesma faixa etária e quantas são de cada faixa etária. As faixas são de 1 a 10 anos, de 11-20, de  21-30 e maiores de 30;\n",
    "- Escreva um código que calcule o fatorial de um número;\n",
    "- Escreva um código que imprima todos os divisores de um número, usando o laço for;\n",
    "- Escreva um código que calcule a soma de todos os números pares dos números entre 1 e 100."
   ]
  },
  {
   "cell_type": "markdown",
   "metadata": {
    "id": "eaHKl3b7U-TY",
    "tags": []
   },
   "source": [
    "## 5.0 **Exercícios adicionais**\n",
    "\n",
    "- Escreva um código que realize a conversão de um número entre os seguintes sistemas de numeração:\n",
    "    - de decimal para binário;\n",
    "    - de decimal para octal;\n",
    "    - de decimal para hexadecimal;\n",
    "    - de binário para octal;\n",
    "    - de binário para decimal;\n",
    "    - de binário para hexadecimal;\n",
    "    \n",
    "- Escreva um código que recebe uma lista de números aletórios e reorganizado a lista em ordem crescente;"
   ]
  },
  {
   "cell_type": "code",
   "execution_count": null,
   "metadata": {},
   "outputs": [],
   "source": []
  }
 ],
 "metadata": {
  "colab": {
   "authorship_tag": "ABX9TyPkuLOfypmvoi3WfPwCQpPp",
   "cell_execution_strategy": "setup",
   "provenance": []
  },
  "kernelspec": {
   "display_name": "Python 3 (ipykernel)",
   "language": "python",
   "name": "python3"
  },
  "language_info": {
   "codemirror_mode": {
    "name": "ipython",
    "version": 3
   },
   "file_extension": ".py",
   "mimetype": "text/x-python",
   "name": "python",
   "nbconvert_exporter": "python",
   "pygments_lexer": "ipython3",
   "version": "3.11.5"
  }
 },
 "nbformat": 4,
 "nbformat_minor": 4
}
