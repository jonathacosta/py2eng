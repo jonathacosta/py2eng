{
 "cells": [
  {
   "cell_type": "markdown",
   "id": "dd893c38-600d-42b2-85fd-b1982b00a94f",
   "metadata": {
    "tags": []
   },
   "source": [
    "# Ponto flutuante\n"
   ]
  },
  {
   "cell_type": "markdown",
   "id": "25ab9c40-e538-4d79-ae9b-d45288a5b55d",
   "metadata": {
    "tags": []
   },
   "source": [
    "## Conceito"
   ]
  },
  {
   "cell_type": "markdown",
   "id": "1655c8aa-fab0-4f08-bb9f-4e3e91537ad6",
   "metadata": {
    "tags": []
   },
   "source": [
    "from IPython.display import display, Math, Latex\n",
    "\n",
    "Sejam as grandezas:\n",
    "\n",
    "* Massa do Elétron: $9 \\times  10^{-28} gramas$\n",
    "* Massa do Sol: $2 \\times 10^{33} gramas$\n",
    "* Faixa de variação: $> 10^{60}$\n",
    "* Representação de grandezas extremas\n",
    "\n",
    "         000000000.1324468585133\n",
    "\n",
    "         13676341235445403.341464684654\n",
    "\n",
    "*Como representar tais números de modo equânime?*\n",
    "\n",
    "\n",
    "\n",
    "**Solução:** Notação científica\n",
    "\n",
    "    Algarismo x  Base^{expoente}\n",
    "    \n",
    "* Sistema de representação de maneira que a faixa de variação dos números seja independente do número de dígitos significativos dos números representados.\n",
    "    \n",
    "* Ponto flutuante"
   ]
  },
  {
   "cell_type": "markdown",
   "id": "bcf0d606-3bdc-4fcb-b41a-4bfc37756f6a",
   "metadata": {
    "tags": []
   },
   "source": [
    "<img src=\"figures/rep_pf.png\" width=\"70%\">\n",
    "<figcaption> Fonte: Costa,(2024)</figcaption>"
   ]
  },
  {
   "cell_type": "markdown",
   "id": "ad28fd8c-e5b8-4398-a370-b23fe2aa8509",
   "metadata": {
    "tags": []
   },
   "source": [
    "<img src=\"figures/rep_pf_ex1.png\" width=\"70%\">\n",
    "<figcaption> Fonte: Costa,(2024)</figcaption>"
   ]
  },
  {
   "cell_type": "markdown",
   "id": "08e20407-04c7-476d-874b-01bb510d8f0e",
   "metadata": {
    "tags": []
   },
   "source": [
    "<img src=\"figures/rep_pf01.png\" width=\"70%\">\n",
    "<figcaption> Fonte: Costa,(2024)</figcaption>"
   ]
  },
  {
   "cell_type": "markdown",
   "id": "7f052598-d391-4c50-8891-4b2fa51a0e41",
   "metadata": {
    "tags": []
   },
   "source": [
    "## Código basilar em modo procedural"
   ]
  },
  {
   "cell_type": "code",
   "execution_count": 82,
   "id": "a011f2f3-5c57-46d7-a704-0e9d9cf8a11d",
   "metadata": {
    "tags": []
   },
   "outputs": [
    {
     "name": "stdin",
     "output_type": "stream",
     "text": [
      "Informe um valor em decimal: 81.5\n"
     ]
    },
    {
     "name": "stdout",
     "output_type": "stream",
     "text": [
      "Valor decimal informado: 81\n",
      "Representação IEEE754 com precisão simples (32 bits): 0|10000101|01000110000000000000000\n",
      "Representação IEEE754 com precisão dupla (64 bits): 0|10000000101|0100011000000000000000000000000000000000000000000000\n"
     ]
    }
   ],
   "source": [
    "'''\n",
    "Versão 00\n",
    "Código converte um valor decimal para binário no formato de precisão simples pela IEEE 754/2008\n",
    "Sintaxe:\n",
    "'sinal + (exponte com bias) + mantissa'\n",
    "'''\n",
    "\n",
    "decimal = float(input('Informe um valor em decimal:'))\n",
    "\n",
    "#********************************************\n",
    "# 1.0 Verifica o sinal do número\n",
    "#********************************************\n",
    "if decimal < 0:\n",
    "    sinal_bit = '1'\n",
    "    decimal = -decimal\n",
    "else:\n",
    "    sinal_bit = '0'\n",
    "    \n",
    "#********************************************\n",
    "# 2.0 Separa a parte inteira e a parte decimal\n",
    "#********************************************\n",
    "parte_inteira = int(decimal)\n",
    "parte_fracionaria = decimal - parte_inteira\n",
    "\n",
    "# 2.1 Converte a parte inteira para binário\n",
    "#********************************************\n",
    "parte_inteira_bin = bin(parte_inteira)[2:]       # Utilizando [2:] para suprimir o 0b da string.\n",
    "\n",
    "# 2.2 Converte a parte fracionária para binário\n",
    "#********************************************\n",
    "if parte_fracionaria != 0:\n",
    "    mantissa_bin = ''                # Define um string vazia\n",
    "    while parte_fracionaria > 0:\n",
    "        parte_fracionaria *= 2                # Multiplica o valor por 2\n",
    "        bit = int(parte_fracionaria)          # Guarda o valor da parte inteira em bit \n",
    "        mantissa_bin += str(bit)              # Armazena bit como string na string \n",
    "        parte_fracionaria -= bit              # Remove a parte inteira\n",
    "\n",
    "#********************************************\n",
    "# 32 bits - Calcula o expoente e a fração precisão simples\n",
    "#********************************************\n",
    "# comando format(valor_decimal,'valor de preenchimento a esquerda + comprimento da string + base do sistema')\n",
    "# o ljust() preenche os espaços a direita da string com (comprimento de 23, valor=0)\n",
    "bias_s = 127\n",
    "exponente_s = format(len(parte_inteira_bin) -1 + bias_s,'08b') # Utilizar -1 para reduzir o expoente de 1 unidade      \n",
    "mantissa_s = (parte_inteira_bin[1:] + mantissa_bin).ljust(23, '0') \n",
    "ieee754_bin_s = sinal_bit +'|'+ exponente_s + '|'+ mantissa_s      # Formata o resultado conforme IEEE754\n",
    "\n",
    "#********************************************\n",
    "# 64bits - Calcula o expoente e a fração precisão dupla\n",
    "#********************************************\n",
    "bias_d = 1023\n",
    "exponente_d = format(len(parte_inteira_bin) - 1 + bias_d,'011b').ljust(11,'0')\n",
    "mantissa_d = (parte_inteira_bin[1:] + mantissa_bin).ljust(52, '0')  \n",
    "ieee754_bin_d = sinal_bit +'|'+ exponente_d + '|'+ mantissa_d    \n",
    "\n",
    "#********************************************\n",
    "# Resultados\n",
    "#********************************************\n",
    "print(\"Valor decimal informado:\", valor_decimal)\n",
    "print(\"Representação IEEE754 com precisão simples (32 bits):\", ieee754_bin_s)\n",
    "print(\"Representação IEEE754 com precisão dupla (64 bits):\", ieee754_bin_d)"
   ]
  },
  {
   "cell_type": "code",
   "execution_count": null,
   "id": "e6496cab-80a1-43b2-9d4d-9354f9fa7b16",
   "metadata": {},
   "outputs": [],
   "source": []
  },
  {
   "cell_type": "markdown",
   "id": "de1189c2-c4b3-4ce9-9e66-ab2c6ae3dcd0",
   "metadata": {
    "tags": []
   },
   "source": [
    "## Código basilar utilizando classes"
   ]
  },
  {
   "cell_type": "markdown",
   "id": "95e14fc7-b28b-4196-9240-9eb6b882190a",
   "metadata": {},
   "source": [
    "### Classes sem o método init"
   ]
  },
  {
   "cell_type": "code",
   "execution_count": null,
   "id": "3ca6de09-800c-434f-9ae5-aad276f69e42",
   "metadata": {},
   "outputs": [],
   "source": []
  }
 ],
 "metadata": {
  "kernelspec": {
   "display_name": "Python 3 (ipykernel)",
   "language": "python",
   "name": "python3"
  },
  "language_info": {
   "codemirror_mode": {
    "name": "ipython",
    "version": 3
   },
   "file_extension": ".py",
   "mimetype": "text/x-python",
   "name": "python",
   "nbconvert_exporter": "python",
   "pygments_lexer": "ipython3",
   "version": "3.11.5"
  }
 },
 "nbformat": 4,
 "nbformat_minor": 5
}
