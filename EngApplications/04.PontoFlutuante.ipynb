{
 "cells": [
  {
   "cell_type": "markdown",
   "id": "dd893c38-600d-42b2-85fd-b1982b00a94f",
   "metadata": {
    "tags": []
   },
   "source": [
    "# Ponto flutuante\n"
   ]
  },
  {
   "cell_type": "markdown",
   "id": "25ab9c40-e538-4d79-ae9b-d45288a5b55d",
   "metadata": {
    "tags": []
   },
   "source": [
    "## Conceito"
   ]
  },
  {
   "cell_type": "markdown",
   "id": "1655c8aa-fab0-4f08-bb9f-4e3e91537ad6",
   "metadata": {
    "tags": []
   },
   "source": [
    "from IPython.display import display, Math, Latex\n",
    "\n",
    "Sejam as grandezas:\n",
    "\n",
    "* Massa do Elétron: $9 \\times  10^{-28} gramas$\n",
    "* Massa do Sol: $2 \\times 10^{33} gramas$\n",
    "* Faixa de variação: $> 10^{60}$\n",
    "* Representação de grandezas extremas\n",
    "\n",
    "         000000000.1324468585133\n",
    "\n",
    "         13676341235445403.341464684654\n",
    "\n",
    "*Como representar tais números de modo equânime?*\n",
    "\n",
    "\n",
    "\n",
    "**Solução:** Notação científica\n",
    "\n",
    "    Algarismo x  Base^{expoente}\n",
    "    \n",
    "* Sistema de representação de maneira que a faixa de variação dos números seja independente do número de dígitos significativos dos números representados.\n",
    "    \n",
    "* Ponto flutuante"
   ]
  },
  {
   "cell_type": "markdown",
   "id": "bcf0d606-3bdc-4fcb-b41a-4bfc37756f6a",
   "metadata": {
    "tags": []
   },
   "source": [
    "<img src=\"figures/rep_pf.png\" width=\"80%\">\n",
    "<figcaption> Fonte: Costa,(2024)</figcaption>"
   ]
  },
  {
   "cell_type": "markdown",
   "id": "ad28fd8c-e5b8-4398-a370-b23fe2aa8509",
   "metadata": {
    "tags": []
   },
   "source": [
    "<img src=\"figures/rep_pf_ex1.png\" width=\"70%\">\n",
    "<figcaption> Fonte: Costa,(2024)</figcaption>"
   ]
  },
  {
   "cell_type": "markdown",
   "id": "08e20407-04c7-476d-874b-01bb510d8f0e",
   "metadata": {
    "tags": []
   },
   "source": [
    "<img src=\"figures/rep_pf01.png\" width=\"80%\">\n",
    "<figcaption> Fonte: Costa,(2024)</figcaption>"
   ]
  },
  {
   "cell_type": "markdown",
   "id": "7f052598-d391-4c50-8891-4b2fa51a0e41",
   "metadata": {
    "tags": []
   },
   "source": [
    "## Código basilar em modo procedural"
   ]
  },
  {
   "cell_type": "markdown",
   "id": "1362445a-abb6-4702-aed3-363ec16a69b4",
   "metadata": {
    "jp-MarkdownHeadingCollapsed": true,
    "tags": []
   },
   "source": [
    "### Versão 00"
   ]
  },
  {
   "cell_type": "code",
   "execution_count": 1,
   "id": "6399a964-f460-4844-b716-c972d068f56d",
   "metadata": {},
   "outputs": [
    {
     "name": "stdout",
     "output_type": "stream",
     "text": [
      "Valor decimal informado: 81\n",
      "Representação IEEE754 com precisão simples (32 bits):\n",
      " 0|10000101|10000000000000000000000\n",
      "Representação IEEE754 com precisão dupla (64 bits):\n",
      " 0|10000000101|1000000000000000000000000000000000000000000000000000\n"
     ]
    }
   ],
   "source": [
    "'''\n",
    "Versão 00 - Utilizando passo-a-passo de deslocamento de vírgula e lista para mantissa\n",
    "Código converte um valor decimal para binário no formato de precisão simples pela IEEE 754/2008\n",
    "Sintaxe:\n",
    "'sinal + (exponte com bias) + mantissa'\n",
    "\n",
    "\n",
    "comando:\n",
    "    * format(valor_decimal,'valor de preenchimento a esquerda + comprimento da string + base do sistema')\n",
    "    * ljust() preenche os espaços a direita da string com (comprimento de 23, valor=0)\n",
    "    * ''.join([str(i) for i in mantissa_bin] converte os elementos da lista 'mantissa_bin' para uma só string\n",
    "'''\n",
    "\n",
    "decimal = 81\n",
    "#********************************************\n",
    "# 1.0 Verifica o sinal do número\n",
    "#********************************************\n",
    "sinal_bit = '0'\n",
    "if decimal < 0: sinal_bit = '1'\n",
    "    \n",
    "#********************************************\n",
    "# 2.0 Separa a parte inteira e a parte decimal\n",
    "#********************************************\n",
    "parte_inteira = int(decimal)\n",
    "parte_fracionaria = decimal - parte_inteira\n",
    "\n",
    "# 2.1 Converte a parte inteira para binário\n",
    "#********************************************\n",
    "parte_inteira_bin = bin(parte_inteira)[2:]               # Utilizando [2:] para suprimir o 0b da string.\n",
    "desloc_virgula = len(parte_inteira_bin) - 1              # Deslocamentos da virgula\n",
    "num_antes_virgula = parte_inteira_bin[:-desloc_virgula]                # 10000101 -> '1','0000101'\n",
    "num_depois_virgula = parte_inteira_bin[:desloc_virgula]\n",
    "\n",
    "# 2.1 Converte a parte fracionária para binário\n",
    "#********************************************\n",
    "mantissa_bin = []                                        # Define uma lista vazia\n",
    "if parte_fracionaria != 0:    \n",
    "    while parte_fracionaria > 0:\n",
    "        parte_fracionaria *= 2                           # Multiplica o valor por 2\n",
    "        bit = int(parte_fracionaria)                     # Guarda o valor da parte inteira em bit \n",
    "        parte_fracionaria -= bit   \n",
    "        mantissa_bin.append(bit)                         # Armazena bit como string na string                 \n",
    "mantissa_bin = ''.join([str(i) for i in mantissa_bin])   # Converte a lista numa única string\n",
    "\n",
    "# 32 bits - Calcula o expoente e a fração precisão simples\n",
    "#********************************************\n",
    "bias_s = 127\n",
    "exponente_s = format(desloc_virgula + bias_s,'08b')        # Utilizar -1 para reduzir o expoente de 1 unidade      \n",
    "mantissa_s = (num_antes_virgula + mantissa_bin).ljust(23, '0') \n",
    "ieee754_bin_s = sinal_bit +'|'+ exponente_s + '|'+ mantissa_s      # Formata o resultado conforme IEEE7\n",
    "ieee754_bin_s\n",
    "\n",
    "# 64 bits - Calcula o expoente e a fração precisão simples\n",
    "#********************************************\n",
    "bias_s = 1023\n",
    "exponente_d = format(desloc_virgula + bias_s,'011b')        # Utilizar -1 para reduzir o expoente de 1 unidade      \n",
    "mantissa_d = (num_antes_virgula + mantissa_bin).ljust(52, '0') \n",
    "ieee754_bin_d = sinal_bit +'|'+ exponente_d + '|'+ mantissa_d      # Formata o resultado conforme IEEE7\n",
    "\n",
    "# Resultados\n",
    "#********************************************\n",
    "print(\"Valor decimal informado:\", decimal)\n",
    "print(\"Representação IEEE754 com precisão simples (32 bits):\\n\", ieee754_bin_s)\n",
    "print(\"Representação IEEE754 com precisão dupla (64 bits):\\n\", ieee754_bin_d)\n"
   ]
  },
  {
   "cell_type": "markdown",
   "id": "27c46eb2-1a3b-4004-ac20-cde5dd4cf8c2",
   "metadata": {
    "jp-MarkdownHeadingCollapsed": true,
    "tags": []
   },
   "source": [
    "### Versão 01"
   ]
  },
  {
   "cell_type": "code",
   "execution_count": 2,
   "id": "d009e013-6457-44ec-abb4-604c55e71bd6",
   "metadata": {
    "tags": []
   },
   "outputs": [
    {
     "name": "stdout",
     "output_type": "stream",
     "text": [
      "Valor decimal informado: 81\n",
      "Representação IEEE754 com precisão simples (32 bits): 0|10000101|01000100000000000000000\n",
      "Representação IEEE754 com precisão dupla (64 bits): 0|10000000101|0100010000000000000000000000000000000000000000000000\n"
     ]
    }
   ],
   "source": [
    "'''\n",
    "Versão 01 - Utilizando comandos geminados e string em lugar de lista.\n",
    "Código converte um valor decimal para binário no formato de precisão simples pela IEEE 754/2008\n",
    "Sintaxe:\n",
    "'sinal + (exponte com bias) + mantissa'\n",
    "'''\n",
    "\n",
    "# decimal = float(input('Informe um valor em decimal:'))\n",
    "\n",
    "#********************************************\n",
    "# 1.0 Verifica o sinal do número\n",
    "#********************************************\n",
    "if decimal < 0:\n",
    "    sinal_bit = '1'\n",
    "    decimal = -decimal\n",
    "else:\n",
    "    sinal_bit = '0'\n",
    "    \n",
    "#********************************************\n",
    "# 2.0 Separa a parte inteira e a parte decimal\n",
    "#********************************************\n",
    "parte_inteira = int(decimal)\n",
    "parte_fracionaria = decimal - parte_inteira\n",
    "\n",
    "# 2.1 Converte a parte inteira para binário\n",
    "#********************************************\n",
    "parte_inteira_bin = bin(parte_inteira)[2:]       # Utilizando [2:] para suprimir o 0b da string.\n",
    "\n",
    "# 2.2 Converte a parte fracionária para binário\n",
    "#********************************************\n",
    "mantissa_bin = ''                # Define um string vazia\n",
    "if parte_fracionaria != 0:    \n",
    "    while parte_fracionaria > 0:\n",
    "        parte_fracionaria *= 2                # Multiplica o valor por 2\n",
    "        bit = int(parte_fracionaria)          # Guarda o valor da parte inteira em bit \n",
    "        mantissa_bin += str(bit)              # Armazena bit como string na string \n",
    "        parte_fracionaria -= bit              # Remove a parte inteira\n",
    "\n",
    "#********************************************\n",
    "# 32 bits - Calcula o expoente e a fração precisão simples\n",
    "#********************************************\n",
    "bias_s = 127\n",
    "exponente_s = format(len(parte_inteira_bin) -1 + bias_s,'08b') # Utilizar -1 para reduzir o expoente de 1 unidade      \n",
    "mantissa_s = (parte_inteira_bin[1:] + mantissa_bin).ljust(23, '0') \n",
    "ieee754_bin_s = sinal_bit +'|'+ exponente_s + '|'+ mantissa_s      # Formata o resultado conforme IEEE754\n",
    "\n",
    "#********************************************\n",
    "# 64bits - Calcula o expoente e a fração precisão dupla\n",
    "#********************************************\n",
    "bias_d = 1023\n",
    "exponente_d = format(len(parte_inteira_bin) - 1 + bias_d,'011b')\n",
    "mantissa_d = (parte_inteira_bin[1:] + mantissa_bin).ljust(52, '0')  \n",
    "ieee754_bin_d = sinal_bit +'|'+ exponente_d + '|'+ mantissa_d    \n",
    "\n",
    "#********************************************\n",
    "# Resultados\n",
    "#********************************************\n",
    "print(\"Valor decimal informado:\", decimal)\n",
    "print(\"Representação IEEE754 com precisão simples (32 bits):\", ieee754_bin_s)\n",
    "print(\"Representação IEEE754 com precisão dupla (64 bits):\", ieee754_bin_d)"
   ]
  },
  {
   "cell_type": "markdown",
   "id": "de1189c2-c4b3-4ce9-9e66-ab2c6ae3dcd0",
   "metadata": {
    "tags": []
   },
   "source": [
    "## Código basilar utilizando classes"
   ]
  },
  {
   "cell_type": "markdown",
   "id": "95e14fc7-b28b-4196-9240-9eb6b882190a",
   "metadata": {
    "jp-MarkdownHeadingCollapsed": true,
    "tags": []
   },
   "source": [
    "### Classes sem o método init"
   ]
  },
  {
   "cell_type": "code",
   "execution_count": 3,
   "id": "548789ab-1e1e-4cec-b7d4-918ca7b9521c",
   "metadata": {
    "tags": []
   },
   "outputs": [],
   "source": [
    "class Num2ieee():\n",
    "    '''\n",
    "    Classe contém métodos conversores de um número decimal para o formato IEEE 754/2008 com precisão de 32 e 64 bits.\n",
    "    '''\n",
    "    def bit_sinal(num):        \n",
    "        sinal_bit = '0'\n",
    "        if num < 0: sinal_bit = '1'\n",
    "        \n",
    "        return sinal_bit\n",
    "    \n",
    "    def int_frac(num):\n",
    "        parte_inteira = int(num)\n",
    "        parte_fracionaria = num - parte_inteira                     \n",
    "        parte_inteira_bin = bin(parte_inteira)[2:] \n",
    "        parte_fracionaria_bin ='0'\n",
    "        \n",
    "        if parte_fracionaria != 0:\n",
    "            parte_fracionaria_bin = ''                            # Define um string vazia\n",
    "            while parte_fracionaria > 0:\n",
    "                    parte_fracionaria *= 2                # Multiplica o valor por 2\n",
    "                    bit = int(parte_fracionaria)          # Guarda o valor da parte inteira em bit \n",
    "                    parte_fracionaria_bin += str(bit)     # Armazena bit como string na string \n",
    "                    parte_fracionaria -= bit   \n",
    "\n",
    "        return parte_inteira_bin, parte_fracionaria_bin            \n",
    "\n",
    "    def NumRes32bits(parte_inteira_bin,mantissa_bin):        \n",
    "        bias = 127\n",
    "        exponente = format(len(parte_inteira_bin) -1 + bias,'08b') # Utilizar -1 para reduzir o expoente de 1 unidade      \n",
    "        mantissa = (parte_inteira_bin[1:] + mantissa_bin).ljust(23, '0') \n",
    "        ieee754_bin = sinal_bit +'|'+ exponente + '|'+ mantissa      # Formata o resultado conforme IEEE754\n",
    "        return ieee754_bin\n",
    "    \n",
    "    def NumRes64bits(parte_inteira_bin,mantissa_bin):        \n",
    "        bias = 1023\n",
    "        exponente = format(len(parte_inteira_bin) -1 + bias,'011b') # Utilizar -1 para reduzir o expoente de 1 unidade      \n",
    "        mantissa = (parte_inteira_bin[1:] + mantissa_bin).ljust(52, '0') \n",
    "        ieee754_bin = sinal_bit +'|'+ exponente + '|'+ mantissa      # Formata o resultado conforme IEEE754\n",
    "        return ieee754_bin\n",
    "                "
   ]
  },
  {
   "cell_type": "code",
   "execution_count": 4,
   "id": "3ca6de09-800c-434f-9ae5-aad276f69e42",
   "metadata": {},
   "outputs": [
    {
     "name": "stdout",
     "output_type": "stream",
     "text": [
      "Precisão de 32 bits: 0|10000101|01000110000000000000000\n",
      "Precisão de 64 bits: 0|10000000101|0100011000000000000000000000000000000000000000000000\n"
     ]
    }
   ],
   "source": [
    "a,b = Num2ieee.int_frac(81.5)\n",
    "print('Precisão de 32 bits:',Num2ieee.NumRes32bits(a,b))\n",
    "print('Precisão de 64 bits:',Num2ieee.NumRes64bits(a,b))\n"
   ]
  },
  {
   "cell_type": "markdown",
   "id": "2ff07eea-3e5f-443b-ba0f-77003e112ea5",
   "metadata": {
    "jp-MarkdownHeadingCollapsed": true,
    "tags": []
   },
   "source": [
    "### Classes com o método init"
   ]
  },
  {
   "cell_type": "code",
   "execution_count": 5,
   "id": "678dbf08-6e05-4d17-8d89-3ad3d2b7c194",
   "metadata": {
    "tags": []
   },
   "outputs": [],
   "source": [
    "class Num2ieee():\n",
    "    '''\n",
    "    Classe contém métodos conversores de um número decimal para o formato IEEE 754/2008 com precisão de 32 e 64 bits.\n",
    "    '''\n",
    "    def __init__(self,num):\n",
    "        self.num = num\n",
    "        self.bit_sinal = '1'if self.num < 0 else '0'\n",
    "        self.int_frac()      \n",
    "        self.NumRes32bits()\n",
    "        self.NumRes64bits()\n",
    "        \n",
    "    def int_frac(self):\n",
    "        parte_inteira = int(self.num)\n",
    "        parte_fracionaria = self.num - parte_inteira                     \n",
    "        parte_inteira_bin = bin(parte_inteira)[2:] \n",
    "        parte_fracionaria_bin ='0'\n",
    "        \n",
    "        if parte_fracionaria != 0:\n",
    "            parte_fracionaria_bin = ''                            # Define um string vazia\n",
    "            while parte_fracionaria > 0:\n",
    "                    parte_fracionaria *= 2                # Multiplica o valor por 2\n",
    "                    bit = int(parte_fracionaria)          # Guarda o valor da parte inteira em bit \n",
    "                    parte_fracionaria_bin += str(bit)     # Armazena bit como string na string \n",
    "                    parte_fracionaria -= bit   \n",
    "\n",
    "        self.parte_inteira_bin = parte_inteira_bin\n",
    "        self.parte_fracionaria_bin = parte_fracionaria_bin    \n",
    "  \n",
    "    def NumRes32bits(self):        \n",
    "        bias = 127\n",
    "        exponente = format(len(self.parte_inteira_bin) -1 + bias,'08b') # Utilizar -1 para reduzir o expoente de 1 unidade      \n",
    "        mantissa = (self.parte_inteira_bin[1:] + mantissa_bin).ljust(23, '0') \n",
    "        ieee754_bin = self.bit_sinal +'|'+ exponente + '|'+ mantissa      # Formata o resultado conforme IEEE754\n",
    "        self.ieee754_32bits = ieee754_bin\n",
    "        print('Precisão de 32 bits:',ieee754_bin)\n",
    "        \n",
    "    def NumRes64bits(self):        \n",
    "        bias = 1023\n",
    "        exponente = format(len(self.parte_inteira_bin) -1 + bias,'011b') # Utilizar -1 para reduzir o expoente de 1 unidade      \n",
    "        mantissa = (self.parte_inteira_bin[1:] + mantissa_bin).ljust(52, '0') \n",
    "        ieee754_bin = self.bit_sinal +'|'+ exponente + '|'+ mantissa      # Formata o resultado conforme IEEE754\n",
    "        self.ieee754_64bits = ieee754_bin\n",
    "        print('Precisão de 64 bits:',ieee754_bin)        \n",
    "        "
   ]
  },
  {
   "cell_type": "code",
   "execution_count": 6,
   "id": "3af8665c-e03c-4c3f-b42d-4d1193d0f3eb",
   "metadata": {
    "tags": []
   },
   "outputs": [
    {
     "name": "stdout",
     "output_type": "stream",
     "text": [
      "Precisão de 32 bits: 0|10000010|01000000000000000000000\n",
      "Precisão de 64 bits: 0|10000000010|0100000000000000000000000000000000000000000000000000\n"
     ]
    }
   ],
   "source": [
    "x=Num2ieee(10)"
   ]
  },
  {
   "cell_type": "markdown",
   "id": "cf0c0b7e-842e-471b-a7e6-178473e59f92",
   "metadata": {
    "tags": []
   },
   "source": [
    "### Aplicação proposta\n",
    " \n",
    "* Converta os números a seguir para IEEE 754/2008 precisão simples e dupla.\n",
    "\n",
    "num =[10,-21, 3.1415, 0.666]\n"
   ]
  },
  {
   "cell_type": "code",
   "execution_count": null,
   "id": "62ed3b10-c8a1-4cf1-b164-27cd4c4bccd7",
   "metadata": {
    "tags": []
   },
   "outputs": [],
   "source": []
  },
  {
   "cell_type": "code",
   "execution_count": null,
   "id": "0119da81-16fb-45eb-8711-d242d45d6b61",
   "metadata": {},
   "outputs": [],
   "source": []
  }
 ],
 "metadata": {
  "kernelspec": {
   "display_name": "Python 3 (ipykernel)",
   "language": "python",
   "name": "python3"
  },
  "language_info": {
   "codemirror_mode": {
    "name": "ipython",
    "version": 3
   },
   "file_extension": ".py",
   "mimetype": "text/x-python",
   "name": "python",
   "nbconvert_exporter": "python",
   "pygments_lexer": "ipython3",
   "version": "3.11.5"
  }
 },
 "nbformat": 4,
 "nbformat_minor": 5
}
