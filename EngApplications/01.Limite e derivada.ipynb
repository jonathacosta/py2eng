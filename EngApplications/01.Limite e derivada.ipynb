{
 "cells": [
  {
   "cell_type": "markdown",
   "id": "dc008bec",
   "metadata": {
    "tags": []
   },
   "source": [
    "# Métodos numéricos - Engenharia de controle e automação\n",
    "* Prof. Jonatha Costa\n",
    "* Exercícios basilares de limite e derivada utilizando python"
   ]
  },
  {
   "cell_type": "markdown",
   "id": "1dbbcc21-f26b-482f-a103-9e094ea4de2d",
   "metadata": {
    "jp-MarkdownHeadingCollapsed": true,
    "tags": []
   },
   "source": [
    "## Conceitos basilares\n"
   ]
  },
  {
   "cell_type": "markdown",
   "id": "920d80d9-fcf4-4684-8b18-d3c00bea8133",
   "metadata": {
    "tags": []
   },
   "source": [
    "### Conceitos de limite"
   ]
  },
  {
   "cell_type": "markdown",
   "id": "64645891-e118-4fd7-baac-9186ff8c8a49",
   "metadata": {
    "tags": []
   },
   "source": [
    "from IPython.display import display, Math, Latex\n",
    "\n",
    "Se uma função $f(x)$ se aproxima arbitrariamente de um número $L$ à medida que $x$ tende a um número $a$ vindo da direita ou da esquerda, então diz-se que o limite de $f(x)$ tende a $L$ à medida que $x$ tende a $a$.\n",
    "\n",
    "\n",
    "**Termo geral**: $$\\displaystyle\\lim_{x \\to a} f(x)=f(a)=L$$\n",
    "\n",
    "Se a função $f(x)$ é definida em $(m,n)$ com $a \\subset (m,n) \\ e\\  L \\in \\mathbb{R}$ $\\rightarrow$ para $\\forall \\ \\varepsilon > 0$ $\\exists \\ \\delta > 0 $ tal que se $0<|x-a|<\\delta$, então $|f(x)-L|<\\varepsilon$.\n",
    "Escolhendo um $\\delta$ arbitrariamente pequeno, faz-se $f(x)$ se aproximar de $L$.\n"
   ]
  },
  {
   "cell_type": "markdown",
   "id": "7ce64a79-ad5f-4daa-ae5c-8c2d8f7aa09d",
   "metadata": {},
   "source": [
    "### Conceitos de continuidade de uma função\n",
    "\n",
    "from IPython.display import display, Math, Latex\n",
    "\n",
    "Uma função $f(x)$ é dita contínua em $x=a$ quando:\n",
    "\n",
    "\n",
    "* $f(a) \\ \\exists$\n",
    "* $\\displaystyle\\lim_{x \\to a}f(x) \\exists$\n",
    "* $\\displaystyle\\lim_{x \\to a} f(x)=f(a)$\n",
    "\n",
    "\n",
    "Uma função é contínua em um intervalo aberto $(a, b)$ se for contínua em cada ponto do intervalo.\n",
    "\n",
    "Uma função contínua em todo eixo real $(-\\infty, +\\infty)$ é chamada de **contínua em todo o domínio**.\n"
   ]
  },
  {
   "cell_type": "markdown",
   "id": "79ffd4bd-9b2d-44aa-bee8-c952de8e0681",
   "metadata": {},
   "source": [
    "### Conceitos: Teorema do valor intermediário"
   ]
  },
  {
   "cell_type": "markdown",
   "id": "5f89643e-06ba-4b05-829b-93001ee7b110",
   "metadata": {
    "tags": []
   },
   "source": [
    "\n",
    "Se uma função $f(x)$ é contínua no intervalo fechado [a,b], então $\\exists$ pelo menos um número  $c \\in [a,b]$ tal que $f(c)=M$.\n",
    "\n",
    "\n",
    "<img src=\"figures/funInter_ab.png\" width=\"30%\">\n",
    "<figcaption> Fonte: Gilat(2008)</figcaption>\n",
    "\n",
    "    \n",
    "\n",
    "\n",
    "* Perceba que este teorema diz que $\\exists$ pelo menos um número $c$, mas não fornece um método para encontrar seu valor.\n",
    "   \n",
    "* É chamado de Teorema da Existência e implica que o gráfico de uma função contínua não pode apresentar um salto vertical."
   ]
  },
  {
   "cell_type": "markdown",
   "id": "46d774a8-fb11-4aa7-9897-2f171f9e292e",
   "metadata": {
    "tags": []
   },
   "source": [
    "### Conceitos de derivada"
   ]
  },
  {
   "cell_type": "markdown",
   "id": "570dde2f-4efe-4c11-bda3-b92bbb00f705",
   "metadata": {},
   "source": [
    "A derivada primeira, ou simplesmente derivada, de $y=f(x)$ em um ponto $x=a$ no domínio de $f$ é representada por $\\frac{dy}{dx},y',\\frac{df}{dx}$ ou $f'(a)$, e definida como:\n",
    "\n",
    "<img src=\"figures/fun_deriv.png\" width=\"30%\">\n",
    "<figcaption> Fonte: Gilat(2008)</figcaption>\n",
    "\n",
    "\n",
    "   \n",
    "$\\displaystyle {\\frac{dy}{dx}}\\Big|_{x=a} = f'(a)=  \\lim_{x \\to a} \\frac{f(x)-f(a)}{x-a} $\n",
    "* Em que $\\frac{f(x)-f(a)}{x-a}$ é a inclinação das secantes que conectam os pontos ($a,f(a$) e ($x,f(x)$);\n",
    "* Diz-se, portanto, que a derivada é a inclinação da reta tangente à curva naquele ponto;\n",
    "* Percepção de $\\frac{dy}{dx}$\n",
    "\n",
    "    * Inclinação da reta tangente à curva descrita por $y = f(x)$ em um ponto, útil na obtenção de pontos máximos e mínimos de $f(x)$, pois nesse ponto a inclinação de reta é nula.\n",
    "    * Taxa de variação da função $y = f(x)$ em relação a $x$ - representa quão rapidamente y varia à medida que x varia\n",
    "\n",
    "\n",
    "        "
   ]
  },
  {
   "cell_type": "markdown",
   "id": "21703b13-be6e-49c0-b5a2-0cca778072da",
   "metadata": {
    "jp-MarkdownHeadingCollapsed": true,
    "tags": []
   },
   "source": [
    "## Exercícios - lista 01"
   ]
  },
  {
   "cell_type": "markdown",
   "id": "18a06440",
   "metadata": {
    "jp-MarkdownHeadingCollapsed": true,
    "tags": []
   },
   "source": [
    "## Soluções utilizando o numpy"
   ]
  },
  {
   "cell_type": "code",
   "execution_count": 1,
   "id": "f9e2100b-cc75-45fa-82dc-1eecb8290a17",
   "metadata": {
    "tags": []
   },
   "outputs": [],
   "source": [
    "import numpy as np"
   ]
  },
  {
   "cell_type": "code",
   "execution_count": 2,
   "id": "3d334611",
   "metadata": {},
   "outputs": [
    {
     "name": "stdout",
     "output_type": "stream",
     "text": [
      "Limite da função: 4.000099999999392\n"
     ]
    }
   ],
   "source": [
    "# Exercício 1: Calcular o limite de uma função\n",
    "def limite_funcao(x):\n",
    "    return (x**2 - 4) / (x - 2)\n",
    "\n",
    "limite = limite_funcao(2.0001)  # Aproximando x de 2 pela direita x+ 1e-4\n",
    "print(\"Limite da função:\", limite)"
   ]
  },
  {
   "cell_type": "code",
   "execution_count": 3,
   "id": "30713e6e-088f-4593-b2ea-39083df6dbac",
   "metadata": {},
   "outputs": [
    {
     "name": "stdout",
     "output_type": "stream",
     "text": [
      "O valor de de f(x) em x = 2 vale 7.300000000000004\n"
     ]
    }
   ],
   "source": [
    "# Exercício 2: Calcular a derivada da função f(x) = 3x^2 - 5x + 2\n",
    "def f(x):\n",
    "    return 3*x**2 - 5*x + 2\n",
    "\n",
    "def derivada_f(x, h=0.1): \n",
    "    return (f(x + h) - f(x)) / h\n",
    "\n",
    "x_valor = 2\n",
    "derivada_f_x = derivada_f(x_valor)\n",
    "print(\"O valor de de f(x) em x =\", x_valor, \"vale\", derivada_f_x)"
   ]
  },
  {
   "cell_type": "code",
   "execution_count": 4,
   "id": "63e047e9",
   "metadata": {},
   "outputs": [
    {
     "name": "stdout",
     "output_type": "stream",
     "text": [
      "Derivada de g(x) em x = 0.7853981633974483 : 0.7071064277441863\n"
     ]
    }
   ],
   "source": [
    "# Exercício 3: Calcular a derivada da função g(x) = sin(x)\n",
    "def g(x):\n",
    "    return np.sin(x)\n",
    "\n",
    "def derivada_g(x, h=1e-6):\n",
    "    return (g(x + h) - g(x)) / h\n",
    "\n",
    "x_valor = np.pi/4\n",
    "derivada_g_x = derivada_g(x_valor)\n",
    "print(\"Derivada de g(x) em x =\", x_valor, \":\", derivada_g_x)\n"
   ]
  },
  {
   "cell_type": "code",
   "execution_count": 5,
   "id": "c4774eb5",
   "metadata": {},
   "outputs": [
    {
     "name": "stdout",
     "output_type": "stream",
     "text": [
      "Derivada de h(x) em x = 0.07479982508547127 : -357.4563570509781\n"
     ]
    }
   ],
   "source": [
    "# Exercício 4: Calcular a derivada da função h(x) = 2/x\n",
    "def h1(x):\n",
    "    return (2/x)\n",
    "\n",
    "def derivada_h1(x, h=1e-6):\n",
    "    return (h1(x + h) - h1(x)) / h\n",
    "\n",
    "x_valor = np.pi/42\n",
    "derivada_h1_x = derivada_h1(x_valor)\n",
    "print(\"Derivada de h(x) em x =\", x_valor, \":\", derivada_h1_x)"
   ]
  },
  {
   "cell_type": "code",
   "execution_count": 6,
   "id": "b314a728",
   "metadata": {},
   "outputs": [
    {
     "name": "stdout",
     "output_type": "stream",
     "text": [
      "Derivada de k(x) em x = 0.07479982508547127 : 1.0776689458591449\n"
     ]
    }
   ],
   "source": [
    "# Exercício 4: Calcular a derivada da função k(x) = exp(x)\n",
    "def k(x):\n",
    "    return np.exp(x)\n",
    "\n",
    "def derivada_k(x, h=1e-6):\n",
    "    return (k(x + h) - k(x)) / h\n",
    "\n",
    "x_valor = np.pi/42\n",
    "derivada_k_x = derivada_k(x_valor)\n",
    "print(\"Derivada de k(x) em x =\", x_valor, \":\", derivada_k_x)"
   ]
  },
  {
   "cell_type": "code",
   "execution_count": 7,
   "id": "d61eb906-a910-4d0f-8c37-254ded9438ec",
   "metadata": {
    "tags": []
   },
   "outputs": [
    {
     "name": "stdout",
     "output_type": "stream",
     "text": [
      "Derivada de k(x) em x = 0 : 1.0000004999621837\n"
     ]
    }
   ],
   "source": [
    "# Exercício 5: Calcular a derivada da função k(x) = e^x\n",
    "def k(x):\n",
    "    return np.exp(x)\n",
    "\n",
    "def derivada_k(x, h=1e-6):\n",
    "    return (k(x + h) - k(x)) / h\n",
    "\n",
    "x_valor = 0\n",
    "derivada_k_x = derivada_k(x_valor)\n",
    "print(\"Derivada de k(x) em x =\", x_valor, \":\", derivada_k_x)"
   ]
  },
  {
   "cell_type": "code",
   "execution_count": 8,
   "id": "bc12bf0a-3ad1-4c06-aa64-915fb7f2f3c2",
   "metadata": {
    "tags": []
   },
   "outputs": [
    {
     "name": "stdout",
     "output_type": "stream",
     "text": [
      "Derivada de m(x) em x = 1 : 0.9999994999180668\n"
     ]
    }
   ],
   "source": [
    "# Exercício 6: Calcular a derivada da função m(x) = ln(x)\n",
    "def m(x):\n",
    "    return np.log(x)\n",
    "\n",
    "def derivada_m(x, h=1e-6):\n",
    "    return (m(x + h) - m(x)) / h\n",
    "\n",
    "x_valor = 1\n",
    "derivada_m_x = derivada_m(x_valor)\n",
    "print(\"Derivada de m(x) em x =\", x_valor, \":\", derivada_m_x)"
   ]
  },
  {
   "cell_type": "code",
   "execution_count": 9,
   "id": "ea3729cf-b940-44a8-a1c6-49be4707b84c",
   "metadata": {
    "tags": []
   },
   "outputs": [
    {
     "name": "stdout",
     "output_type": "stream",
     "text": [
      "Derivada de n(x) em x = 4 : 0.24999998426977754\n"
     ]
    }
   ],
   "source": [
    "# Exercício 7: Calcular a derivada da função n(x) = sqrt(x)\n",
    "def n(x):\n",
    "    return np.sqrt(x)\n",
    "\n",
    "def derivada_n(x, h=1e-6):\n",
    "    return (n(x + h) - n(x)) / h\n",
    "\n",
    "x_valor = 4\n",
    "derivada_n_x = derivada_n(x_valor)\n",
    "print(\"Derivada de n(x) em x =\", x_valor, \":\", derivada_n_x)"
   ]
  },
  {
   "cell_type": "code",
   "execution_count": 10,
   "id": "694041a2-1859-4ddf-8e84-c4db1474b204",
   "metadata": {
    "tags": []
   },
   "outputs": [
    {
     "name": "stdout",
     "output_type": "stream",
     "text": [
      "Derivada de p(x) em x = 2 : 1.2500008752525105\n"
     ]
    }
   ],
   "source": [
    "# Exercício 8: Calcular a derivada da função p(x) = x^2/2 + 3/x\n",
    "def p(x):\n",
    "    return x**2 / 2 + 3 / x\n",
    "\n",
    "def derivada_p(x, h=1e-6):\n",
    "    return (p(x + h) - p(x)) / h\n",
    "\n",
    "x_valor = 2\n",
    "derivada_p_x = derivada_p(x_valor)\n",
    "print(\"Derivada de p(x) em x =\", x_valor, \":\", derivada_p_x)"
   ]
  },
  {
   "cell_type": "code",
   "execution_count": 11,
   "id": "69a76317-9aa6-4c33-a60a-8589e4471563",
   "metadata": {
    "tags": []
   },
   "outputs": [
    {
     "name": "stdout",
     "output_type": "stream",
     "text": [
      "Derivada de q(x) em x = 1.0471975511965976 : -0.8660256537451616\n"
     ]
    }
   ],
   "source": [
    "# Exercício 9: Calcular a derivada da função q(x) = cos(x)\n",
    "def q(x):\n",
    "    return np.cos(x)\n",
    "\n",
    "def derivada_q(x, h=1e-6):\n",
    "    return (q(x + h) - q(x)) / h\n",
    "\n",
    "x_valor = np.pi/3\n",
    "derivada_q_x = derivada_q(x_valor)\n",
    "print(\"Derivada de q(x) em x =\", x_valor, \":\", derivada_q_x)"
   ]
  },
  {
   "cell_type": "code",
   "execution_count": 12,
   "id": "f80ab3a2-8721-4a64-bce5-02620d5d443d",
   "metadata": {
    "tags": []
   },
   "outputs": [
    {
     "name": "stdout",
     "output_type": "stream",
     "text": [
      "Derivada de r(x) em x = 0.7853981633974483 : 2.00000200012429\n"
     ]
    }
   ],
   "source": [
    "# Exercício 10: Calcular a derivada da função r(x) = tan(x)\n",
    "def r(x):\n",
    "    return np.tan(x)\n",
    "\n",
    "def derivada_r(x, h=1e-6):\n",
    "    return (r(x + h) - r(x)) / h\n",
    "\n",
    "x_valor = np.pi/4\n",
    "derivada_r_x = derivada_r(x_valor)\n",
    "print(\"Derivada de r(x) em x =\", x_valor, \":\", derivada_r_x)"
   ]
  },
  {
   "cell_type": "markdown",
   "id": "b2803892",
   "metadata": {
    "jp-MarkdownHeadingCollapsed": true,
    "tags": []
   },
   "source": [
    "## Soluções utilizando o simpy"
   ]
  },
  {
   "cell_type": "code",
   "execution_count": 13,
   "id": "cf69df4e-c171-44bb-acc9-c56a5c83f962",
   "metadata": {
    "tags": []
   },
   "outputs": [],
   "source": [
    "import sympy as sp"
   ]
  },
  {
   "cell_type": "code",
   "execution_count": 14,
   "id": "98b81dac-bc8f-4b18-84a8-fd368f2bda9e",
   "metadata": {},
   "outputs": [
    {
     "name": "stdout",
     "output_type": "stream",
     "text": [
      "Limite da função: 4\n"
     ]
    }
   ],
   "source": [
    "# Exercício 1: Calcular o limite de uma função\n",
    "x = sp.Symbol('x')\n",
    "funcao = (x**2 - 4) / (x - 2)\n",
    "limite = sp.limit(funcao, x, 2)\n",
    "print(\"Limite da função:\", limite)\n"
   ]
  },
  {
   "cell_type": "code",
   "execution_count": 15,
   "id": "66fb3d47-9e49-41c6-ad5d-152c45c1b108",
   "metadata": {
    "tags": []
   },
   "outputs": [
    {
     "name": "stdout",
     "output_type": "stream",
     "text": [
      "Derivada de f(x): 6*x - 5\n"
     ]
    }
   ],
   "source": [
    "# Exercício 2: Calcular a derivada da função f(x) = 3x^2 - 5x + 2\n",
    "f = 3*x**2 - 5*x + 2\n",
    "derivada_f = sp.diff(f, x)\n",
    "print(\"Derivada de f(x):\", derivada_f)\n",
    "# ou apenas, derivada_f"
   ]
  },
  {
   "cell_type": "code",
   "execution_count": 16,
   "id": "19211c66-04a2-4c93-9d98-fc1aff8cc1ad",
   "metadata": {
    "tags": []
   },
   "outputs": [
    {
     "name": "stdout",
     "output_type": "stream",
     "text": [
      "Derivada de g(x): cos(x)\n"
     ]
    }
   ],
   "source": [
    "# Exercício 3: Calcular a derivada da função g(x) = sin(x)\n",
    "g = sp.sin(x)\n",
    "derivada_g = sp.diff(g, x)\n",
    "print(\"Derivada de g(x):\", derivada_g)"
   ]
  },
  {
   "cell_type": "code",
   "execution_count": 17,
   "id": "37345f66-5155-4d47-b57b-148f039b56ab",
   "metadata": {
    "tags": []
   },
   "outputs": [
    {
     "name": "stdout",
     "output_type": "stream",
     "text": [
      "Derivada de h(x): -2/x**2\n"
     ]
    }
   ],
   "source": [
    "# Exercício 4: Calcular a derivada da função h(x) = 2/x\n",
    "h = 2 / x\n",
    "derivada_h = sp.diff(h, x)\n",
    "print(\"Derivada de h(x):\", derivada_h)\n"
   ]
  },
  {
   "cell_type": "code",
   "execution_count": 18,
   "id": "8d1b9488-c8ca-4072-a0fd-f40d94f99b1c",
   "metadata": {
    "tags": []
   },
   "outputs": [
    {
     "name": "stdout",
     "output_type": "stream",
     "text": [
      "Derivada de k(x): exp(x)\n"
     ]
    }
   ],
   "source": [
    "# Exercício 5: Calcular a derivada da função k(x) = e^x\n",
    "k = sp.exp(x)\n",
    "derivada_k = sp.diff(k, x)\n",
    "print(\"Derivada de k(x):\", derivada_k)\n"
   ]
  },
  {
   "cell_type": "code",
   "execution_count": 19,
   "id": "697808ca-cb40-4771-b5c7-552257d5e5c6",
   "metadata": {
    "tags": []
   },
   "outputs": [
    {
     "name": "stdout",
     "output_type": "stream",
     "text": [
      "Derivada de m(x): 1/x\n"
     ]
    }
   ],
   "source": [
    "# Exercício 6: Calcular a derivada da função m(x) = ln(x)\n",
    "m = sp.ln(x)\n",
    "derivada_m = sp.diff(m, x)\n",
    "print(\"Derivada de m(x):\", derivada_m)\n"
   ]
  },
  {
   "cell_type": "code",
   "execution_count": 20,
   "id": "453eeab9-31b6-4653-b091-e91ee1c03930",
   "metadata": {
    "tags": []
   },
   "outputs": [
    {
     "name": "stdout",
     "output_type": "stream",
     "text": [
      "Derivada de n(x): 1/(2*sqrt(x))\n"
     ]
    }
   ],
   "source": [
    "# Exercício 7: Calcular a derivada da função n(x) = sqrt(x)\n",
    "n = sp.sqrt(x)\n",
    "derivada_n = sp.diff(n, x)\n",
    "print(\"Derivada de n(x):\", derivada_n)"
   ]
  },
  {
   "cell_type": "code",
   "execution_count": 21,
   "id": "49d68e8d-c98a-4758-80ee-971e6b289ab2",
   "metadata": {
    "tags": []
   },
   "outputs": [
    {
     "name": "stdout",
     "output_type": "stream",
     "text": [
      "Derivada de p(x): x - 3/x**2\n"
     ]
    }
   ],
   "source": [
    "# Exercício 8: Calcular a derivada da função p(x) = x^2/2 + 3/x\n",
    "p = x**2 / 2 + 3 / x\n",
    "derivada_p = sp.diff(p, x)\n",
    "print(\"Derivada de p(x):\", derivada_p)\n"
   ]
  },
  {
   "cell_type": "code",
   "execution_count": 22,
   "id": "bc6402cd-cdf3-41e5-9307-838ff2a94301",
   "metadata": {
    "tags": []
   },
   "outputs": [
    {
     "name": "stdout",
     "output_type": "stream",
     "text": [
      "Derivada de q(x): -sin(x)\n"
     ]
    }
   ],
   "source": [
    "# Exercício 9: Calcular a derivada da função q(x) = cos(x)\n",
    "q = sp.cos(x)\n",
    "derivada_q = sp.diff(q, x)\n",
    "print(\"Derivada de q(x):\", derivada_q)"
   ]
  },
  {
   "cell_type": "code",
   "execution_count": 23,
   "id": "001eb633-9eb5-4afb-a1b6-1dc024fefc95",
   "metadata": {
    "tags": []
   },
   "outputs": [
    {
     "name": "stdout",
     "output_type": "stream",
     "text": [
      "Derivada de r(x): tan(x)**2 + 1\n"
     ]
    },
    {
     "data": {
      "text/latex": [
       "$\\displaystyle \\tan^{2}{\\left(x \\right)} + 1$"
      ],
      "text/plain": [
       "tan(x)**2 + 1"
      ]
     },
     "metadata": {},
     "output_type": "display_data"
    }
   ],
   "source": [
    "# Exercício 10: Calcular a derivada da função r(x) = tan(x)\n",
    "r = sp.tan(x)\n",
    "derivada_r = sp.diff(r, x)\n",
    "print(\"Derivada de r(x):\", derivada_r)\n",
    "display(derivada_r)\n"
   ]
  },
  {
   "cell_type": "markdown",
   "id": "e8348f1a-b9a5-4e9e-8267-9c375d290e80",
   "metadata": {},
   "source": [
    "**Nota:**\n",
    "\n",
    "* Para exibir a função em modo simbólico, basta digitar o nome da função já definida fora o comando 'print()' ou utilizar o comando \"display()\"\n",
    "```python\n",
    "print(\"Derivada de r(x):\", derivada_r)\n",
    "```\n",
    "é diferente de\n",
    "```python\n",
    "display(derivada_r)\n",
    "```\n"
   ]
  },
  {
   "cell_type": "markdown",
   "id": "fd2e6f32-fa1d-481e-9313-b51105e863ea",
   "metadata": {
    "jp-MarkdownHeadingCollapsed": true,
    "tags": []
   },
   "source": [
    "## Migração do simpy para o numpy"
   ]
  },
  {
   "cell_type": "markdown",
   "id": "1c640730-ec24-4c35-ab3e-cc2120511aa9",
   "metadata": {},
   "source": [
    "Nota que o **numpy** trabalha operando sobre os valores em absoluto das variáveis, enquanto o **simpy** apenas valores numéricos.\n",
    "Isso implica que após realizar uma operação utilizando uma biblioteca, faz-se necessário converter a função de interesse para a outra biblioteca.\n",
    "Perceba isso no exemplo a seguir:"
   ]
  },
  {
   "cell_type": "code",
   "execution_count": 24,
   "id": "baf6becf-fbd5-438f-aeca-96710507a4ac",
   "metadata": {
    "tags": []
   },
   "outputs": [
    {
     "name": "stdout",
     "output_type": "stream",
     "text": [
      "A função f(x) é: \n"
     ]
    },
    {
     "data": {
      "text/latex": [
       "$\\displaystyle x^{5} + 3 x^{4} + e^{x} + \\log{\\left(x \\right)}$"
      ],
      "text/plain": [
       "x**5 + 3*x**4 + exp(x) + log(x)"
      ]
     },
     "metadata": {},
     "output_type": "display_data"
    },
    {
     "name": "stdout",
     "output_type": "stream",
     "text": [
      "A função f'(x) é: \n"
     ]
    },
    {
     "data": {
      "text/latex": [
       "$\\displaystyle 5 x^{4} + 12 x^{3} + e^{x} + \\frac{1}{x}$"
      ],
      "text/plain": [
       "5*x**4 + 12*x**3 + exp(x) + 1/x"
      ]
     },
     "metadata": {},
     "output_type": "display_data"
    },
    {
     "name": "stdout",
     "output_type": "stream",
     "text": [
      "A função f'(2) é: \n"
     ]
    },
    {
     "data": {
      "text/plain": [
       "183.88905609893064"
      ]
     },
     "metadata": {},
     "output_type": "display_data"
    }
   ],
   "source": [
    "import sympy as sp\n",
    "import numpy as np\n",
    "\n",
    "# Definindo a variável simbólica\n",
    "x = sp.Symbol('x')\n",
    "\n",
    "# Definindo a função simbólica\n",
    "f = x**5 + 3*x**4 + sp.exp(x) + sp.log(x)\n",
    "\n",
    "# Calculando a derivada primeira de f\n",
    "der_f = sp.diff(f,x,1)\n",
    "\n",
    "# Convertendo a função simbólica em uma função NumPy\n",
    "der_f_numpy = sp.lambdify('x', der_f, 'numpy')\n",
    "\n",
    "# Avaliando a função NumPy em um valor específico\n",
    "x_valor = 2\n",
    "resultado = der_f_numpy(x_valor)\n",
    "\n",
    "print(f\"A função f(x) é: \")\n",
    "display(f)\n",
    "print(f\"A função f'(x) é: \")\n",
    "display(der_f)\n",
    "print(f\"A função f'(2) é: \")\n",
    "display(resultado)"
   ]
  },
  {
   "cell_type": "markdown",
   "id": "fe6b517b-0aee-43a4-850d-5e00ea5a0ce1",
   "metadata": {
    "jp-MarkdownHeadingCollapsed": true,
    "tags": []
   },
   "source": [
    "## Exibição no formato Latex"
   ]
  },
  {
   "cell_type": "code",
   "execution_count": 1,
   "id": "7b9566cd-a87e-41a2-9bef-24bfb6ea32a6",
   "metadata": {
    "tags": []
   },
   "outputs": [
    {
     "data": {
      "text/latex": [
       "$\\displaystyle F(x) = \\int_{-\\infty}^{\\infty} f(x) e^{2\\pi i k} dx$"
      ],
      "text/plain": [
       "<IPython.core.display.Math object>"
      ]
     },
     "metadata": {},
     "output_type": "display_data"
    },
    {
     "data": {
      "text/latex": [
       "$\\displaystyle G(x) = \\frac{df}{dx}$"
      ],
      "text/plain": [
       "<IPython.core.display.Math object>"
      ]
     },
     "metadata": {},
     "output_type": "display_data"
    }
   ],
   "source": [
    "from IPython.display import display, Math, Latex\n",
    "a= r'F(x) = \\int_{-\\infty}^{\\infty} f(x) e^{2\\pi i k} dx'\n",
    "b= r'G(x) = \\frac{df}{dx}'\n",
    "\n",
    "display(Math(a),Math(b))"
   ]
  },
  {
   "cell_type": "code",
   "execution_count": null,
   "id": "ac8597ce-b8ad-47f0-92c6-51a684ccbff8",
   "metadata": {},
   "outputs": [],
   "source": []
  }
 ],
 "metadata": {
  "kernelspec": {
   "display_name": "Python 3 (ipykernel)",
   "language": "python",
   "name": "python3"
  },
  "language_info": {
   "codemirror_mode": {
    "name": "ipython",
    "version": 3
   },
   "file_extension": ".py",
   "mimetype": "text/x-python",
   "name": "python",
   "nbconvert_exporter": "python",
   "pygments_lexer": "ipython3",
   "version": "3.11.5"
  }
 },
 "nbformat": 4,
 "nbformat_minor": 5
}
