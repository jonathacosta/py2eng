{
 "cells": [
  {
   "cell_type": "markdown",
   "id": "dd893c38-600d-42b2-85fd-b1982b00a94f",
   "metadata": {
    "tags": []
   },
   "source": [
    "# Diferenciação Numérica\n",
    "from IPython.display import display, Math, Latex\n"
   ]
  },
  {
   "cell_type": "markdown",
   "id": "25ab9c40-e538-4d79-ae9b-d45288a5b55d",
   "metadata": {
    "tags": []
   },
   "source": [
    "## Conceito"
   ]
  },
  {
   "cell_type": "markdown",
   "id": "1655c8aa-fab0-4f08-bb9f-4e3e91537ad6",
   "metadata": {
    "tags": []
   },
   "source": [
    "\n",
    "A diferenciação é usada na obtenção dos máximos e mínimos de uma função.\n",
    "\n",
    "• A teoria de Métodos Numéricos, solução por aproximação, é usada quando a diferenci-\n",
    "ação de uma função é difícil ou impossível através de uma solução analítica.\n",
    "\n",
    "• A diferenciação numérica é usada em um conjunto de pontos discretos, medidos ou\n",
    "gravados em experimentos."
   ]
  },
  {
   "cell_type": "markdown",
   "id": "caf88fa3-8aaa-4881-858b-77b2fede8241",
   "metadata": {},
   "source": [
    "\n",
    "<img src=\"figures/dif2.png\" width=\"35%\">\n",
    "<figcaption>Fonte: Gilat (2008)</figcaption>\n",
    "\n",
    "<p><strong>Derivada por diferenças finitas</strong></p>\n",
    "<p>A aproximação da derivada em um ponto $x_i$ se baseia nos valores dos pontos na vizinhança de $x_i$ .</p>\n",
    "<ul>\n",
    "    <li>A aproximação depende da precisão dos pontos, do espaçamento entre eles e da expressão específica utilizada na aproximação.</li>\n",
    "    <li>A derivada no ponto $x_i$ é aproximada pela inclinação da reta que liga o ponto antes de $x_i$ ao ponto após $x_i$.</li>\n",
    "    <li>Problemas de ruído penalizam este tipo de aproximação.</li>\n"
   ]
  },
  {
   "cell_type": "markdown",
   "id": "acb1283c-b999-4faf-ad4e-06c4864ce7a2",
   "metadata": {},
   "source": [
    "\n",
    "<img src=\"figures/dif3.png\" width=\"35%\">\n",
    "<figcaption>Fonte: Gilat (2008)</figcaption>\n",
    "\n",
    "<p><strong>Definição do Cálculo </strong></p>\n",
    "$$ \\frac{df(x)}{dx} \\Big|_{x=a}=f'(a)=\\lim_{x \\rightarrow a} \\frac{f(x)-f(a)}{x-a}$$\n",
    "<ul>\n",
    "    <li>É o valor da inclinação da <strong>reta tangente</strong> à função em $x=a$, obtida com a escolha de um ponto $x$ próximo a $x = a$ e o cálculo da inclinação da reta que conecta os dois pontos.</li>\n",
    "    <li>Aumenta à medida que $x \\rightarrow a$ tal que no limite em que o ponto $x$ tende ao ponto $a$, a derivada é a inclinação da reta tangente a $f(x)$ em $x = a$.</li>"
   ]
  },
  {
   "cell_type": "markdown",
   "id": "110e3e34-231b-4d1b-a0ce-9b5d7ee01a7e",
   "metadata": {
    "tags": []
   },
   "source": [
    "* Na <span style=\"color:blue;\">aproximação de derivadas</span> usando diferenças finitas, valores da função em diferentes pontos na vizinhança do ponto $x = a$ são usados na estimativa da inclinação.\n",
    "* As fórmulas de diferenças finitas progressiva, regressiva e central são as mais simples aproximações da derivada por diferenças finitas.\n",
    "* Diferença finita\n",
    "    * *Progressiva* de $x_{i+1}$ a $x_i$.\n",
    "    * *Regressiva* de $x_{i}$ a $x_{i-1}$.\n",
    "    * *Central* de $x_{i+1}$ a $x_{i-1}$.\n"
   ]
  },
  {
   "cell_type": "markdown",
   "id": "99a3f754-09a0-48c5-b45b-398620c7a942",
   "metadata": {},
   "source": [
    "<img src=\"figures/dif4.png\" width=\"80%\">\n",
    "<figcaption>Fonte: Gilat (2008)</figcaption>\n",
    "\n",
    "\n",
    "* Progressiva $\\displaystyle \\frac{df(x)}{dx} \\Big|_{x=x_i}= \\frac{f(x_{i+1})-f(x_i)}{x_{i+1}-x_i}$\n",
    "\n",
    "* <span style=\"color:blue;\">\n",
    "    Central $\\displaystyle \\frac{df(x)}{dx} \\Big|_{x=x_i}= \\frac{f(x_i)-f(x_{i-1})}{x_i-x_{i-1}}$\n",
    "  </span>\n",
    "\n",
    "\n",
    "* Regressiva $\\displaystyle \\frac{df(x)}{dx} \\Big|_{x=x_i}= \\frac{f(x_{i+1})-f(x_{i-1})}{x_{i+1}-x_{i-1}}$\n",
    "\n",
    "\n"
   ]
  },
  {
   "cell_type": "markdown",
   "id": "78821228-238a-4057-a855-df461a9e01a8",
   "metadata": {
    "tags": []
   },
   "source": [
    "\n",
    "**Considere a função $f(x) = x^3$.** \n",
    "\n",
    "Calcule numericamente a derivada primeira no ponto $x = 3$ aplicando as fórmulas de diferenças finitas progressiva, regressiva e central, utilizando os pontos:\n",
    "* $x = 2$\n",
    "* $x = 3$ \n",
    "* $x = 4$\n",
    "\n",
    "Compare os resultados com a derivada exata (analítica).\n",
    "\n"
   ]
  },
  {
   "cell_type": "markdown",
   "id": "8c9b6b57-f731-493a-8ba6-79d32432fa2c",
   "metadata": {},
   "source": [
    "\n",
    "**Diferenciação analítica: $f'(x)=3.x^2 = f'(3) = 3.3^2 = 27$**\n",
    " * [(a)]Diferenciação numérica: \n",
    "  \n",
    "* Diferenciação finita progressiva: \n",
    "            $\\displaystyle \\frac{df(x)}{dx} \\Big|_{x=3}= \\frac{f(4)-f(3)}{4-3} = \\frac{4^3-3^3}{1} = 37  \\rightarrow Erro = \\Big| \\frac{37-27}{27}.100 \\Big| = 37,04\\%$\n",
    "            \n",
    "* Diferenciação finita regressiva: \n",
    "            $\\displaystyle \\frac{df(x)}{dx} \\Big|_{x=3}= \\frac{f(3)-f(2)}{3-2} =  \\frac{3^3-2^3}{1} = 19 \\rightarrow Erro = \\Big| \\frac{19-27}{27}.100 \\Big| = 29,63\\%$\n",
    "            \n",
    "* Diferenciação finita central: $\\displaystyle \\frac{df(x)}{dx} \\Big|_{x=3}= \\frac{f(4)-f(2)}{4-2} = \\frac{4^3-2^3}{2} = 28 \\rightarrow Erro = \\Big| \\frac{28-27}{27}.100 \\Big| = 3,704\\%$\n",
    "            \n",
    "* Erro_{relativo} =$\\Big|\\frac{Y_{aproximado}-Y_{real}}{Y_{real}}.100 \\Big| = Y\\%$  "
   ]
  },
  {
   "cell_type": "markdown",
   "id": "bd9f6106-4434-4075-8a87-bf3bbb85dd00",
   "metadata": {
    "tags": []
   },
   "source": [
    "# Códigos"
   ]
  },
  {
   "cell_type": "markdown",
   "id": "7f052598-d391-4c50-8891-4b2fa51a0e41",
   "metadata": {
    "tags": []
   },
   "source": [
    "## Código basilar em modo procedural"
   ]
  },
  {
   "cell_type": "markdown",
   "id": "1362445a-abb6-4702-aed3-363ec16a69b4",
   "metadata": {
    "tags": []
   },
   "source": [
    "### Versão 00"
   ]
  },
  {
   "cell_type": "code",
   "execution_count": 1,
   "id": "7c43e29d-6c42-4b7b-be41-94f403ea009d",
   "metadata": {
    "tags": []
   },
   "outputs": [
    {
     "name": "stdout",
     "output_type": "stream",
     "text": [
      "--------------------------------------------------\n",
      "RESULTADOS:\n",
      "--------------------------------------------------\n",
      "Dif.Analítica \tDif.Prog\tDif.Central\tDif.Regr\n",
      " \t27\t  37.0         \t  28.0     \t   19.0\n",
      "\n",
      " Erros:\t\t 37.0%        \t  4.0%     \t   30.0%\n"
     ]
    }
   ],
   "source": [
    "'''\n",
    "Versão 00 - Derivada analítica sem biblioteca auxilar e derivadas numéricas progressiva, central e regressiva para os pontos\n",
    "X=[2,3,4]\n",
    "'''\n",
    "# *****************************************************************************\n",
    "# Lista de valores\n",
    "X=[2,3,4]\n",
    "# Ponto de análise\n",
    "ponto_p=3\n",
    "# Função filtro para localizar o ponto_p na lista\n",
    "i=filter(lambda n:n == ponto_p,X)\n",
    "# Índice de locação do ponto na lista X\n",
    "i=X.index(ponto_p)\n",
    "\n",
    "# *****************************************************************************\n",
    "# Função de análise f(x)=x³\n",
    "f=lambda x:x**3\n",
    "# *****************************************************************************\n",
    "# Derivada Analítica incluída manualmente\n",
    "df = lambda x:3*x**2\n",
    "\n",
    "# *****************************************************************************\n",
    "der = df(ponto_p)\n",
    "# Derivada numérica\n",
    "dprog  =( f(X[i+1]) - f(X[i]) ) / (X[i+1]-X[i])\n",
    "dcentr =( f(X[i+1]) - f(X[i-1]))/ (X[i+1]-X[i-1])\n",
    "dregr  =( f(X[i]) - f(X[i-1]) ) / (X[i]-X[i-1])\n",
    "\n",
    "# *****************************************************************************\n",
    "# Resultados\n",
    "print('-'*50)\n",
    "print(\"RESULTADOS:\")\n",
    "print('-'*50)\n",
    "print(\"Dif.Analítica \\tDif.Prog\\tDif.Central\\tDif.Regr\")\n",
    "print(f\" \\t{der}\\t  {dprog}         \\t  {dcentr}     \\t   {dregr}\")\n",
    "\n",
    "# *****************************************************************************\n",
    "# Resultados do erros\n",
    "E=[]\n",
    "E.append(round(abs(dprog-der)/der,2))\n",
    "E.append(round(abs(dcentr-der)/der,2))\n",
    "E.append(round(abs(dregr-der)/der,2))\n",
    "print(f\"\\n Erros:\\t\\t {E[0]*100}%        \\t  {E[1]*100}%     \\t   {E[2]*100}%\")\n",
    "\n"
   ]
  },
  {
   "cell_type": "markdown",
   "id": "072d2349-9164-486f-92d4-356f0c755817",
   "metadata": {
    "tags": []
   },
   "source": [
    "### Versão 01"
   ]
  },
  {
   "cell_type": "code",
   "execution_count": 2,
   "id": "6f0481f2-b4ee-4f49-8114-9f87f69c8358",
   "metadata": {
    "tags": []
   },
   "outputs": [
    {
     "name": "stdout",
     "output_type": "stream",
     "text": [
      "--------------------------------------------------\n",
      "RESULTADOS:\n",
      "--------------------------------------------------\n",
      "Dif.Analítica \tDif.Prog\tDif.Central\tDif.Regr\n",
      " \t27\t  37.0         \t  28.0     \t   19.0\n",
      "\n",
      " Erros:\t\t 37.0%        \t  4.0%     \t   30.0%\n"
     ]
    }
   ],
   "source": [
    "'''\n",
    "Versão 01 - Derivada analítica com biblioteca auxilar e derivadas numéricas progressiva, central e regressiva para os pontos\n",
    "X=[2,3,4]\n",
    "'''\n",
    "import sympy as sp\n",
    "# *****************************************************************************\n",
    "# Lista de valores\n",
    "X=[2,3,4]\n",
    "# Ponto de análise\n",
    "ponto_p=3\n",
    "# Função filtro para localizar o ponto_p na lista\n",
    "i=filter(lambda n:n == ponto_p,X)\n",
    "# Índice de locação do ponto na lista X\n",
    "i=X.index(ponto_p)\n",
    "\n",
    "# *****************************************************************************\n",
    "# Função de análise f(x)=x³\n",
    "f=lambda x:x**3\n",
    "# *****************************************************************************\n",
    "# Função para derivada analítica com auxílio da biblioteca sympy\n",
    "def derivada(k): \n",
    "    x = sp.Symbol('x')\n",
    "    fun = k(x)    \n",
    "    dh=sp.diff(fun,x,1)              # Derivada primeira\n",
    "    return sp.lambdify(x,dh,'numpy') \n",
    "\n",
    "# # *****************************************************************************\n",
    "# Derivada Analítica incluída automaticamente a partir da função 'derivada' criada\n",
    "df1=derivada(f)\n",
    "\n",
    "deriv = df1(ponto_p)\n",
    "# Derivada numérica\n",
    "dprog  =( f(X[i+1]) - f(X[i]) ) / (X[i+1]-X[i])\n",
    "dcentr =( f(X[i+1]) - f(X[i-1]))/ (X[i+1]-X[i-1])\n",
    "dregr  =( f(X[i]) - f(X[i-1]) ) / (X[i]-X[i-1])\n",
    "\n",
    "# # *****************************************************************************\n",
    "# Resultados\n",
    "print('-'*50)\n",
    "print(\"RESULTADOS:\")\n",
    "print('-'*50)\n",
    "print(\"Dif.Analítica \\tDif.Prog\\tDif.Central\\tDif.Regr\")\n",
    "print(f\" \\t{deriv}\\t  {dprog}         \\t  {dcentr}     \\t   {dregr}\")\n",
    "\n",
    "# # *****************************************************************************\n",
    "# Resultados do erros\n",
    "E=[]\n",
    "for i in [dprog,dcentr,dregr]:\n",
    "    E.append(round(abs(i-deriv)/deriv,2))\n",
    "print(f\"\\n Erros:\\t\\t {E[0]*100}%        \\t  {E[1]*100}%     \\t   {E[2]*100}%\")"
   ]
  },
  {
   "cell_type": "markdown",
   "id": "fb88478d-9405-4cae-badc-b0a1a3d658f2",
   "metadata": {},
   "source": [
    "### Versão 02"
   ]
  },
  {
   "cell_type": "code",
   "execution_count": 4,
   "id": "e7067bc1-f712-45ed-ae2a-d98fece298c5",
   "metadata": {
    "tags": []
   },
   "outputs": [
    {
     "name": "stdin",
     "output_type": "stream",
     "text": [
      "Insira os pontos do domínio separados por vírgula:  21,22,23\n",
      "Informe o ponto de referência da lista para cálculo da derivada numérica 22\n"
     ]
    },
    {
     "name": "stdout",
     "output_type": "stream",
     "text": [
      "--------------------------------------------------\n",
      "RESULTADOS:\n",
      "--------------------------------------------------\n",
      "Dif.Analítica \tDif.Prog\tDif.Central\tDif.Regr\n",
      " \t1452\t  1519.0         \t  1453.0     \t   1387.0\n",
      "\n",
      " Erros:\t\t 5.0%    \t  0.0%     \t   4.0%\n"
     ]
    }
   ],
   "source": [
    "'''\n",
    "Versão 02 - Derivada analítica com biblioteca auxilar e derivadas numéricas progressiva, central e regressiva com interação do usuário\n",
    "'''\n",
    "import sympy as sp\n",
    "# *****************************************************************************\n",
    "# Lista de valores\n",
    "entrada = input(\"Insira os pontos do domínio separados por vírgula: \").split(',')\n",
    "X = list(map(int, entrada))\n",
    "ponto_p= int(input(\"Informe o ponto de referência da lista para cálculo da derivada numérica\"))\n",
    "\n",
    "# Função filtro para localizar o ponto_p na lista\n",
    "i=filter(lambda n:n == ponto_p,X)\n",
    "# Índice de locação do ponto na lista X\n",
    "i=X.index(ponto_p)\n",
    "\n",
    "# *****************************************************************************\n",
    "# Função de análise f(x)=x³\n",
    "f=lambda x:x**3\n",
    "# *****************************************************************************\n",
    "# Função para derivada analítica com auxílio da biblioteca sympy\n",
    "def derivada(k): \n",
    "    x = sp.Symbol('x')\n",
    "    fun = k(x)    \n",
    "    dh=sp.diff(fun,x,1)              # Derivada primeira\n",
    "    return sp.lambdify(x,dh,'numpy') \n",
    "\n",
    "# # *****************************************************************************\n",
    "# Derivada Analítica incluída automaticamente a partir da função 'derivada' criada\n",
    "df1=derivada(f)\n",
    "\n",
    "deriv = df1(ponto_p)\n",
    "# Derivada numérica\n",
    "dprog  =( f(X[i+1]) - f(X[i]) ) / (X[i+1]-X[i])\n",
    "dcentr =( f(X[i+1]) - f(X[i-1]))/ (X[i+1]-X[i-1])\n",
    "dregr  =( f(X[i]) - f(X[i-1]) ) / (X[i]-X[i-1])\n",
    "\n",
    "# # *****************************************************************************\n",
    "# Resultados\n",
    "print('-'*50)\n",
    "print(\"RESULTADOS:\")\n",
    "print('-'*50)\n",
    "print(\"Dif.Analítica \\tDif.Prog\\tDif.Central\\tDif.Regr\")\n",
    "print(f\" \\t{deriv}\\t  {dprog}         \\t  {dcentr}     \\t   {dregr}\")\n",
    "\n",
    "# # *****************************************************************************\n",
    "# Resultados do erros\n",
    "E=[]\n",
    "for i in [dprog,dcentr,dregr]:\n",
    "    E.append(round(abs(i-deriv)/deriv,2))\n",
    "print(f\"\\n Erros:\\t\\t {E[0]*100}%    \\t  {E[1]*100}%     \\t   {E[2]*100}%\")"
   ]
  },
  {
   "cell_type": "markdown",
   "id": "cc378a37-1487-40d4-954a-86db9ce5e80d",
   "metadata": {},
   "source": [
    "### Versão 03"
   ]
  },
  {
   "cell_type": "code",
   "execution_count": 5,
   "id": "336de26f-f6b1-4527-b4dc-410a609ad7b1",
   "metadata": {
    "tags": []
   },
   "outputs": [],
   "source": [
    "'''\n",
    "Versão 03 - versão 02 utilizando métodos def\n",
    "'''\n",
    "import sympy as sp\n",
    "# *****************************************************************************\n",
    "# Lista de valores\n",
    "\n",
    "def dados_entrada():\n",
    "    entrada = input(\"Insira os pontos do domínio separados por vírgula: \").split(',')\n",
    "    X = list(map(int, entrada))\n",
    "    ponto_p= int(input(\"Informe o ponto de referência da lista para cálculo da derivada numérica\"))\n",
    "\n",
    "    # Função filtro para localizar o ponto_p na lista\n",
    "    i=filter(lambda n:n == ponto_p,X)\n",
    "    # Índice de locação do ponto na lista X\n",
    "    i=X.index(ponto_p)\n",
    "\n",
    "    return X,ponto_p,i\n",
    "\n",
    "# Função para derivada analítica com auxílio da biblioteca sympy\n",
    "def derivada(k): \n",
    "    x = sp.Symbol('x')\n",
    "    fun = k(x)    \n",
    "    dh=sp.diff(fun,x,1)              # Derivada primeira\n",
    "    \n",
    "    return sp.lambdify(x,dh,'numpy') \n",
    "\n",
    "\n",
    "def calculo_derivadas(f,X,ponto_p):\n",
    "# # *****************************************************************************\n",
    "# Derivada Analítica incluída automaticamente a partir da função 'derivada' criada\n",
    "    df1=derivada(f)\n",
    "\n",
    "    deriv = df1(ponto_p)\n",
    "    # Derivada numérica\n",
    "    dprog  =( f(X[i+1]) - f(X[i]) ) / (X[i+1]-X[i])\n",
    "    dcentr =( f(X[i+1]) - f(X[i-1]))/ (X[i+1]-X[i-1])\n",
    "    dregr  =( f(X[i]) - f(X[i-1]) ) / (X[i]-X[i-1])\n",
    "\n",
    "    return dprog,dcentr,dregr,deriv    \n",
    "# # *****************************************************************************\n",
    "# Resultados\n",
    "\n",
    "# # *****************************************************************************\n",
    "# Resultados do erros\n",
    "def calculo_erros(dprog,dcentr,dregr,deriv):\n",
    "    E=[]\n",
    "    for i in [dprog,dcentr,dregr]:\n",
    "        E.append(round(abs(i-deriv)/deriv,2))    \n",
    "    return E\n",
    "\n",
    "def resultados(E,dprog,dcentr,dregr,deriv):\n",
    "    print('-'*50)\n",
    "    print(\"RESULTADOS:\")\n",
    "    print('-'*50)\n",
    "    print(\"Dif.Analítica \\tDif.Prog\\tDif.Central\\tDif.Regr\")\n",
    "    print(f\" \\t{deriv}\\t  {dprog}         \\t  {dcentr}     \\t   {dregr}\")\n",
    "    print(f\"\\n Erros:\\t\\t {E[0]*100}%    \\t  {E[1]*100}%     \\t   {E[2]*100}%\")\n",
    "        "
   ]
  },
  {
   "cell_type": "code",
   "execution_count": 6,
   "id": "47f7ac39-4f63-419d-a178-9608755aae71",
   "metadata": {
    "tags": []
   },
   "outputs": [
    {
     "name": "stdin",
     "output_type": "stream",
     "text": [
      "Insira os pontos do domínio separados por vírgula:  21,22,23\n",
      "Informe o ponto de referência da lista para cálculo da derivada numérica 22\n"
     ]
    },
    {
     "name": "stdout",
     "output_type": "stream",
     "text": [
      "--------------------------------------------------\n",
      "RESULTADOS:\n",
      "--------------------------------------------------\n",
      "Dif.Analítica \tDif.Prog\tDif.Central\tDif.Regr\n",
      " \t1452\t  1519.0         \t  1453.0     \t   1387.0\n",
      "\n",
      " Erros:\t\t 5.0%    \t  0.0%     \t   4.0%\n"
     ]
    }
   ],
   "source": [
    "# Função de análise\n",
    "f=lambda x:x**3\n",
    "# *****************************************************************************\n",
    "X,ponto_p,i= dados_entrada()       \n",
    "dprog,dcentr,dregr,deriv = calculo_derivadas(f,X,ponto_p)\n",
    "E=calculo_erros(dprog,dcentr,dregr,deriv)\n",
    "resultados(E,dprog,dcentr,dregr,deriv)"
   ]
  },
  {
   "cell_type": "markdown",
   "id": "de1189c2-c4b3-4ce9-9e66-ab2c6ae3dcd0",
   "metadata": {
    "tags": []
   },
   "source": [
    "## Código basilar utilizando classes"
   ]
  },
  {
   "cell_type": "markdown",
   "id": "95e14fc7-b28b-4196-9240-9eb6b882190a",
   "metadata": {
    "tags": []
   },
   "source": [
    "### Classes sem o método init"
   ]
  },
  {
   "cell_type": "code",
   "execution_count": 8,
   "id": "548789ab-1e1e-4cec-b7d4-918ca7b9521c",
   "metadata": {
    "tags": []
   },
   "outputs": [],
   "source": [
    "'''\n",
    "Versão 01 - Solução em classe sem utilizar o método construtor init\n",
    "'''\n",
    "import sympy as sp\n",
    "\n",
    "class DifNumeric():   \n",
    "# Lista de valores\n",
    "    def dados_entrada():\n",
    "        entrada = input(\"Insira os pontos do domínio separados por vírgula: \").split(',')\n",
    "        X = list(map(int, entrada))\n",
    "        ponto_p= int(input(\"Informe o ponto de referência da lista para cálculo da derivada numérica\"))\n",
    "\n",
    "        # Função filtro para localizar o ponto_p na lista\n",
    "        i=filter(lambda n:n == ponto_p,X)\n",
    "        # Índice de locação do ponto na lista X\n",
    "        i=X.index(ponto_p)\n",
    "\n",
    "        return X,ponto_p,i\n",
    "\n",
    "    # Função para derivada analítica com auxílio da biblioteca sympy\n",
    "    def derivada(k): \n",
    "        x = sp.Symbol('x')\n",
    "        fun = k(x)    \n",
    "        dh=sp.diff(fun,x,1)              # Derivada primeira\n",
    "\n",
    "        return sp.lambdify(x,dh,'numpy') \n",
    "\n",
    "\n",
    "    def calculo_derivadas(f,X,ponto_p):\n",
    "    # # *****************************************************************************\n",
    "    # Derivada Analítica incluída automaticamente a partir da função 'derivada' criada\n",
    "        df1=derivada(f)\n",
    "\n",
    "        deriv = df1(ponto_p)\n",
    "        # Derivada numérica\n",
    "        dprog  =( f(X[i+1]) - f(X[i]) ) / (X[i+1]-X[i])\n",
    "        dcentr =( f(X[i+1]) - f(X[i-1]))/ (X[i+1]-X[i-1])\n",
    "        dregr  =( f(X[i]) - f(X[i-1]) ) / (X[i]-X[i-1])\n",
    "\n",
    "        return dprog,dcentr,dregr,deriv    \n",
    "    # # *****************************************************************************\n",
    "    # Resultados\n",
    "\n",
    "    # # *****************************************************************************\n",
    "    # Resultados do erros\n",
    "    def calculo_erros(dprog,dcentr,dregr,deriv):\n",
    "        E=[]\n",
    "        for i in [dprog,dcentr,dregr]:\n",
    "            E.append(round(abs(i-deriv)/deriv,2))    \n",
    "        return E\n",
    "\n",
    "    def resultados(E,dprog,dcentr,dregr,deriv):\n",
    "        print('-'*50)\n",
    "        print(\"RESULTADOS:\")\n",
    "        print('-'*50)\n",
    "        print(\"Dif.Analítica \\tDif.Prog\\tDif.Central\\tDif.Regr\")\n",
    "        print(f\" \\t{deriv}\\t  {dprog}         \\t  {dcentr}     \\t   {dregr}\")\n",
    "        print(f\"\\n Erros:\\t\\t {E[0]*100}%    \\t  {E[1]*100}%     \\t   {E[2]*100}%\")\n",
    "        "
   ]
  },
  {
   "cell_type": "code",
   "execution_count": 9,
   "id": "dd6c5564-7f5f-4b6e-b894-e1b12444141d",
   "metadata": {
    "tags": []
   },
   "outputs": [
    {
     "name": "stdin",
     "output_type": "stream",
     "text": [
      "Insira os pontos do domínio separados por vírgula:  21,22,23\n",
      "Informe o ponto de referência da lista para cálculo da derivada numérica 22\n"
     ]
    },
    {
     "name": "stdout",
     "output_type": "stream",
     "text": [
      "--------------------------------------------------\n",
      "RESULTADOS:\n",
      "--------------------------------------------------\n",
      "Dif.Analítica \tDif.Prog\tDif.Central\tDif.Regr\n",
      " \t1452\t  1519.0         \t  1453.0     \t   1387.0\n",
      "\n",
      " Erros:\t\t 5.0%    \t  0.0%     \t   4.0%\n"
     ]
    }
   ],
   "source": [
    "f=lambda x:x**3\n",
    "# *****************************************************************************\n",
    "s=DifNumeric\n",
    "X,ponto_p,i = s.dados_entrada()       \n",
    "dprog,dcentr,dregr,deriv = s.calculo_derivadas(f,X,ponto_p)\n",
    "E=s.calculo_erros(dprog,dcentr,dregr,deriv)\n",
    "s.resultados(E,dprog,dcentr,dregr,deriv)\n"
   ]
  },
  {
   "cell_type": "markdown",
   "id": "2ff07eea-3e5f-443b-ba0f-77003e112ea5",
   "metadata": {
    "tags": []
   },
   "source": [
    "### Classes com o método init"
   ]
  },
  {
   "cell_type": "markdown",
   "id": "d77f0173-6aa3-4033-a8e0-a4cea48eb0bf",
   "metadata": {
    "tags": []
   },
   "source": [
    "#### Versão 01"
   ]
  },
  {
   "cell_type": "code",
   "execution_count": 10,
   "id": "678dbf08-6e05-4d17-8d89-3ad3d2b7c194",
   "metadata": {
    "tags": []
   },
   "outputs": [],
   "source": [
    "'''\n",
    "Versão 01 - Solução em classe com  o método construtor init\n",
    "'''\n",
    "import sympy as sp\n",
    "\n",
    "class DifNumeric():\n",
    "    def __init__(self,f):\n",
    "        X,ponto_p,i = self.dados_entrada()       \n",
    "        dprog,dcentr,dregr,deriv = self.calculo_derivadas(f,X,ponto_p,i)\n",
    "        E=self.calculo_erros(dprog,dcentr,dregr,deriv)\n",
    "        self.resultados(E,dprog,dcentr,dregr,deriv)    \n",
    "    \n",
    "# Lista de valores\n",
    "    def dados_entrada(self):\n",
    "        entrada = input(\"Insira os pontos do domínio separados por vírgula: \").split(',')\n",
    "        X = list(map(int, entrada))\n",
    "        ponto_p= int(input(\"Informe o ponto de referência da lista para cálculo da derivada numérica\"))\n",
    "\n",
    "        # Função filtro para localizar o ponto_p na lista\n",
    "        i=filter(lambda n:n == ponto_p,X)\n",
    "        # Índice de locação do ponto na lista X\n",
    "        i=X.index(ponto_p)\n",
    "\n",
    "        return X,ponto_p,i\n",
    "\n",
    "    # Função para derivada analítica com auxílio da biblioteca sympy\n",
    "    def derivada(self,k): \n",
    "        x = sp.Symbol('x')\n",
    "        fun = k(x)    \n",
    "        dh=sp.diff(fun,x,1)              # Derivada primeira\n",
    "\n",
    "        return sp.lambdify(x,dh,'numpy') \n",
    "\n",
    "\n",
    "    def calculo_derivadas(self,f,X,ponto_p,i):\n",
    "    # # *****************************************************************************\n",
    "    # Derivada Analítica incluída automaticamente a partir da função 'derivada' criada\n",
    "        df1=self.derivada(f)\n",
    "\n",
    "        deriv = df1(ponto_p)\n",
    "        # Derivada numérica\n",
    "        dprog  =( f(X[i+1]) - f(X[i]) ) / (X[i+1]-X[i])\n",
    "        dcentr =( f(X[i+1]) - f(X[i-1]))/ (X[i+1]-X[i-1])\n",
    "        dregr  =( f(X[i]) - f(X[i-1]) ) / (X[i]-X[i-1])\n",
    "\n",
    "        return dprog,dcentr,dregr,deriv    \n",
    "\n",
    "    # # *****************************************************************************\n",
    "    # Resultados do erros\n",
    "    def calculo_erros(self,dprog,dcentr,dregr,deriv):\n",
    "        E=[]\n",
    "        for i in [dprog,dcentr,dregr]:\n",
    "            E.append(round(abs(i-deriv)/deriv,2))    \n",
    "        return E\n",
    "\n",
    "    def resultados(self,E,dprog,dcentr,dregr,deriv):\n",
    "        print('-'*50)\n",
    "        print(\"RESULTADOS:\")\n",
    "        print('-'*50)\n",
    "        print(\"Dif.Analítica \\tDif.Prog\\tDif.Central\\tDif.Regr\")\n",
    "        print(f\" \\t{deriv}\\t  {dprog}         \\t  {dcentr}     \\t   {dregr}\")\n",
    "        print(f\"\\n Erros:\\t\\t {E[0]*100}%    \\t  {E[1]*100}%     \\t   {E[2]*100}%\")\n",
    "        "
   ]
  },
  {
   "cell_type": "code",
   "execution_count": 11,
   "id": "be26f40a-d4a4-401b-8416-b73d5d9dda92",
   "metadata": {
    "tags": []
   },
   "outputs": [
    {
     "name": "stdin",
     "output_type": "stream",
     "text": [
      "Insira os pontos do domínio separados por vírgula:  21,22,23\n",
      "Informe o ponto de referência da lista para cálculo da derivada numérica 22\n"
     ]
    },
    {
     "name": "stdout",
     "output_type": "stream",
     "text": [
      "--------------------------------------------------\n",
      "RESULTADOS:\n",
      "--------------------------------------------------\n",
      "Dif.Analítica \tDif.Prog\tDif.Central\tDif.Regr\n",
      " \t1452\t  1519.0         \t  1453.0     \t   1387.0\n",
      "\n",
      " Erros:\t\t 5.0%    \t  0.0%     \t   4.0%\n"
     ]
    }
   ],
   "source": [
    "f=lambda x:x**3\n",
    "# *****************************************************************************\n",
    "s=DifNumeric(f)"
   ]
  },
  {
   "cell_type": "markdown",
   "id": "08988faf-9afa-4e16-b87a-3819ee759b9c",
   "metadata": {
    "tags": []
   },
   "source": [
    "#### Versão 02"
   ]
  },
  {
   "cell_type": "code",
   "execution_count": 12,
   "id": "a6338a89-3dfb-41de-9516-15a001df8cde",
   "metadata": {
    "tags": []
   },
   "outputs": [],
   "source": [
    "'''\n",
    "Versão 02 - Solução em classe com  o método construtor init e variáveis globais (self)\n",
    "'''\n",
    "import sympy as sp\n",
    "\n",
    "class DifNumeric():\n",
    "    def __init__(self,f):\n",
    "        \n",
    "        self.f=f\n",
    "        self.X=None\n",
    "        self.dados_entrada()       \n",
    "        self.calculo_derivadas()\n",
    "        self.calculo_erros()\n",
    "        self.resultados()    \n",
    "    \n",
    "# Lista de valores\n",
    "    def dados_entrada(self):\n",
    "        entrada = input(\"Insira os pontos do domínio separados por vírgula: \").split(',')\n",
    "        X = list(map(int, entrada))\n",
    "        ponto_p= int(input(\"Informe o ponto de referência da lista para cálculo da derivada numérica\"))\n",
    "\n",
    "        # Função filtro para localizar o ponto_p na lista\n",
    "        i=filter(lambda n:n == ponto_p,X)\n",
    "        # Índice de locação do ponto na lista X\n",
    "        i=X.index(ponto_p)\n",
    "\n",
    "        self.X=X\n",
    "        self.ponto_p=ponto_p\n",
    "        self.i=i\n",
    "\n",
    "    \n",
    "    def derivada(self,k): \n",
    "        # Função para derivada analítica com auxílio da biblioteca sympy\n",
    "        x = sp.Symbol('x')\n",
    "        fun = k(x)    \n",
    "        dh=sp.diff(fun,x,1)              # Derivada primeira\n",
    "\n",
    "        return sp.lambdify(x,dh,'numpy') \n",
    "\n",
    "\n",
    "    def calculo_derivadas(self):\n",
    "        # # *****************************************************************************\n",
    "        # Derivada Analítica incluída automaticamente a partir da função 'derivada' criada\n",
    "        df1=self.derivada(self.f)\n",
    "        self.deriv = df1(self.ponto_p)\n",
    "        \n",
    "        # Derivada numérica\n",
    "        X,i=self.X,self.i\n",
    "        self.dprog  =( f(X[i+1]) - f(X[i]) ) / (X[i+1]-X[i])\n",
    "        self.dcentr =( f(X[i+1]) - f(X[i-1]))/ (X[i+1]-X[i-1])\n",
    "        self.dregr  =( f(X[i]) - f(X[i-1]) ) / (X[i]-X[i-1])\n",
    "\n",
    "    def calculo_erros(self):\n",
    "        # Resultados do erros\n",
    "\n",
    "        E=[]\n",
    "        for i in [self.dprog,self.dcentr,self.dregr]:\n",
    "            E.append(round(abs(i-self.deriv)/self.deriv,2))    \n",
    "        self.E = E\n",
    "\n",
    "    def resultados(self):\n",
    "        print('-'*50)\n",
    "        print(\"RESULTADOS:\")\n",
    "        print('-'*50)\n",
    "        print(\"Dif.Analítica \\tDif.Prog\\tDif.Central\\tDif.Regr\")\n",
    "        print(f\" \\t{self.deriv}\\t  {self.dprog}         \\t  {self.dcentr}     \\t   {self.dregr}\")\n",
    "        print(f\"\\n Erros:\\t\\t {self.E[0]*100}%    \\t  {self.E[1]*100}%     \\t   {self.E[2]*100}%\")\n",
    "        "
   ]
  },
  {
   "cell_type": "code",
   "execution_count": 13,
   "id": "3f6b7bd4-3b08-43f9-a51d-c566526fb94c",
   "metadata": {
    "tags": []
   },
   "outputs": [
    {
     "name": "stdin",
     "output_type": "stream",
     "text": [
      "Insira os pontos do domínio separados por vírgula:  21,22,23\n",
      "Informe o ponto de referência da lista para cálculo da derivada numérica 22\n"
     ]
    },
    {
     "name": "stdout",
     "output_type": "stream",
     "text": [
      "--------------------------------------------------\n",
      "RESULTADOS:\n",
      "--------------------------------------------------\n",
      "Dif.Analítica \tDif.Prog\tDif.Central\tDif.Regr\n",
      " \t1452\t  1519.0         \t  1453.0     \t   1387.0\n",
      "\n",
      " Erros:\t\t 5.0%    \t  0.0%     \t   4.0%\n"
     ]
    }
   ],
   "source": [
    "f=lambda x:x**3\n",
    "a=DifNumeric(f)"
   ]
  },
  {
   "cell_type": "markdown",
   "id": "403ee7d4-426b-410e-a376-e0cec1b8caa3",
   "metadata": {
    "tags": []
   },
   "source": [
    "   "
   ]
  }
 ],
 "metadata": {
  "kernelspec": {
   "display_name": "Python 3 (ipykernel)",
   "language": "python",
   "name": "python3"
  },
  "language_info": {
   "codemirror_mode": {
    "name": "ipython",
    "version": 3
   },
   "file_extension": ".py",
   "mimetype": "text/x-python",
   "name": "python",
   "nbconvert_exporter": "python",
   "pygments_lexer": "ipython3",
   "version": "3.11.5"
  },
  "toc-autonumbering": true
 },
 "nbformat": 4,
 "nbformat_minor": 5
}
