{
 "cells": [
  {
   "cell_type": "markdown",
   "id": "dd893c38-600d-42b2-85fd-b1982b00a94f",
   "metadata": {
    "tags": []
   },
   "source": [
    "# Diferenciação Numérica\n",
    "from IPython.display import display, Math, Latex\n"
   ]
  },
  {
   "cell_type": "markdown",
   "id": "25ab9c40-e538-4d79-ae9b-d45288a5b55d",
   "metadata": {
    "tags": []
   },
   "source": [
    "## Conceito"
   ]
  },
  {
   "cell_type": "markdown",
   "id": "1655c8aa-fab0-4f08-bb9f-4e3e91537ad6",
   "metadata": {
    "tags": []
   },
   "source": [
    "\n",
    "A diferenciação é usada na obtenção dos máximos e mínimos de uma função.\n",
    "\n",
    "• A teoria de Métodos Numéricos, solução por aproximação, é usada quando a diferenci-\n",
    "ação de uma função é difícil ou impossível através de uma solução analítica.\n",
    "\n",
    "• A diferenciação numérica é usada em um conjunto de pontos discretos, medidos ou\n",
    "gravados em experimentos."
   ]
  },
  {
   "cell_type": "markdown",
   "id": "caf88fa3-8aaa-4881-858b-77b2fede8241",
   "metadata": {},
   "source": [
    "\n",
    "<img src=\"figures/dif2.png\" width=\"35%\">\n",
    "<figcaption>Fonte: Gilat (2008)</figcaption>\n",
    "\n",
    "<p><strong>Derivada por diferenças finitas</strong></p>\n",
    "<p>A aproximação da derivada em um ponto $x_i$ se baseia nos valores dos pontos na vizinhança de $x_i$ .</p>\n",
    "<ul>\n",
    "    <li>A aproximação depende da precisão dos pontos, do espaçamento entre eles e da expressão específica utilizada na aproximação.</li>\n",
    "    <li>A derivada no ponto $x_i$ é aproximada pela inclinação da reta que liga o ponto antes de $x_i$ ao ponto após $x_i$.</li>\n",
    "    <li>Problemas de ruído penalizam este tipo de aproximação.</li>\n"
   ]
  },
  {
   "cell_type": "markdown",
   "id": "acb1283c-b999-4faf-ad4e-06c4864ce7a2",
   "metadata": {},
   "source": [
    "\n",
    "<img src=\"figures/dif3.png\" width=\"35%\">\n",
    "<figcaption>Fonte: Gilat (2008)</figcaption>\n",
    "\n",
    "<p><strong>Definição do Cálculo </strong></p>\n",
    "$$ \\frac{df(x)}{dx} \\Big|_{x=a}=f'(a)=\\lim_{x \\rightarrow a} \\frac{f(x)-f(a)}{x-a}$$\n",
    "<ul>\n",
    "    <li>É o valor da inclinação da <strong>reta tangente</strong> à função em $x=a$, obtida com a escolha de um ponto $x$ próximo a $x = a$ e o cálculo da inclinação da reta que conecta os dois pontos.</li>\n",
    "    <li>Aumenta à medida que $x \\rightarrow a$ tal que no limite em que o ponto $x$ tende ao ponto $a$, a derivada é a inclinação da reta tangente a $f(x)$ em $x = a$.</li>"
   ]
  },
  {
   "cell_type": "markdown",
   "id": "110e3e34-231b-4d1b-a0ce-9b5d7ee01a7e",
   "metadata": {
    "tags": []
   },
   "source": [
    "* Na <span style=\"color:blue;\">aproximação de derivadas</span> usando diferenças finitas, valores da função em diferentes pontos na vizinhança do ponto $x = a$ são usados na estimativa da inclinação.\n",
    "* As fórmulas de diferenças finitas progressiva, regressiva e central são as mais simples aproximações da derivada por diferenças finitas.\n",
    "* Diferença finita\n",
    "    * *Progressiva* de $x_{i+1}$ a $x_i$.\n",
    "    * *Regressiva* de $x_{i}$ a $x_{i-1}$.\n",
    "    * *Central* de $x_{i+1}$ a $x_{i-1}$.\n"
   ]
  },
  {
   "cell_type": "markdown",
   "id": "99a3f754-09a0-48c5-b45b-398620c7a942",
   "metadata": {},
   "source": [
    "<img src=\"figures/dif4.png\" width=\"80%\">\n",
    "<figcaption>Fonte: Gilat (2008)</figcaption>\n",
    "\n",
    "\n",
    "* Progressiva $\\displaystyle \\frac{df(x)}{dx} \\Big|_{x=x_i}= \\frac{f(x_{i+1})-f(x_i)}{x_{i+1}-x_i}$\n",
    "\n",
    "* <span style=\"color:blue;\">\n",
    "    Central $\\displaystyle \\frac{df(x)}{dx} \\Big|_{x=x_i}= \\frac{f(x_i)-f(x_{i-1})}{x_i-x_{i-1}}$\n",
    "  </span>\n",
    "\n",
    "\n",
    "* Regressiva $\\displaystyle \\frac{df(x)}{dx} \\Big|_{x=x_i}= \\frac{f(x_{i+1})-f(x_{i-1})}{x_{i+1}-x_{i-1}}$\n",
    "\n",
    "\n"
   ]
  },
  {
   "cell_type": "markdown",
   "id": "78821228-238a-4057-a855-df461a9e01a8",
   "metadata": {
    "tags": []
   },
   "source": [
    "\n",
    "**Considere a função $f(x) = x^3$.** \n",
    "\n",
    "Calcule numericamente a derivada primeira no ponto $x = 3$ aplicando as fórmulas de diferenças finitas progressiva, regressiva e central, utilizando os pontos:\n",
    "* $x = 2$\n",
    "* $x = 3$ \n",
    "* $x = 4$\n",
    "\n",
    "Compare os resultados com a derivada exata (analítica).\n",
    "\n"
   ]
  },
  {
   "cell_type": "markdown",
   "id": "8c9b6b57-f731-493a-8ba6-79d32432fa2c",
   "metadata": {},
   "source": [
    "\n",
    "**Diferenciação analítica: $f'(x)=3.x^2 = f'(3) = 3.3^2 = 27$**\n",
    " * [(a)]Diferenciação numérica: \n",
    "  \n",
    "* Diferenciação finita progressiva: \n",
    "            $\\displaystyle \\frac{df(x)}{dx} \\Big|_{x=3}= \\frac{f(4)-f(3)}{4-3} = \\frac{4^3-3^3}{1} = 37  \\rightarrow Erro = \\Big| \\frac{37-27}{27}.100 \\Big| = 37,04\\%$\n",
    "            \n",
    "* Diferenciação finita regressiva: \n",
    "            $\\displaystyle \\frac{df(x)}{dx} \\Big|_{x=3}= \\frac{f(3)-f(2)}{3-2} =  \\frac{3^3-2^3}{1} = 19 \\rightarrow Erro = \\Big| \\frac{19-27}{27}.100 \\Big| = 29,63\\%$\n",
    "            \n",
    "* Diferenciação finita central: $\\displaystyle \\frac{df(x)}{dx} \\Big|_{x=3}= \\frac{f(4)-f(2)}{4-2} = \\frac{4^3-2^3}{2} = 28 \\rightarrow Erro = \\Big| \\frac{28-27}{27}.100 \\Big| = 3,704\\%$\n",
    "            \n",
    "* Erro_{relativo} =$\\Big|\\frac{Y_{aproximado}-Y_{real}}{Y_{real}}.100 \\Big| = Y\\%$  "
   ]
  },
  {
   "cell_type": "markdown",
   "id": "bd9f6106-4434-4075-8a87-bf3bbb85dd00",
   "metadata": {
    "tags": []
   },
   "source": [
    "# Códigos"
   ]
  },
  {
   "cell_type": "markdown",
   "id": "7f052598-d391-4c50-8891-4b2fa51a0e41",
   "metadata": {
    "tags": []
   },
   "source": [
    "## Código basilar em modo procedural"
   ]
  },
  {
   "cell_type": "code",
   "execution_count": 21,
   "id": "7c43e29d-6c42-4b7b-be41-94f403ea009d",
   "metadata": {
    "tags": []
   },
   "outputs": [
    {
     "name": "stdin",
     "output_type": "stream",
     "text": [
      "Insira os pontos do domínio separados por vírgula:  21,22,23,24,25\n",
      "Informe o ponto de referência da lista para cálculo da derivada numérica 23\n"
     ]
    },
    {
     "name": "stdout",
     "output_type": "stream",
     "text": [
      "--------------------------------------------------\n",
      "RESULTADOS:\n",
      "--------------------------------------------------\n",
      "Dif.Analítica \tDif.Prog\tDif.Central\tDif.Regr\n",
      " \t1587\t  1657.0         \t  1588.0     \t   1519.0\n",
      "\n",
      " Erros:\t\t 4.0%    \t  0.0%     \t   4.0%\n"
     ]
    }
   ],
   "source": [
    "'''\n",
    "Versão 03 - versão 02 utilizando métodos def\n",
    "'''\n",
    "import sympy as sp\n",
    "# *****************************************************************************\n",
    "# Lista de valores\n",
    "\n",
    "def dados_entrada():\n",
    "    entrada = input(\"Insira os pontos do domínio separados por vírgula: \").split(',')\n",
    "    X = list(map(int, entrada))\n",
    "    ponto_p= int(input(\"Informe o ponto de referência da lista para cálculo da derivada numérica\"))\n",
    "\n",
    "    # Função filtro para localizar o ponto_p na lista\n",
    "    i=filter(lambda n:n == ponto_p,X)\n",
    "    # Índice de locação do ponto na lista X\n",
    "    i=X.index(ponto_p)\n",
    "\n",
    "    return X,ponto_p,i\n",
    "\n",
    "# Função para derivada analítica com auxílio da biblioteca sympy\n",
    "def derivada(k): \n",
    "    x = sp.Symbol('x')\n",
    "    fun = k(x)    \n",
    "    dh=sp.diff(fun,x,1)              # Derivada primeira\n",
    "    \n",
    "    return sp.lambdify(x,dh,'numpy') \n",
    "\n",
    "\n",
    "def calculo_derivadas(f,X,ponto_p):\n",
    "# # *****************************************************************************\n",
    "# Derivada Analítica incluída automaticamente a partir da função 'derivada' criada\n",
    "    df1=derivada(f)\n",
    "\n",
    "    deriv = df1(ponto_p)\n",
    "    # Derivada numérica\n",
    "    dprog  =( f(X[i+1]) - f(X[i]) ) / (X[i+1]-X[i])\n",
    "    dcentr =( f(X[i+1]) - f(X[i-1]))/ (X[i+1]-X[i-1])\n",
    "    dregr  =( f(X[i]) - f(X[i-1]) ) / (X[i]-X[i-1])\n",
    "\n",
    "    return dprog,dcentr,dregr,deriv    \n",
    "# # *****************************************************************************\n",
    "# Resultados\n",
    "\n",
    "# # *****************************************************************************\n",
    "# Resultados do erros\n",
    "def calculo_erros(dprog,dcentr,dregr,deriv):\n",
    "    E=[]\n",
    "    for i in [dprog,dcentr,dregr]:\n",
    "        E.append(round(abs(i-deriv)/deriv,2))    \n",
    "    return E\n",
    "\n",
    "def resultados(E,dprog,dcentr,dregr,deriv):\n",
    "    print('-'*50)\n",
    "    print(\"RESULTADOS:\")\n",
    "    print('-'*50)\n",
    "    print(\"Dif.Analítica \\tDif.Prog\\tDif.Central\\tDif.Regr\")\n",
    "    print(f\" \\t{deriv}\\t  {dprog}         \\t  {dcentr}     \\t   {dregr}\")\n",
    "    print(f\"\\n Erros:\\t\\t {E[0]*100}%    \\t  {E[1]*100}%     \\t   {E[2]*100}%\")\n",
    "\n",
    "\n",
    "if __name__ == \"__main__\":    \n",
    "    # Função de análise\n",
    "    f=lambda x:x**3\n",
    "    # *****************************************************************************\n",
    "    X,ponto_p,i = dados_entrada()       \n",
    "    dprog,dcentr,dregr,deriv = calculo_derivadas(f,X,ponto_p)\n",
    "    E=calculo_erros(dprog,dcentr,dregr,deriv)\n",
    "    resultados(E,dprog,dcentr,dregr,deriv)"
   ]
  },
  {
   "cell_type": "markdown",
   "id": "de1189c2-c4b3-4ce9-9e66-ab2c6ae3dcd0",
   "metadata": {
    "tags": []
   },
   "source": [
    "## Código basilar utilizando classes"
   ]
  },
  {
   "cell_type": "code",
   "execution_count": 7,
   "id": "a6338a89-3dfb-41de-9516-15a001df8cde",
   "metadata": {
    "tags": []
   },
   "outputs": [
    {
     "name": "stdin",
     "output_type": "stream",
     "text": [
      "Insira os pontos do domínio separados por vírgula:  21,22,23,24\n",
      "Informe o ponto de referência da lista para cálculo da derivada numérica 22\n"
     ]
    },
    {
     "name": "stdout",
     "output_type": "stream",
     "text": [
      "--------------------------------------------------\n",
      "RESULTADOS:\n",
      "--------------------------------------------------\n",
      "Dif.Analítica \tDif.Prog\tDif.Central\tDif.Regr\n",
      " \t1452\t  1519.0         \t  1453.0     \t   1387.0\n",
      "\n",
      " Erros:\t\t 5.0%    \t  0.0%     \t   4.0%\n"
     ]
    }
   ],
   "source": [
    "'''\n",
    "Versão 02 - Solução em classe com  o método construtor init e variáveis globais (self)\n",
    "'''\n",
    "import sympy as sp\n",
    "\n",
    "class DifNumeric():\n",
    "    def __init__(self,f):\n",
    "        \n",
    "        self.f=f\n",
    "        self.X=None\n",
    "        self.dados_entrada()       \n",
    "        self.calculo_derivadas()\n",
    "        self.calculo_erros()\n",
    "        self.resultados()    \n",
    "    \n",
    "# Lista de valores\n",
    "    def dados_entrada(self):\n",
    "        entrada = input(\"Insira os pontos do domínio separados por vírgula: \").split(',')\n",
    "        X = list(map(int, entrada))\n",
    "        ponto_p= int(input(\"Informe o ponto de referência da lista para cálculo da derivada numérica\"))\n",
    "\n",
    "        # Função filtro para localizar o ponto_p na lista\n",
    "        i=filter(lambda n:n == ponto_p,X)\n",
    "        # Índice de locação do ponto na lista X\n",
    "        i=X.index(ponto_p)\n",
    "\n",
    "        self.X=X\n",
    "        self.ponto_p=ponto_p\n",
    "        self.i=i\n",
    "\n",
    "    \n",
    "    def derivada(self,k): \n",
    "        # Função para derivada analítica com auxílio da biblioteca sympy\n",
    "        x = sp.Symbol('x')\n",
    "        fun = k(x)    \n",
    "        dh=sp.diff(fun,x,1)              # Derivada primeira\n",
    "\n",
    "        return sp.lambdify(x,dh,'numpy') \n",
    "\n",
    "\n",
    "    def calculo_derivadas(self):\n",
    "        # # *****************************************************************************\n",
    "        # Derivada Analítica incluída automaticamente a partir da função 'derivada' criada\n",
    "        df1=self.derivada(self.f)\n",
    "        self.deriv = df1(self.ponto_p)\n",
    "        \n",
    "        # Derivada numérica\n",
    "        X,i=self.X,self.i\n",
    "        self.dprog  =( f(X[i+1]) - f(X[i]) ) / (X[i+1]-X[i])\n",
    "        self.dcentr =( f(X[i+1]) - f(X[i-1]))/ (X[i+1]-X[i-1])\n",
    "        self.dregr  =( f(X[i]) - f(X[i-1]) ) / (X[i]-X[i-1])\n",
    "\n",
    "    def calculo_erros(self):\n",
    "        # Resultados do erros\n",
    "\n",
    "        E=[]\n",
    "        for i in [self.dprog,self.dcentr,self.dregr]:\n",
    "            E.append(round(abs(i-self.deriv)/self.deriv,2))    \n",
    "        self.E = E\n",
    "\n",
    "    def resultados(self):\n",
    "        print('-'*50)\n",
    "        print(\"RESULTADOS:\")\n",
    "        print('-'*50)\n",
    "        print(\"Dif.Analítica \\tDif.Prog\\tDif.Central\\tDif.Regr\")\n",
    "        print(f\" \\t{self.deriv}\\t  {self.dprog}         \\t  {self.dcentr}     \\t   {self.dregr}\")\n",
    "        print(f\"\\n Erros:\\t\\t {self.E[0]*100}%    \\t  {self.E[1]*100}%     \\t   {self.E[2]*100}%\")\n",
    "\n",
    "        \n",
    "f=lambda x:x**3\n",
    "a=DifNumeric(f)        "
   ]
  },
  {
   "cell_type": "markdown",
   "id": "2219a544-7924-40cc-808a-c420ba34ae98",
   "metadata": {
    "tags": []
   },
   "source": [
    "## Exercícios extra 1"
   ]
  },
  {
   "cell_type": "markdown",
   "id": "0c5f85b1-7ffa-4bd4-841f-8c9a590f5ccb",
   "metadata": {},
   "source": [
    "Em um experimento de vibração, um bloco de massa $m$ é preso a uma mola com dureza $k$ e a um amortecedor com coeficiente de amortecimento $c$. Para que o experimento tenha início, o bloco é retirado da posição de equilíbrio e solto. A posição do bloco em função do tempo é gravada em uma freqüência de 5 Hz (5 vezes por segundo).  Os dados no intervalo $4 \\le t \\le 8 s$ são dados dispostos nas colunas 1 (x-(cm)) e coluna 2(t-(s)) da matriz ao lado:\n",
    "\n",
    "\n",
    "x (cm) = [-5.87, -4.23, -2.55, -0.89, 0.67, 2.09, 3.31, 4.31,5.06, 5.55, 5.78, 5.77, 5.52, 5.08, 4.46, 3.72, 2.88, 2.00,1.10, 0.23, -0.59]\n",
    "\n",
    "t  (s) = [4.0, 4.2, 4.4, 4.6, 4.8, 5.0, 5.2, 5.4, 5.6, 5.8, 6.0, 6.2, 6.4, 6.6, 6.8, 7.0, 7.2, 7.4, 7.6, 7.8, 8.0]\n",
    "\n",
    "Pede-se:\n",
    "\n",
    "*  A velocidade do bloco é a derivada da posição em relação ao tempo. Use a fórmula de diferença finita central para calcular a velocidade nos tempos $t = 5s$ e $t = 6s$.\n",
    "* Escreva uma função no Matlab/Octave (Python) que calcule a derivada de uma função descrita por um conjunto de pontos. A função deve calcular a derivada no primeiro e no último ponto usando as fórmulas de diferenças finitas progressiva e regressiva, respectivamente, e usando a fórmula de diferença finita central nos demais pontos."
   ]
  },
  {
   "cell_type": "code",
   "execution_count": 11,
   "id": "56fc8b1e-cb6b-4d56-bb2b-e68b4fd7a7b1",
   "metadata": {
    "tags": []
   },
   "outputs": [
    {
     "data": {
      "image/png": "[encoded data removed]",
      "text/plain": [
       "<Figure size 500x800 with 3 Axes>"
      ]
     },
     "metadata": {},
     "output_type": "display_data"
    }
   ],
   "source": [
    "# Solução utilizando vetor de zeros e atualizando-o\n",
    "import numpy as np\n",
    "import matplotlib.pyplot as plt\n",
    "#Dados\n",
    "t=np.arange(4,8.2,0.2)\n",
    "x=np.array([-5.87, -4.23, -2.55, -0.89, 0.67, 2.09, 3.31, 4.31,\n",
    "            5.06, 5.55, 5.78, 5.77, 5.52, 5.08, 4.46, 3.72, 2.88,\n",
    "            2.00,1.10, 0.23, -0.59])\n",
    "\n",
    "def derive(X,Y):                               # Derivadas\n",
    "    dx=np.zeros(len(x))                        # Vetores de derivadas\n",
    "    i=0                                        # Primeiro elemento do vetor\n",
    "    dx[i] = (Y[i+1] - Y[i] ) / (X[i+1]-X[i])   # Progressiva\n",
    "    i=-1                                       # Último elemento do vetor\n",
    "    dx[i] = (Y[i] - Y[i-1] ) / (X[i]-X[i-1])  # Regressiva\n",
    "    for i in range(1,len(x)-1):                # Elementos intermediários \n",
    "        dx[i] = (Y[i+1] - Y[i-1])/ (X[i+1]-X[i-1]) # Central\n",
    "    return dx\n",
    "\n",
    "def graf(t,x,vel,acc):\n",
    "    labels=['Deslocamento','Velocidade','Aceleração']\n",
    "    colors=['r','b','g']\n",
    "    plt.figure(figsize=(5,8))\n",
    "    for i,j in enumerate([x,vel,acc]):   \n",
    "        plt.subplot(3,1,i+1)\n",
    "        plt.plot(t,j,label = labels[i],color=colors[i])\n",
    "        plt.legend(),plt.grid(True)\n",
    "\n",
    "vel,acc = derive(t,x), derive(t,derive(t,x))\n",
    "graf(t,x,vel,acc)"
   ]
  },
  {
   "cell_type": "markdown",
   "id": "f6788653-cadc-492e-a019-c278f598e364",
   "metadata": {
    "tags": [],
    "toc-hr-collapsed": true
   },
   "source": [
    "# Diferenciação numérica via Série de Taylor"
   ]
  },
  {
   "cell_type": "markdown",
   "id": "65e45f26-d2b1-489e-91eb-04f05cc05efa",
   "metadata": {
    "tags": []
   },
   "source": [
    "## Conceito\n",
    "\n",
    "**Diferenciação Numérica usando a expansão da Série de Taylor (ST)**\n",
    "\n",
    "- A partir da expansão em série de Taylor pode-se deduzir as fórmulas de diferenças finitas progressiva, regressiva e central, anteriormente apresentadas.\n",
    "-  Essas fórmulas fornecem uma estimativa da derivada em um ponto usando valores de pontos em sua vizinhança.\n",
    "- O número de pontos utilizados nos cálculos varia com a fórmula, e os pontos podem estar à frente, atrás ou em ambos os lados do ponto onde se calcula a derivada. \n",
    "- Uma vantagem da utilização da expansão em ST na dedução das fórmulas está no fato de ela fornecer uma estimativa do *erro de truncamento* presente na aproximação.\n"
   ]
  },
  {
   "cell_type": "markdown",
   "id": "403ee7d4-426b-410e-a376-e0cec1b8caa3",
   "metadata": {
    "tags": []
   },
   "source": [
    "   "
   ]
  },
  {
   "cell_type": "markdown",
   "id": "a299ce15-399b-443c-9728-5f34032f86d7",
   "metadata": {},
   "source": [
    "**Diferença finita progressiva com dois pontos para a derivada primeira**\n",
    "\n",
    "\n",
    "\n",
    "* $f(x_{i + 1})$ aproximado pela série de Taylor em termos do valor da função e de suas derivadas no ponto $x_i$ resulta em:\n",
    "$$f(x_{i+1}) = f(x_i)+f'(x_i)h + \\frac{f''(x_i)}{2!}h^2 + \\frac{f'''(x_i)}{3!}h^3 + \\frac{f^{(4)}(x_i)}{4!}h^4 + ...$$\n",
    "em que $h=x_{i+1} - x_i$ é a distância entre os pontos.\n",
    "\n",
    "* Reescrevendo as equações *com dois termos e um resíduo* ($x_i$) (valor entre $x_i$ e $x_{i+1}$) tem-se:\n",
    "\n",
    "$$f(x_{i+1}) = f(x_i)+f'(x_i)h + \\frac{f''(x_i)}{2!}h^2$$\n",
    "\n",
    "* Isolando-se o *termo de interesse* $f'(x_i)$ tem-se:\n",
    "$$f'(x_i) = \\frac{ f(x_{i+1}) - f(x_i) }{h} - \\frac{f''(\\xi)}{2!}h $$\n",
    "* Um valor aproximado de $f'(x_i)$ introduz um erro de truncamento (discretização). \n",
    "* Declarando como zero o termo de $f(\\xi)$ o erro de truncamento é da ordem de h( escrito como $O(h)$), por ser este proporcional àquele.\n",
    "\n",
    "\n",
    "**Portanto:**\n",
    "\n",
    "* Erro de truncamento - (erro dado em função da distância entre pontos) vale:\n",
    "    $$ Erro\\ de\\  truncamento = \\frac{f''(\\xi)}{2!}h = O(h)$$\n",
    "    \n",
    "* Aproximação da derivada primeira finita progressiva por Série de Taylor:\n",
    "    $$f'(x_i) = \\frac{ f(x_{i+1}) - f(x_i) }{h} - O(h) $$\n"
   ]
  },
  {
   "cell_type": "markdown",
   "id": "8ec21c4f-2d16-45ae-8b0e-5161795e93fe",
   "metadata": {},
   "source": [
    "**A mesma estrutura de aproximação para a derivada primeira é usada, portanto, para:**\n",
    "\n",
    "* Diferença finita regressiva com dois pontos resultando em:\n",
    "        $$f'(x_i) = \\frac{ f(x_i) - f(x_{i-1}) }{h} - O(h) $$\n",
    "\n",
    "* Diferença finita central com dois pontos resultando em:\n",
    "        $$f'(x_i) = \\frac{ f(x_{i+1}) - f(x_{i-1})}{h} - O(h^2) $$\n",
    "    \n",
    "Na aproximação por diferença central o erro de truncamento é da ordem de $h^2$.\n",
    "Isso indica que a aproximação por diferença central fornece uma aproximação mais precisa para a derivada!\n"
   ]
  },
  {
   "cell_type": "markdown",
   "id": "84d7e50c-b5c8-4b9d-857a-35793d6bb34a",
   "metadata": {
    "tags": []
   },
   "source": [
    "## Sumário de aproximações de derivadas finitas por Série de Taylor"
   ]
  },
  {
   "cell_type": "markdown",
   "id": "f581239b-b249-42e9-80a4-137f76006abc",
   "metadata": {
    "tags": []
   },
   "source": [
    "### Aproximação de derivadas finitas por Série de Taylor - *Derivada primeira*\n"
   ]
  },
  {
   "cell_type": "markdown",
   "id": "bab9b8b3-62fc-4623-9e6f-774daa3dfe49",
   "metadata": {
    "tags": []
   },
   "source": [
    "* **Derivada primeira com 2 pontos**\n",
    "\n",
    "    - Diferença progressiva - $\\displaystyle f'(x_i)=\\frac{f(x_{i+1}) -f(x_i)}{h}$, com $O(h)$\n",
    "    - Diferença regressiva - $\\displaystyle f'(x_i)=\\frac{f(x_{i}) -f(x_{i-1})}{h}$, com $O(h)$\n",
    "    - Diferença central - $\\displaystyle f'(x_i)=\\frac{f(x_{i+1}) -f(x_{i-1})}{h}$, com $O(h^2)$\n",
    "\n",
    "\n",
    "* **Derivada primeira com 3 pontos**\n",
    "  \n",
    "    - Diferença progressiva - $\\displaystyle f'(x_i)=\\frac{-3f(x_i) + 4f(x_{i+1}) -f(x_{i+2})}{2h}$, com $O(h^2)$\n",
    "    - Diferença regressiva - $\\displaystyle f'(x_i)=\\frac{f(x_{i-2}) - 4f(x_{i-1}) + 3f(x_i)}{2h}$, com $O(h^2)$\n",
    "        \n",
    "    \n",
    "* **Derivada primeira com 4 pontos - necessita de  $x_{i-2} \\ a\\  x_{i+1}$**\n",
    "    \n",
    "    - Diferença central \\\\ $\\displaystyle f'(x_i)=\\frac{f(x_{i-2}) -8f(x_{i-1}) + 8f(x_{i+1}) - f(x_{i+2})}{12h}$, com $O(h^4)$\n"
   ]
  },
  {
   "cell_type": "markdown",
   "id": "7cb376f6-4347-4a39-ba4a-efa84f9c8b6b",
   "metadata": {
    "tags": []
   },
   "source": [
    "### Aproximação de derivadas finitas por Série de Taylor - *Derivada segunda*\n"
   ]
  },
  {
   "cell_type": "markdown",
   "id": "bf6893ed-d399-43fd-8f74-a997319e4be6",
   "metadata": {
    "jp-MarkdownHeadingCollapsed": true,
    "tags": []
   },
   "source": [
    "* **Derivada segunda com 3 pontos**\n",
    "  \n",
    "    * Diferença progressiva - $\\displaystyle f''(x_i)=\\frac{f(x_i) - 2f(x_{i+1}) + f(x_{i+2})}{h^2}$, com $O(h)$\n",
    "    * Diferença regressiva - $\\displaystyle f''(x_i)=\\frac{f(x_{i-2}) -2f(x_{i-1}) + f(x_i)}{h^2}$, com $O(h)$\n",
    "    * Diferença central - $\\displaystyle f''(x_i)=\\frac{f(x_{i-1}) - 2f(x_{i}) + f(x_{i+1})}{h^2}$, com $O(h^2)$\n",
    "\n",
    "* **Derivada segunda com 4 pontos**\n",
    "  \n",
    "   * Diferença progressiva - $\\displaystyle f''(x_i)=\\frac{2f(x_i) - 5f(x_{i+1}) +4f(x_{i+2}) - f(x_{i+3}) }{h^2}$, com $O(h^2)$\n",
    "   * Diferença regressiva - $\\displaystyle f''(x_i)=\\frac{ - f(x_{i-3}) + 4f(x_{i-2}) -5f(x_{i-1})+ 2f(x_i)}{h^2}$, com $O(h^2)$\n",
    "        \n",
    "  \n",
    "* **Derivada segunda com 5 pontos - central necessita de $x_{i-2} \\ a\\  x_{i+2}$**\n",
    "   \n",
    "   * Diferença central \n",
    "    $\\displaystyle f''(x_i)=\\frac{ -f(x_{i-2}) +16f(x_{i-1}) -30f(x_i) +16f(x_{i+1})-f(x_{i+2}))}{12h^2}$, com $O(h^4)$\n"
   ]
  },
  {
   "cell_type": "markdown",
   "id": "d686f096-352d-49e5-847a-9a69ecc43e92",
   "metadata": {
    "tags": []
   },
   "source": [
    "### Aproximação de derivadas finitas por Série de Taylor - *Derivada terceira*"
   ]
  },
  {
   "cell_type": "markdown",
   "id": "3017e125-e4d2-4e7f-b03f-56057cbdefc0",
   "metadata": {
    "jp-MarkdownHeadingCollapsed": true,
    "tags": []
   },
   "source": [
    "* **Derivada terceira com 4 pontos**\n",
    "    \n",
    "    - Diferença progressiva - $\\displaystyle f'''(x_i)=\\frac{ -f(x_i) + 3f(x_{i+1}) -3 f(x_{i+2}) +f(x_{i+3})}{h^3}$, com $O(h)$\n",
    "    - Diferença regressiva - $\\displaystyle f'''(x_i)=\\frac{ -f(x_{i-3}) +3f(x_{i-2}) -3f(x_{i-1}) + f(x_i)}{h^3}$, com $O(h)$\n",
    "    - Diferença central - $\\displaystyle f'''(x_i)=\\frac{ -f(x_{i-2}) + 2f(x_{i-1}) - 2f(x_{i+1}) + f(x_{i+2})}{2h^3}$ com $O(h^2)$\n",
    "* **Derivada terceira com 5 pontos**\n",
    "    - Diferença progressiva - $\\displaystyle f'''(x_i)=\\frac{ - 5f(x_{i}) +18f(x_{i+1}) - 24f(x_{i+2}) +14f(x_{i+3}) - 3f(x_{i+4}) }{2h^3}$, com $O(h^2)$\n",
    "    - Diferença regressiva - $\\displaystyle f'''(x_i)=\\frac{ 3f(x_{i-4}) -14f(x_{i-3}) +24f(x_{i-2}) - 18f(x_{i-1})+ 5f(x_i)}{2h^3}$, com $O(h^2)$\n",
    "    \n",
    "* **Derivada terceira com 6 pontos - central necessita de $x_{i-2} \\ a\\  x_{i+3}$**\n",
    "   - Diferença central \n",
    "    $\\displaystyle f'''(x_i)=\\frac{ f(x_{i-3}) - 8f(x_{i-2}) +13f(x_{i-1})-13f(x_{i+1}) +8f(x_{i+2}) - f(x_{i+3}))}{8h^3}$, com $O(h^4)$"
   ]
  },
  {
   "cell_type": "markdown",
   "id": "d3949e48-e091-404d-a083-3f99a21205f1",
   "metadata": {
    "tags": []
   },
   "source": [
    "## Exercício comparativo"
   ]
  },
  {
   "cell_type": "markdown",
   "id": "953c3155-d7ea-4174-a1cb-255dca0e7fc0",
   "metadata": {},
   "source": [
    "Considere a função $f(x)=\\frac{2^x}{x}$. Calcule numericamente a derivada segunda no ponto $x = 2$ aplicando a fórmula de diferença central com três pontos, usando:\n",
    "\n",
    "* os pontos x = 1,8, x = 2 e x = 2,2.\n",
    "* os pontos x = 1,9, x = 2 e x = 2,1.\n",
    "**Solução**\n",
    "    \n",
    "Solução analítica - A derivada segunda da função $f(x)=\\frac{2^x}{x} $ é\n",
    "    $$ f''(x)= \\frac{2^x[ln(2)^2]}{x} - \\frac{2.2^x[ln(2)]}{x^2} + \\frac{2.2^x}{x^3}$$ de modo que o valor da derivada em $x = 2$ é $\\textbf{f''(2) = 0,5746}$."
   ]
  },
  {
   "cell_type": "code",
   "execution_count": 18,
   "id": "9b2902df-89b6-4a33-a56d-9adeafd39ef1",
   "metadata": {
    "tags": []
   },
   "outputs": [
    {
     "name": "stdout",
     "output_type": "stream",
     "text": [
      "Derivada analítica: 0.574612\n",
      "Item a: 0.577482 \n",
      "Item b: 0.575324\n",
      "Erro item a 0.5016%\n",
      "Erro item b 0.126%\n"
     ]
    }
   ],
   "source": [
    "import sympy as sp\n",
    "f=lambda x:(2**x)/x\n",
    "def derivada(k,ordem=1): \n",
    "        x = sp.Symbol('x')\n",
    "        fun = k(x)    \n",
    "        dh=sp.diff(fun,x,ordem)              \n",
    "        return sp.lambdify(x,dh,'numpy') \n",
    "df = derivada(f,2)   \n",
    "print('Derivada analítica:',round(df(2),6))\n",
    "\n",
    "# ************************************\n",
    "a,b =[1.8,2,2.2],[1.9,2,2.1]\n",
    "def der_st(X):\n",
    "    h=X[0]-X[1]\n",
    "    y=[2**x/x for x in X]\n",
    "    df=(y[0]-2*y[1]+y[2])/h**2 # central\n",
    "    return round(df,6)\n",
    "print('Item a:',der_st(a),'\\nItem b:', der_st(b))\n",
    "\n",
    "# ************************************\n",
    "#Erros\n",
    "df2=round(df(2),4)\n",
    "e_a=round(100*(der_st(a)-df2)/df2,4)\n",
    "e_b=round(100*(der_st(b)-df2)/df2,4)\n",
    "print(f'Erro item a {e_a}%')\n",
    "print(f'Erro item b {e_b}%')"
   ]
  },
  {
   "cell_type": "markdown",
   "id": "6128b455-b3fa-41db-9d9c-f6f07fb15a59",
   "metadata": {},
   "source": [
    "# Versões dos códigos\n",
    "\n",
    "Explore a lógica de programação, estruturação de pensamento, comandos e sintaxes para construir novos códigos."
   ]
  },
  {
   "cell_type": "code",
   "execution_count": 19,
   "id": "15e6e636-48f4-4486-98e0-f056597296a2",
   "metadata": {
    "tags": []
   },
   "outputs": [
    {
     "name": "stdout",
     "output_type": "stream",
     "text": [
      "--------------------------------------------------\n",
      "RESULTADOS:\n",
      "--------------------------------------------------\n",
      "Dif.Analítica \tDif.Prog\tDif.Central\tDif.Regr\n",
      " \t27\t  37.0         \t  28.0     \t   19.0\n",
      "\n",
      " Erros:\t\t 37.0%        \t  4.0%     \t   30.0%\n"
     ]
    }
   ],
   "source": [
    "'''\n",
    "Versão 00 - Derivada analítica sem biblioteca auxilar e derivadas numéricas progressiva, central e regressiva para os pontos\n",
    "X=[2,3,4]\n",
    "'''\n",
    "# *****************************************************************************\n",
    "# Lista de valores\n",
    "X=[2,3,4]\n",
    "# Ponto de análise\n",
    "ponto_p=3\n",
    "# Função filtro para localizar o ponto_p na lista\n",
    "i=filter(lambda n:n == ponto_p,X)\n",
    "# Índice de locação do ponto na lista X\n",
    "i=X.index(ponto_p)\n",
    "\n",
    "# *****************************************************************************\n",
    "# Função de análise f(x)=x³\n",
    "f=lambda x:x**3\n",
    "# *****************************************************************************\n",
    "# Derivada Analítica incluída manualmente\n",
    "df = lambda x:3*x**2\n",
    "\n",
    "# *****************************************************************************\n",
    "der = df(ponto_p)\n",
    "# Derivada numérica\n",
    "dprog  =( f(X[i+1]) - f(X[i]) ) / (X[i+1]-X[i])\n",
    "dcentr =( f(X[i+1]) - f(X[i-1]))/ (X[i+1]-X[i-1])\n",
    "dregr  =( f(X[i]) - f(X[i-1]) ) / (X[i]-X[i-1])\n",
    "\n",
    "# *****************************************************************************\n",
    "# Resultados\n",
    "print('-'*50)\n",
    "print(\"RESULTADOS:\")\n",
    "print('-'*50)\n",
    "print(\"Dif.Analítica \\tDif.Prog\\tDif.Central\\tDif.Regr\")\n",
    "print(f\" \\t{der}\\t  {dprog}         \\t  {dcentr}     \\t   {dregr}\")\n",
    "\n",
    "# *****************************************************************************\n",
    "# Resultados do erros\n",
    "E=[]\n",
    "E.append(round(abs(dprog-der)/der,2))\n",
    "E.append(round(abs(dcentr-der)/der,2))\n",
    "E.append(round(abs(dregr-der)/der,2))\n",
    "print(f\"\\n Erros:\\t\\t {E[0]*100}%        \\t  {E[1]*100}%     \\t   {E[2]*100}%\")\n"
   ]
  },
  {
   "cell_type": "code",
   "execution_count": 8,
   "id": "4d50261f-a1bd-4144-a634-4b63ebd1fb14",
   "metadata": {
    "tags": []
   },
   "outputs": [
    {
     "name": "stdout",
     "output_type": "stream",
     "text": [
      "--------------------------------------------------\n",
      "RESULTADOS:\n",
      "--------------------------------------------------\n",
      "Dif.Analítica \tDif.Prog\tDif.Central\tDif.Regr\n",
      " \t27\t  37.0         \t  28.0     \t   19.0\n",
      "\n",
      " Erros:\t\t 37.0%        \t  4.0%     \t   30.0%\n"
     ]
    }
   ],
   "source": [
    "'''\n",
    "Versão 01 - Derivada analítica com biblioteca auxilar e derivadas numéricas progressiva, central e regressiva para os pontos\n",
    "X=[2,3,4]\n",
    "'''\n",
    "import sympy as sp\n",
    "# *****************************************************************************\n",
    "# Lista de valores\n",
    "X=[2,3,4]\n",
    "# Ponto de análise\n",
    "ponto_p=3\n",
    "# Função filtro para localizar o ponto_p na lista\n",
    "i=filter(lambda n:n == ponto_p,X)\n",
    "# Índice de locação do ponto na lista X\n",
    "i=X.index(ponto_p)\n",
    "\n",
    "# *****************************************************************************\n",
    "# Função de análise f(x)=x³\n",
    "f=lambda x:x**3\n",
    "# *****************************************************************************\n",
    "# Função para derivada analítica com auxílio da biblioteca sympy\n",
    "def derivada(k): \n",
    "    x = sp.Symbol('x')\n",
    "    fun = k(x)    \n",
    "    dh=sp.diff(fun,x,1)              # Derivada primeira\n",
    "    return sp.lambdify(x,dh,'numpy') \n",
    "\n",
    "# # *****************************************************************************\n",
    "# Derivada Analítica incluída automaticamente a partir da função 'derivada' criada\n",
    "df1=derivada(f)\n",
    "\n",
    "deriv = df1(ponto_p)\n",
    "# Derivada numérica\n",
    "dprog  =( f(X[i+1]) - f(X[i]) ) / (X[i+1]-X[i])\n",
    "dcentr =( f(X[i+1]) - f(X[i-1]))/ (X[i+1]-X[i-1])\n",
    "dregr  =( f(X[i]) - f(X[i-1]) ) / (X[i]-X[i-1])\n",
    "\n",
    "# # *****************************************************************************\n",
    "# Resultados\n",
    "print('-'*50)\n",
    "print(\"RESULTADOS:\")\n",
    "print('-'*50)\n",
    "print(\"Dif.Analítica \\tDif.Prog\\tDif.Central\\tDif.Regr\")\n",
    "print(f\" \\t{deriv}\\t  {dprog}         \\t  {dcentr}     \\t   {dregr}\")\n",
    "\n",
    "# # *****************************************************************************\n",
    "# Resultados do erros\n",
    "E=[]\n",
    "for i in [dprog,dcentr,dregr]:\n",
    "    E.append(round(abs(i-deriv)/deriv,2))\n",
    "print(f\"\\n Erros:\\t\\t {E[0]*100}%        \\t  {E[1]*100}%     \\t   {E[2]*100}%\")"
   ]
  },
  {
   "cell_type": "code",
   "execution_count": 22,
   "id": "34e0737a-29e8-4509-a050-d29b179f6ce4",
   "metadata": {
    "tags": []
   },
   "outputs": [
    {
     "name": "stdin",
     "output_type": "stream",
     "text": [
      "Insira os pontos do domínio separados por vírgula:  21,22,23,24,25\n",
      "Informe o ponto de referência da lista para cálculo da derivada numérica 23\n"
     ]
    },
    {
     "name": "stdout",
     "output_type": "stream",
     "text": [
      "--------------------------------------------------\n",
      "RESULTADOS:\n",
      "--------------------------------------------------\n",
      "Dif.Analítica \tDif.Prog\tDif.Central\tDif.Regr\n",
      " \t1587\t  1657.0         \t  1588.0     \t   1519.0\n",
      "\n",
      " Erros:\t\t 4.0%    \t  0.0%     \t   4.0%\n"
     ]
    }
   ],
   "source": [
    "'''\n",
    "Versão 02 - Derivada analítica com biblioteca auxilar e derivadas numéricas progressiva, central e regressiva com interação do usuário\n",
    "'''\n",
    "import sympy as sp\n",
    "# *****************************************************************************\n",
    "# Lista de valores\n",
    "entrada = input(\"Insira os pontos do domínio separados por vírgula: \").split(',')\n",
    "X = list(map(int, entrada))\n",
    "ponto_p= int(input(\"Informe o ponto de referência da lista para cálculo da derivada numérica\"))\n",
    "\n",
    "# Função filtro para localizar o ponto_p na lista\n",
    "i=filter(lambda n:n == ponto_p,X)\n",
    "# Índice de locação do ponto na lista X\n",
    "i=X.index(ponto_p)\n",
    "\n",
    "# *****************************************************************************\n",
    "# Função de análise f(x)=x³\n",
    "f=lambda x:x**3\n",
    "# *****************************************************************************\n",
    "# Função para derivada analítica com auxílio da biblioteca sympy\n",
    "def derivada(k): \n",
    "    x = sp.Symbol('x')\n",
    "    fun = k(x)    \n",
    "    dh=sp.diff(fun,x,1)              # Derivada primeira\n",
    "    return sp.lambdify(x,dh,'numpy') \n",
    "\n",
    "# # *****************************************************************************\n",
    "# Derivada Analítica incluída automaticamente a partir da função 'derivada' criada\n",
    "df1=derivada(f)\n",
    "\n",
    "deriv = df1(ponto_p)\n",
    "# Derivada numérica\n",
    "dprog  =( f(X[i+1]) - f(X[i]) ) / (X[i+1]-X[i])\n",
    "dcentr =( f(X[i+1]) - f(X[i-1]))/ (X[i+1]-X[i-1])\n",
    "dregr  =( f(X[i]) - f(X[i-1]) ) / (X[i]-X[i-1])\n",
    "\n",
    "# # *****************************************************************************\n",
    "# Resultados\n",
    "print('-'*50)\n",
    "print(\"RESULTADOS:\")\n",
    "print('-'*50)\n",
    "print(\"Dif.Analítica \\tDif.Prog\\tDif.Central\\tDif.Regr\")\n",
    "print(f\" \\t{deriv}\\t  {dprog}         \\t  {dcentr}     \\t   {dregr}\")\n",
    "\n",
    "# # *****************************************************************************\n",
    "# Resultados do erros\n",
    "E=[]\n",
    "for i in [dprog,dcentr,dregr]:\n",
    "    E.append(round(abs(i-deriv)/deriv,2))\n",
    "print(f\"\\n Erros:\\t\\t {E[0]*100}%    \\t  {E[1]*100}%     \\t   {E[2]*100}%\")"
   ]
  },
  {
   "cell_type": "code",
   "execution_count": 4,
   "id": "47bc8f4d-1fbd-4577-ac49-21cb63543afb",
   "metadata": {
    "tags": []
   },
   "outputs": [
    {
     "name": "stdin",
     "output_type": "stream",
     "text": [
      "Insira os pontos do domínio separados por vírgula:  21,22,23,24\n",
      "Informe o ponto de referência da lista para cálculo da derivada numérica 22\n"
     ]
    },
    {
     "name": "stdout",
     "output_type": "stream",
     "text": [
      "--------------------------------------------------\n",
      "RESULTADOS:\n",
      "--------------------------------------------------\n",
      "Dif.Analítica \tDif.Prog\tDif.Central\tDif.Regr\n",
      " \t1452\t  1519.0         \t  1453.0     \t   1387.0\n",
      "\n",
      " Erros:\t\t 5.0%    \t  0.0%     \t   4.0%\n"
     ]
    }
   ],
   "source": [
    "'''\n",
    "Versão 01 - Solução em classe sem utilizar o método construtor init\n",
    "'''\n",
    "import sympy as sp\n",
    "\n",
    "class DifNumeric():   \n",
    "# Lista de valores\n",
    "    def dados_entrada():\n",
    "        entrada = input(\"Insira os pontos do domínio separados por vírgula: \").split(',')\n",
    "        X = list(map(int, entrada))\n",
    "        ponto_p= int(input(\"Informe o ponto de referência da lista para cálculo da derivada numérica\"))\n",
    "\n",
    "        # Função filtro para localizar o ponto_p na lista\n",
    "        i=filter(lambda n:n == ponto_p,X)\n",
    "        # Índice de locação do ponto na lista X\n",
    "        i=X.index(ponto_p)\n",
    "\n",
    "        return X,ponto_p,i\n",
    "\n",
    "    # Função para derivada analítica com auxílio da biblioteca sympy\n",
    "    def derivada(k): \n",
    "        x = sp.Symbol('x')\n",
    "        fun = k(x)    \n",
    "        dh=sp.diff(fun,x,1)              # Derivada primeira\n",
    "\n",
    "        return sp.lambdify(x,dh,'numpy') \n",
    "\n",
    "\n",
    "    def calculo_derivadas(f,X,ponto_p):\n",
    "    # # *****************************************************************************\n",
    "    # Derivada Analítica incluída automaticamente a partir da função 'derivada' criada\n",
    "        df1=derivada(f)\n",
    "\n",
    "        deriv = df1(ponto_p)\n",
    "        # Derivada numérica\n",
    "        dprog  =( f(X[i+1]) - f(X[i]) ) / (X[i+1]-X[i])\n",
    "        dcentr =( f(X[i+1]) - f(X[i-1]))/ (X[i+1]-X[i-1])\n",
    "        dregr  =( f(X[i]) - f(X[i-1]) ) / (X[i]-X[i-1])\n",
    "\n",
    "        return dprog,dcentr,dregr,deriv    \n",
    "    # # *****************************************************************************\n",
    "    # Resultados\n",
    "\n",
    "    # # *****************************************************************************\n",
    "    # Resultados do erros\n",
    "    def calculo_erros(dprog,dcentr,dregr,deriv):\n",
    "        E=[]\n",
    "        for i in [dprog,dcentr,dregr]:\n",
    "            E.append(round(abs(i-deriv)/deriv,2))    \n",
    "        return E\n",
    "\n",
    "    def resultados(E,dprog,dcentr,dregr,deriv):\n",
    "        print('-'*50)\n",
    "        print(\"RESULTADOS:\")\n",
    "        print('-'*50)\n",
    "        print(\"Dif.Analítica \\tDif.Prog\\tDif.Central\\tDif.Regr\")\n",
    "        print(f\" \\t{deriv}\\t  {dprog}         \\t  {dcentr}     \\t   {dregr}\")\n",
    "        print(f\"\\n Erros:\\t\\t {E[0]*100}%    \\t  {E[1]*100}%     \\t   {E[2]*100}%\")\n",
    "        \n",
    "\n",
    "f=lambda x:x**3\n",
    "# *****************************************************************************\n",
    "s=DifNumeric\n",
    "X,ponto_p,i = s.dados_entrada()       \n",
    "dprog,dcentr,dregr,deriv = s.calculo_derivadas(f,X,ponto_p)\n",
    "E=s.calculo_erros(dprog,dcentr,dregr,deriv)\n",
    "s.resultados(E,dprog,dcentr,dregr,deriv)"
   ]
  },
  {
   "cell_type": "code",
   "execution_count": 6,
   "id": "ab39b199-ddc0-455b-9b82-0fa67c5aa9e4",
   "metadata": {
    "tags": []
   },
   "outputs": [
    {
     "name": "stdin",
     "output_type": "stream",
     "text": [
      "Insira os pontos do domínio separados por vírgula:  21,22,23,24\n",
      "Informe o ponto de referência da lista para cálculo da derivada numérica 22\n"
     ]
    },
    {
     "name": "stdout",
     "output_type": "stream",
     "text": [
      "--------------------------------------------------\n",
      "RESULTADOS:\n",
      "--------------------------------------------------\n",
      "Dif.Analítica \tDif.Prog\tDif.Central\tDif.Regr\n",
      " \t1452\t  1519.0         \t  1453.0     \t   1387.0\n",
      "\n",
      " Erros:\t\t 5.0%    \t  0.0%     \t   4.0%\n"
     ]
    }
   ],
   "source": [
    "'''\n",
    "Versão 01 - Solução em classe com  o método construtor init\n",
    "'''\n",
    "import sympy as sp\n",
    "\n",
    "class DifNumeric():\n",
    "    def __init__(self,f):\n",
    "        X,ponto_p,i = self.dados_entrada()       \n",
    "        dprog,dcentr,dregr,deriv = self.calculo_derivadas(f,X,ponto_p,i)\n",
    "        E=self.calculo_erros(dprog,dcentr,dregr,deriv)\n",
    "        self.resultados(E,dprog,dcentr,dregr,deriv)    \n",
    "    \n",
    "# Lista de valores\n",
    "    def dados_entrada(self):\n",
    "        entrada = input(\"Insira os pontos do domínio separados por vírgula: \").split(',')\n",
    "        X = list(map(int, entrada))\n",
    "        ponto_p= int(input(\"Informe o ponto de referência da lista para cálculo da derivada numérica\"))\n",
    "\n",
    "        # Função filtro para localizar o ponto_p na lista\n",
    "        i=filter(lambda n:n == ponto_p,X)\n",
    "        # Índice de locação do ponto na lista X\n",
    "        i=X.index(ponto_p)\n",
    "\n",
    "        return X,ponto_p,i\n",
    "\n",
    "    # Função para derivada analítica com auxílio da biblioteca sympy\n",
    "    def derivada(self,k): \n",
    "        x = sp.Symbol('x')\n",
    "        fun = k(x)    \n",
    "        dh=sp.diff(fun,x,1)              # Derivada primeira\n",
    "\n",
    "        return sp.lambdify(x,dh,'numpy') \n",
    "\n",
    "\n",
    "    def calculo_derivadas(self,f,X,ponto_p,i):\n",
    "    # # *****************************************************************************\n",
    "    # Derivada Analítica incluída automaticamente a partir da função 'derivada' criada\n",
    "        df1=self.derivada(f)\n",
    "\n",
    "        deriv = df1(ponto_p)\n",
    "        # Derivada numérica\n",
    "        dprog  =( f(X[i+1]) - f(X[i]) ) / (X[i+1]-X[i])\n",
    "        dcentr =( f(X[i+1]) - f(X[i-1]))/ (X[i+1]-X[i-1])\n",
    "        dregr  =( f(X[i]) - f(X[i-1]) ) / (X[i]-X[i-1])\n",
    "\n",
    "        return dprog,dcentr,dregr,deriv    \n",
    "\n",
    "    # # *****************************************************************************\n",
    "    # Resultados do erros\n",
    "    def calculo_erros(self,dprog,dcentr,dregr,deriv):\n",
    "        E=[]\n",
    "        for i in [dprog,dcentr,dregr]:\n",
    "            E.append(round(abs(i-deriv)/deriv,2))    \n",
    "        return E\n",
    "\n",
    "    def resultados(self,E,dprog,dcentr,dregr,deriv):\n",
    "        print('-'*50)\n",
    "        print(\"RESULTADOS:\")\n",
    "        print('-'*50)\n",
    "        print(\"Dif.Analítica \\tDif.Prog\\tDif.Central\\tDif.Regr\")\n",
    "        print(f\" \\t{deriv}\\t  {dprog}         \\t  {dcentr}     \\t   {dregr}\")\n",
    "        print(f\"\\n Erros:\\t\\t {E[0]*100}%    \\t  {E[1]*100}%     \\t   {E[2]*100}%\")\n",
    "\n",
    "        \n",
    "f=lambda x:x**3\n",
    "# *****************************************************************************\n",
    "s=DifNumeric(f) "
   ]
  },
  {
   "cell_type": "code",
   "execution_count": 23,
   "id": "8012d0e0-d2d4-4f89-8cdf-5e3abb4b48ed",
   "metadata": {
    "tags": []
   },
   "outputs": [
    {
     "data": {
      "text/plain": [
       "<matplotlib.legend.Legend at 0x7fa3fcde0bd0>"
      ]
     },
     "execution_count": 23,
     "metadata": {},
     "output_type": "execute_result"
    },
    {
     "data": {
      "image/png": "[encoded data removed]",
      "text/plain": [
       "<Figure size 640x480 with 3 Axes>"
      ]
     },
     "metadata": {},
     "output_type": "display_data"
    }
   ],
   "source": [
    "# Solução utilizando lista e adicionando valores a cada iteração.\n",
    "import numpy as np\n",
    "import matplotlib.pyplot as plt\n",
    "\n",
    "#Dados\n",
    "t=np.array([4.0, 4.2, 4.4, 4.6, 4.8, 5.0, 5.2, 5.4, 5.6, 5.8, 6.0,\n",
    "            6.2, 6.4, 6.6, 6.8, 7.0, 7.2, 7.4, 7.6, 7.8, 8.0])\n",
    "x=np.array([-5.87,-4.23,-2.55,-0.89,0.67,2.09,3.31,4.31,5.06,5.55,\n",
    "            5.78,5.77,5.52,5.08,4.46,3.72,2.88,2.00,1.10,0.23,-0.59])\n",
    "def derive(X,Y):                               # Derivadas\n",
    "    dx=[]\n",
    "    for i,j in enumerate(X):\n",
    "        if i==0:\n",
    "            dx.append((Y[i+1] - Y[i] ) / (X[i+1]-X[i])) # Progressiva\n",
    "        elif i==len(X):\n",
    "            dx.append((Y[i+1] - Y[i-1])/ (X[i+1]-X[i-1])) # Central\n",
    "        else:  \n",
    "            dx.append((Y[i] - Y[i-1] ) / (X[i]-X[i-1])) # Regressiva\n",
    "    return dx\n",
    "\n",
    "vel = derive(t,x)\n",
    "acc = derive(t,vel)\n",
    "\n",
    "plt.subplot(3,1,1)\n",
    "plt.plot(t,x,label = 'Deslocamento',color='r')\n",
    "plt.legend()\n",
    "plt.subplot(3,1,2)\n",
    "plt.plot(t,vel,label='Velocidade',color='b')\n",
    "plt.legend()\n",
    "plt.subplot(3,1,3)\n",
    "plt.plot(t,acc,label='Aceleração',color='g')\n",
    "plt.legend()"
   ]
  },
  {
   "cell_type": "code",
   "execution_count": null,
   "id": "b991d39d-b8f9-4d37-89a1-1cc79d900b0b",
   "metadata": {},
   "outputs": [],
   "source": []
  }
 ],
 "metadata": {
  "kernelspec": {
   "display_name": "Python 3 (ipykernel)",
   "language": "python",
   "name": "python3"
  },
  "language_info": {
   "codemirror_mode": {
    "name": "ipython",
    "version": 3
   },
   "file_extension": ".py",
   "mimetype": "text/x-python",
   "name": "python",
   "nbconvert_exporter": "python",
   "pygments_lexer": "ipython3",
   "version": "3.11.5"
  },
  "toc-autonumbering": true
 },
 "nbformat": 4,
 "nbformat_minor": 5
}
