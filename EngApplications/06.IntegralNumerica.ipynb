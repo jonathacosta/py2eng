{
 "cells": [
  {
   "cell_type": "markdown",
   "id": "dd893c38-600d-42b2-85fd-b1982b00a94f",
   "metadata": {
    "tags": []
   },
   "source": [
    "# Integração Numérica\n",
    "from IPython.display import display, Math, Latex\n"
   ]
  },
  {
   "cell_type": "markdown",
   "id": "25ab9c40-e538-4d79-ae9b-d45288a5b55d",
   "metadata": {
    "tags": []
   },
   "source": [
    "## Conceito"
   ]
  },
  {
   "cell_type": "markdown",
   "id": "bd9f6106-4434-4075-8a87-bf3bbb85dd00",
   "metadata": {
    "tags": []
   },
   "source": [
    "# Códigos"
   ]
  },
  {
   "cell_type": "markdown",
   "id": "7f052598-d391-4c50-8891-4b2fa51a0e41",
   "metadata": {
    "tags": []
   },
   "source": [
    "## Código basilar em modo procedural"
   ]
  },
  {
   "cell_type": "markdown",
   "id": "1362445a-abb6-4702-aed3-363ec16a69b4",
   "metadata": {
    "tags": []
   },
   "source": [
    "### Versão 00"
   ]
  },
  {
   "cell_type": "markdown",
   "id": "072d2349-9164-486f-92d4-356f0c755817",
   "metadata": {
    "tags": []
   },
   "source": [
    "### Versão 01"
   ]
  },
  {
   "cell_type": "markdown",
   "id": "fb88478d-9405-4cae-badc-b0a1a3d658f2",
   "metadata": {},
   "source": [
    "### Versão 02"
   ]
  },
  {
   "cell_type": "markdown",
   "id": "cc378a37-1487-40d4-954a-86db9ce5e80d",
   "metadata": {},
   "source": [
    "### Versão 03"
   ]
  },
  {
   "cell_type": "markdown",
   "id": "de1189c2-c4b3-4ce9-9e66-ab2c6ae3dcd0",
   "metadata": {
    "tags": []
   },
   "source": [
    "## Código basilar utilizando classes"
   ]
  },
  {
   "cell_type": "markdown",
   "id": "95e14fc7-b28b-4196-9240-9eb6b882190a",
   "metadata": {
    "tags": []
   },
   "source": [
    "### Classes sem o método init"
   ]
  },
  {
   "cell_type": "markdown",
   "id": "2ff07eea-3e5f-443b-ba0f-77003e112ea5",
   "metadata": {
    "tags": []
   },
   "source": [
    "### Classes com o método init"
   ]
  },
  {
   "cell_type": "markdown",
   "id": "d77f0173-6aa3-4033-a8e0-a4cea48eb0bf",
   "metadata": {
    "tags": []
   },
   "source": [
    "#### Versão 01"
   ]
  },
  {
   "cell_type": "markdown",
   "id": "08988faf-9afa-4e16-b87a-3819ee759b9c",
   "metadata": {
    "tags": []
   },
   "source": [
    "#### Versão 02"
   ]
  }
 ],
 "metadata": {
  "kernelspec": {
   "display_name": "Python 3 (ipykernel)",
   "language": "python",
   "name": "python3"
  },
  "language_info": {
   "codemirror_mode": {
    "name": "ipython",
    "version": 3
   },
   "file_extension": ".py",
   "mimetype": "text/x-python",
   "name": "python",
   "nbconvert_exporter": "python",
   "pygments_lexer": "ipython3",
   "version": "3.11.5"
  },
  "toc-autonumbering": true
 },
 "nbformat": 4,
 "nbformat_minor": 5
}
