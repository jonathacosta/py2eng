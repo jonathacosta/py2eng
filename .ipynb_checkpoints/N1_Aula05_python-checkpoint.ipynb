{
 "cells": [
  {
   "cell_type": "markdown",
   "metadata": {
    "id": "asx887spoo_z"
   },
   "source": [
    "# **Curso de Python - N1**\n",
    " - Prof. Jonatha Costa"
   ]
  },
  {
   "cell_type": "markdown",
   "metadata": {
    "id": "2dpFZAPvu2Td",
    "jp-MarkdownHeadingCollapsed": true,
    "tags": []
   },
   "source": [
    "\n",
    "## **Funções em Python**\n",
    "- são blocos de código reutilizáveis que realizam uma tarefa específica. Elas ajudam a organizar o código em partes gerenciáveis e facilitam a reutilização de código. Vamos entender cada um dos pontos mencionados:\n"
   ]
  },
  {
   "cell_type": "markdown",
   "metadata": {
    "id": "2sWy0I0NJTbO"
   },
   "source": [
    "\n",
    "### 1. **Definindo Funções:**\n",
    "\n",
    "Em Python, você define uma função usando a palavra-chave `def`, seguida pelo nome da função e parênteses `()`. O corpo da função é indentado. Veja um exemplo simples:\n",
    "\n",
    "```python\n",
    "def saudacao():\n",
    "    print(\"Olá, mundo!\")\n",
    "\n",
    "# Chamando a função\n",
    "saudacao()\n",
    "```\n",
    "\n",
    "### 2. **Parâmetros e Argumentos:**\n",
    "\n",
    "- **Parâmetros:**\n",
    "    - São variáveis que você define na declaração da função.\n",
    "    - São como marcadores de posição para os dados que a função espera receber. Exemplo:\n",
    "\n",
    "```python\n",
    "def saudacao(nome):\n",
    "    print(\"Olá, \" + nome + \"!\")\n",
    "\n",
    "# Chamando a função com um argumento\n",
    "saudacao(\"Alice\")\n",
    "```\n",
    "\n",
    "- **Argumentos:** São os valores reais passados para a função quando ela é chamada. No exemplo acima, `\"Alice\"` é o argumento passado para o parâmetro `nome`.\n",
    "\n",
    "### 3. **Funções Lambda:**\n",
    "\n",
    "As funções lambda são funções anônimas (sem nome) que podem ter qualquer número de parâmetros, mas apenas uma expressão. Elas são úteis para operações simples. Sua sintaxe é `lambda parametros: expressao`.\n",
    "\n",
    "```python\n",
    "dobro = lambda x: x * 2\n",
    "print(dobro(5))  # Saída: 10\n",
    "```\n",
    "\n",
    "```python\n",
    "s='python'\n",
    "reverse = lambda s:s[::-1]\n",
    "print(reverse(s))\n",
    "```\n",
    "\n",
    "### 4. **Recursão:**\n",
    "\n",
    "A recursão é um conceito onde uma função chama a si mesma durante sua execução. É útil para resolver problemas que podem ser divididos em subproblemas idênticos. No entanto, é importante garantir que exista uma condição de parada para evitar um loop infinito.\n",
    "\n",
    "Exemplo de uma função recursiva para calcular o fatorial de um número:\n",
    "\n",
    "```python\n",
    "def fatorial(n):\n",
    "    if n == 1:\n",
    "        return 1\n",
    "    else:\n",
    "        return n * fatorial(n - 1)\n",
    "\n",
    "print(fatorial(5))  # Saída: 120 (5! = 5 x 4 x 3 x 2 x 1)\n",
    "```\n",
    "\n",
    "Neste exemplo, a função `fatorial` chama a si mesma com um argumento reduzido em 1 até atingir o caso base (`n == 1`), momento em que ela retorna 1.\n",
    "\n",
    "\n",
    "### 5. **Função map:**\n",
    "A função `map()` em Python é uma função embutida que permite aplicar uma função a cada item em uma sequência (como uma lista, tupla ou conjunto) e retorna um objeto do tipo `map` que contém os resultados dessas aplicações. O resultado pode então ser convertido em uma lista, tupla ou conjunto, se necessário.\n",
    "\n",
    "A sintaxe básica da função `map()` é a seguinte:\n",
    "\n",
    "```python\n",
    "map(funcao, sequencia)\n",
    "```\n",
    "\n",
    "- `funcao`: A função que você deseja aplicar a cada item da sequência.\n",
    "- `sequencia`: A sequência de entrada que você quer mapear.\n",
    "\n",
    "A função `map()` aplica a função fornecida a cada item da sequência e retorna um objeto `map`. Para visualizar os resultados, você geralmente converte o objeto `map` de volta para uma lista, tupla ou conjunto.\n",
    "\n",
    "**Exemplo: Usando `map()` para dobrar os números em uma lista:**\n",
    "\n",
    "```python\n",
    "# Função para dobrar um número\n",
    "def dobrar(numero):\n",
    "    return numero * 2\n",
    "# Lista de números\n",
    "numeros = [1, 2, 3, 4, 5]\n",
    "# Usando map() para dobrar os números na lista\n",
    "numeros_dobrados = map(dobrar, numeros)\n",
    "# Convertendo o objeto map de volta para uma lista\n",
    "numeros_dobrados_lista = list(numeros_dobrados)\n",
    "print(numeros_dobrados_lista)\n",
    "# Saída: [2, 4, 6, 8, 10]\n",
    "```\n",
    "\n",
    "Neste exemplo, a função `dobrar()` é aplicada a cada número na lista `numeros` usando a função `map()`. Os resultados são armazenados em um objeto `map` e, em seguida, convertidos de volta para uma lista.\n",
    "\n",
    "É importante observar que o objeto `map` é uma iteração preguiçosa (lazy), o que significa que ele não calcula todos os resultados imediatamente. Ele calcula os valores à medida que você os acessa, economizando assim memória em grandes conjuntos de dados.\n",
    "\n",
    "### 6. **Função reduce:**\n",
    "A função `reduce()` foi uma função embutida no Python 2, mas a partir do Python 3, ela foi movida para o módulo `functools`. A função `reduce()` aplica uma função de dois argumentos cumulativamente aos itens de uma sequência, de modo a reduzir a sequência a um único valor. É útil quando você deseja aplicar uma operação cumulativa a todos os elementos de uma lista, por exemplo, calcular o produto ou a soma de todos os elementos.\n",
    "\n",
    "A sintaxe básica da função `reduce()` é a seguinte:\n",
    "\n",
    "```python\n",
    "from functools import reduce\n",
    "\n",
    "reduce(funcao, sequencia)\n",
    "```\n",
    "\n",
    "- `funcao`: A função que você deseja aplicar cumulativamente aos itens da sequência.\n",
    "- `sequencia`: A sequência de entrada que você quer reduzir.\n",
    "\n",
    "A função fornecida deve aceitar dois argumentos e retornar um único valor. `reduce()` aplica essa função aos dois primeiros elementos da sequência. Em seguida, ao resultado e ao próximo elemento, e assim por diante, até que toda a sequência seja reduzida a um único valor.\n",
    "\n",
    "**Exemplo: Usando `reduce()` para calcular o produto dos elementos em uma lista:**\n",
    "\n",
    "```python\n",
    "from functools import reduce\n",
    "# Função para multiplicar dois números\n",
    "def multiplicar(x, y):\n",
    "    return x * y\n",
    "# Lista de números\n",
    "numeros = [1, 2, 3, 4, 5]\n",
    "# Usando reduce() para calcular o produto dos números na lista\n",
    "produto = reduce(multiplicar, numeros)\n",
    "print(produto)\n",
    "# Saída: 120 (porque 1 * 2 * 3 * 4 * 5 = 120)\n",
    "```\n",
    "\n",
    "Neste exemplo, a função `multiplicar()` é aplicada cumulativamente aos elementos na lista `numeros`. O resultado é a multiplicação de todos os elementos na lista, que é 120 neste caso.\n",
    "\n",
    "Embora `reduce()` seja poderosa, seu uso foi considerado menos legível e menos \"pythonic\" em comparação com as compreensões de lista (list comprehensions) e outras técnicas funcionais. Portanto, em muitos casos, é preferível usar essas técnicas mais legíveis e expressivas em vez de `reduce()`.\n",
    "\n",
    "\n",
    "### **7. Função filter**\n",
    "A função `filter()` em Python é uma função embutida que permite filtrar elementos de uma sequência (como uma lista, tupla ou conjunto) com base em uma função de teste. A função de teste deve retornar `True` ou `False` para cada elemento da sequência. `filter()` cria um objeto `filter` que contém apenas os elementos da sequência para os quais a função de teste retorna `True`.\n",
    "\n",
    "A sintaxe básica da função `filter()` é a seguinte:\n",
    "\n",
    "```python\n",
    "filter(funcao, sequencia)\n",
    "```\n",
    "\n",
    "- `funcao`: A função de teste que determina se um elemento deve ser incluído no resultado. Ela deve retornar `True` ou `False`.\n",
    "- `sequencia`: A sequência de entrada que você quer filtrar.\n",
    "\n",
    "A função `filter()` aplica a função de teste a cada item na sequência. Se a função de teste retorna `True` para um item, esse item é incluído no objeto `filter`. Se a função de teste retorna `False`, o item é excluído.\n",
    "\n",
    "**Exemplo: Filtrando números pares de uma lista usando `filter()`:**\n",
    "\n",
    "```python\n",
    "# Função de teste para verificar se um número é par\n",
    "def eh_par(numero):\n",
    "    return numero % 2 == 0\n",
    "\n",
    "# Lista de números\n",
    "numeros = [1, 2, 3, 4, 5, 6, 7, 8, 9, 10]\n",
    "# Usando filter() para filtrar números pares da lista\n",
    "numeros_pares = filter(eh_par, numeros)\n",
    "# Convertendo o objeto filter de volta para uma lista\n",
    "numeros_pares_lista = list(numeros_pares)\n",
    "print(numeros_pares_lista)\n",
    "# Saída: [2, 4, 6, 8, 10]\n",
    "```\n",
    "\n",
    "Neste exemplo, a função `eh_par()` é aplicada a cada número na lista `numeros` usando `filter()`. Os números pares (aqueles para os quais a função `eh_par()` retorna `True`) são incluídos no objeto `filter` e, em seguida, convertidos de volta para uma lista.\n",
    "\n",
    "`filter()` é útil quando você quer extrair elementos de uma sequência com base em critérios específicos definidos pela função de teste. Assim como `map()`, `filter()` também é uma função de alta ordem em Python, o que significa que aceita funções como argumentos e pode ser usada em combinação com outras funções de alta ordem para realizar operações complexas em dados.\n",
    "\n",
    "### **8. Função zip**\n",
    "\n",
    "A função `zip()` em Python é uma função embutida que permite combinar elementos de duas ou mais sequências (como listas, tuplas ou conjuntos) em pares ordenados. O `zip()` cria um objeto `zip` que pode ser convertido em uma lista, tupla ou conjunto de tuplas, onde cada tupla contém elementos correspondentes das sequências originais.\n",
    "\n",
    "A sintaxe básica da função `zip()` é a seguinte:\n",
    "\n",
    "```python\n",
    "zip(sequencia1, sequencia2, ...)\n",
    "```\n",
    "\n",
    "- `sequencia1`, `sequencia2`, ...: As sequências que você deseja combinar. Elas podem ser listas, tuplas, conjuntos ou qualquer outra sequência.\n",
    "\n",
    "**Exemplo: Usando `zip()` para combinar duas listas:**\n",
    "\n",
    "```python\n",
    "# Duas listas de nomes e idades\n",
    "nomes = [\"Alice\", \"Bob\", \"Charlie\"]\n",
    "idades = [25, 30, 35]\n",
    "\n",
    "# Usando zip() para combinar as listas\n",
    "combinados = zip(nomes, idades)\n",
    "\n",
    "# Convertendo o objeto zip de volta para uma lista de tuplas\n",
    "lista_combinada = list(combinados)\n",
    "\n",
    "print(lista_combinada)\n",
    "# Saída: [('Alice', 25), ('Bob', 30), ('Charlie', 35)]\n",
    "```\n",
    "\n",
    "Neste exemplo, `zip(nomes, idades)` cria um objeto `zip` que combina os elementos correspondentes das listas `nomes` e `idades` em tuplas. Após converter o objeto `zip` para uma lista, cada elemento é uma tupla contendo um nome e uma idade correspondente.\n",
    "\n",
    "**Observações importantes sobre `zip()`:**\n",
    "1. Se as sequências tiverem comprimentos diferentes, `zip()` vai parar quando a sequência mais curta acabar. Elementos adicionais da sequência mais longa serão ignorados.\n",
    "2. O objeto `zip` é um iterador, o que significa que ele é consumido durante a iteração. Se você quiser usar os resultados mais de uma vez, você precisa converter o objeto `zip` em uma lista, tupla ou conjunto.\n",
    "3. `zip()` pode combinar mais de duas sequências. Você pode adicionar mais sequências como argumentos na função.\n",
    "\n",
    "**Exemplo: Combinação de três listas usando `zip()`:**\n",
    "\n",
    "```python\n",
    "a = [1, 2, 3]\n",
    "b = ['a', 'b', 'c']\n",
    "c = [10, 20, 30]\n",
    "\n",
    "combinados = zip(a, b, c)\n",
    "lista_combinada = list(combinados)\n",
    "\n",
    "print(lista_combinada)\n",
    "# Saída: [(1, 'a', 10), (2, 'b', 20), (3, 'c', 30)]\n",
    "```\n",
    "\n",
    "Neste exemplo, `zip(a, b, c)` cria uma lista de tuplas combinando os elementos correspondentes de três listas diferentes.\n",
    "Esses são conceitos fundamentais relacionados a funções em Python. Compreender e usar funções eficazmente é uma habilidade vital para a programação em Python.\n",
    "\n",
    "### **9. Função enumerate**\n",
    "\n",
    "Claro, a função `enumerate()` em Python é uma função incorporada que é utilizada para iterar sobre uma sequência (como uma lista, tupla, string ou qualquer objeto iterável) juntamente com seu índice de posição. Ela retorna um objeto enumerado que contém tuplas contendo o índice e o valor correspondente de cada elemento na sequência. Isso é especialmente útil quando você precisa acessar tanto o índice quanto o valor de um elemento durante a iteração.\n",
    "\n",
    "A sintaxe básica da função `enumerate()` é a seguinte:\n",
    "\n",
    "```python\n",
    "enumerate(iteravel, start=0)\n",
    "```\n",
    "\n",
    "- `iterável`: A sequência ou objeto iterável sobre o qual você deseja iterar.\n",
    "- `start`: O valor do índice a partir do qual você deseja começar a contagem. Por padrão, é 0.\n",
    "\n",
    "**Exemplo de uso básico:**\n",
    "\n",
    "```python\n",
    "frutas = ['maçã', 'banana', 'cereja', 'damasco']\n",
    "\n",
    "for indice, valor in enumerate(frutas):\n",
    "    print(f\"Índice: {indice}, Valor: {valor}\")\n",
    "```\n",
    "\n",
    "**Saída:**\n",
    "```\n",
    "Índice: 0, Valor: maçã\n",
    "Índice: 1, Valor: banana\n",
    "Índice: 2, Valor: cereja\n",
    "Índice: 3, Valor: damasco\n",
    "```\n",
    "\n",
    "Neste exemplo, `enumerate()` é usado para percorrer a lista `frutas`. A cada iteração, ele retorna uma tupla contendo o índice e o valor correspondente da lista.\n",
    "\n",
    "**Exemplo com argumento de início personalizado:**\n",
    "\n",
    "```python\n",
    "frutas = ['maçã', 'banana', 'cereja', 'damasco']\n",
    "\n",
    "for indice, valor in enumerate(frutas, start=1):\n",
    "    print(f\"Índice: {indice}, Valor: {valor}\")\n",
    "```\n",
    "\n",
    "**Saída:**\n",
    "```\n",
    "Índice: 1, Valor: maçã\n",
    "Índice: 2, Valor: banana\n",
    "Índice: 3, Valor: cereja\n",
    "Índice: 4, Valor: damasco\n",
    "```\n",
    "\n",
    "Neste exemplo, `enumerate()` começa a contar a partir de 1, devido ao argumento `start=1`.\n",
    "\n",
    "A função `enumerate()` é muito útil para situações em que você precisa de ambos os índices e valores durante a iteração, tornando o código mais legível e eficiente."
   ]
  },
  {
   "cell_type": "markdown",
   "metadata": {
    "id": "5yj1_a_GV0qG",
    "jp-MarkdownHeadingCollapsed": true,
    "tags": []
   },
   "source": [
    "## **Tratamento de erros e exceções**"
   ]
  },
  {
   "cell_type": "markdown",
   "metadata": {},
   "source": [
    "O tratamento de erros e exceções em Python permite que você lide com situações inesperadas que podem ocorrer durante a execução de um programa. Erros podem surgir de várias maneiras, como divisão por zero, acesso a índices inválidos em listas ou até mesmo falhas de arquivo. O Python oferece uma estrutura robusta para tratar essas situações usando declarações `try`, `except`, `finally` e `raise`. Vamos entender cada uma delas:"
   ]
  },
  {
   "cell_type": "markdown",
   "metadata": {
    "jp-MarkdownHeadingCollapsed": true,
    "tags": []
   },
   "source": [
    "### **1. Bloco `try` e `except`:**\n"
   ]
  },
  {
   "cell_type": "markdown",
   "metadata": {},
   "source": [
    "\n",
    "O bloco `try` é usado para colocar o código que pode gerar uma exceção. Se ocorrer uma exceção dentro do bloco `try`, o controle será transferido para o bloco `except`, onde você pode lidar com a exceção ou fornecer uma resposta apropriada.\n",
    "\n",
    "```python\n",
    "try:\n",
    "    # Código que pode gerar uma exceção\n",
    "    resultado = 10 / 0\n",
    "except ZeroDivisionError:\n",
    "    # Lidando com a exceção específica (divisão por zero)\n",
    "    print(\"Erro: Divisão por zero!\")\n",
    "```"
   ]
  },
  {
   "cell_type": "markdown",
   "metadata": {
    "jp-MarkdownHeadingCollapsed": true,
    "tags": []
   },
   "source": [
    "\n",
    "\n",
    "### **2. Bloco `else`:**"
   ]
  },
  {
   "cell_type": "markdown",
   "metadata": {},
   "source": [
    "Você pode usar o bloco `else` após o bloco `try-except` para fornecer código a ser executado somente se nenhuma exceção for levantada no bloco `try`.\n",
    "\n",
    "```python\n",
    "try:\n",
    "    resultado = 10 / 2\n",
    "except ZeroDivisionError:\n",
    "    print(\"Erro: Divisão por zero!\")\n",
    "else:\n",
    "    print(\"Resultado da divisão:\", resultado)\n",
    "```    "
   ]
  },
  {
   "cell_type": "markdown",
   "metadata": {
    "jp-MarkdownHeadingCollapsed": true,
    "tags": []
   },
   "source": [
    "### **3. Bloco `finally`:**\n"
   ]
  },
  {
   "cell_type": "markdown",
   "metadata": {},
   "source": [
    "O bloco `finally` é usado para código que deve ser executado independentemente de ocorrer ou não uma exceção no bloco `try`. Por exemplo, é usado para liberar recursos, como arquivos ou conexões de banco de dados.\n",
    "\n",
    "```python\n",
    "try:\n",
    "    arquivo = open(\"arquivo.txt\", \"r\")\n",
    "    # Operações de leitura/gravação no arquivo\n",
    "except FileNotFoundError:\n",
    "    print(\"Arquivo não encontrado!\")\n",
    "finally:\n",
    "    arquivo.close()\n",
    "```"
   ]
  },
  {
   "cell_type": "markdown",
   "metadata": {
    "jp-MarkdownHeadingCollapsed": true,
    "tags": []
   },
   "source": [
    "### **4. Levantando Exceções com `raise`:**\n"
   ]
  },
  {
   "cell_type": "markdown",
   "metadata": {},
   "source": [
    "Você também pode levantar manualmente exceções usando a declaração `raise`. Isso é útil quando você quer indicar que algo deu errado em uma parte específica do seu código.\n",
    "\n",
    "```python\n",
    "def dividir(a, b):\n",
    "    if b == 0:\n",
    "        raise ValueError(\"Divisão por zero não é permitida!\")\n",
    "    return a / b\n",
    "\n",
    "try:\n",
    "    resultado = dividir(10, 0)\n",
    "except ValueError as erro:\n",
    "    print(erro)\n",
    "```\n",
    "\n",
    "Neste exemplo, a função `dividir()` levanta uma exceção se o divisor for zero. O `except` captura essa exceção e imprime a mensagem de erro."
   ]
  },
  {
   "cell_type": "markdown",
   "metadata": {
    "jp-MarkdownHeadingCollapsed": true,
    "tags": []
   },
   "source": [
    "### **5. Exceções Personalizadas:**"
   ]
  },
  {
   "cell_type": "markdown",
   "metadata": {
    "id": "8kKYHTmBV03T",
    "tags": []
   },
   "source": [
    "Você também pode criar suas próprias exceções personalizadas definindo novas classes de exceção. Isso é útil quando você deseja criar exceções específicas para o seu aplicativo.\n",
    "\n",
    "```python\n",
    "class MeuErroPersonalizado(Exception):\n",
    "    def __init__(self, mensagem):\n",
    "        self.mensagem = mensagem\n",
    "\n",
    "try:\n",
    "    raise MeuErroPersonalizado(\"Isso é uma exceção personalizada!\")\n",
    "except MeuErroPersonalizado as erro:\n",
    "    print(erro)\n",
    "```\n",
    "\n",
    "No exemplo acima, `MeuErroPersonalizado` é uma classe de exceção personalizada que herda de `Exception`. Quando você a levanta usando `raise`, você pode capturá-la com `except` e manipular conforme necessário.\n",
    "\n",
    "Entender e aplicar esses conceitos de tratamento de erros e exceções é essencial para escrever código Python robusto e seguro. Eles ajudam a tornar seus programas mais resilientes a situações inesperadas e facilitam a depuração de problemas."
   ]
  },
  {
   "cell_type": "markdown",
   "metadata": {
    "id": "Lk52mAl3umzI",
    "jp-MarkdownHeadingCollapsed": true,
    "tags": []
   },
   "source": [
    "## REGEX"
   ]
  },
  {
   "cell_type": "markdown",
   "metadata": {
    "tags": []
   },
   "source": [
    "**Expressões Regulares (Regex) em Python: Uma Visão Detalhada**\n",
    "\n",
    "Expressões Regulares, comumente conhecidas como Regex, são sequências de caracteres que formam um padrão de busca. Elas são amplamente utilizadas para manipular e pesquisar texto com base em padrões. Em Python, você pode usar o módulo `re` para trabalhar com expressões regulares. Vamos entender os principais conceitos.\n",
    "\n"
   ]
  },
  {
   "cell_type": "markdown",
   "metadata": {},
   "source": [
    "### **1. Métodos Principais do Módulo `re`:**\n"
   ]
  },
  {
   "cell_type": "markdown",
   "metadata": {
    "jp-MarkdownHeadingCollapsed": true,
    "tags": []
   },
   "source": [
    "#### **1.1 `re.search(pattern, string)`**\n"
   ]
  },
  {
   "cell_type": "markdown",
   "metadata": {
    "jp-MarkdownHeadingCollapsed": true,
    "tags": []
   },
   "source": [
    "Este método procura o padrão `pattern` na string `string`. Retorna um objeto de correspondência se encontrar o padrão, ou `None` se não encontrar.\n",
    "\n",
    "```python\n",
    "import re\n",
    "texto = \"Python é uma linguagem poderosa.\"\n",
    "padrao = \"poderosa\"\n",
    "\n",
    "resultado = re.search(padrao, texto, re.IGNORECASE)  # Ignora maiúsculas/minúsculas\n",
    "\n",
    "if resultado:\n",
    "    print(\"Padrão encontrado:\", resultado.group())\n",
    "else:\n",
    "    print(\"Padrão não encontrado.\")\n",
    "```"
   ]
  },
  {
   "cell_type": "code",
   "execution_count": null,
   "metadata": {
    "tags": []
   },
   "outputs": [],
   "source": []
  },
  {
   "cell_type": "markdown",
   "metadata": {
    "jp-MarkdownHeadingCollapsed": true,
    "tags": []
   },
   "source": [
    "#### **1.2 `re.findall(pattern, string)`**\n"
   ]
  },
  {
   "cell_type": "markdown",
   "metadata": {
    "tags": []
   },
   "source": [
    "Este método encontra todas as ocorrências do padrão `pattern` na string `string` e retorna uma lista.\n",
    "\n",
    "```python\n",
    "frase = \"Python é fácil, Python é poderoso.\"\n",
    "padrao = \"Python\"\n",
    "resultados = re.findall(padrao, frase)\n",
    "\n",
    "print(resultados)  # Saída: ['Python', 'Python']\n",
    "```\n"
   ]
  },
  {
   "cell_type": "code",
   "execution_count": null,
   "metadata": {
    "tags": []
   },
   "outputs": [],
   "source": []
  },
  {
   "cell_type": "markdown",
   "metadata": {
    "jp-MarkdownHeadingCollapsed": true,
    "tags": []
   },
   "source": [
    "### **2. Sintaxe Básica de Padrões:**\n"
   ]
  },
  {
   "cell_type": "markdown",
   "metadata": {},
   "source": [
    "```\n",
    "- **`.`**: Casa com qualquer caractere, exceto uma nova linha.\n",
    "- **`^`**: Casa com o início da string.\n",
    "- **`$`**: Casa com o final da string.\n",
    "- **`*`**: Casa com 0 ou mais ocorrências do padrão anterior.\n",
    "- **`+`**: Casa com 1 ou mais ocorrências do padrão anterior.\n",
    "- **`?`**: Casa com 0 ou 1 ocorrência do padrão anterior.\n",
    "- **`[]`**: Casa com qualquer caractere dentro dos colchetes.\n",
    "- **`|`**: Casa com o padrão à esquerda ou à direita do operador."
   ]
  },
  {
   "cell_type": "markdown",
   "metadata": {
    "jp-MarkdownHeadingCollapsed": true,
    "tags": []
   },
   "source": [
    "### **3. Grupos de Captura:**\n"
   ]
  },
  {
   "cell_type": "markdown",
   "metadata": {},
   "source": [
    "Grupos de captura são usados para extrair partes específicas de uma correspondência.\n",
    "\n",
    "```python\n",
    "texto = \"Meu número de telefone é 123-456-7890.\"\n",
    "padrao = r\"(\\d{3})-(\\d{3})-(\\d{4})\"\n",
    "resultado = re.search(padrao, texto)\n",
    "\n",
    "if resultado:\n",
    "    print(\"Número completo:\", resultado.group())\n",
    "    print(\"Código de Área:\", resultado.group(1))\n",
    "    print(\"Número Central:\", resultado.group(2))\n",
    "    print(\"Últimos Dígitos:\", resultado.group(3))\n",
    "```"
   ]
  },
  {
   "cell_type": "markdown",
   "metadata": {},
   "source": [
    "### **4. Modificadores de Padrão:**\n"
   ]
  },
  {
   "cell_type": "markdown",
   "metadata": {},
   "source": [
    "\n",
    "- **`re.IGNORECASE` ou `re.I`**: Faz a correspondência ignorar maiúsculas/minúsculas.\n",
    "- **`re.MULTILINE` ou `re.M`**: Faz a correspondência funcionar em várias linhas."
   ]
  },
  {
   "cell_type": "markdown",
   "metadata": {
    "jp-MarkdownHeadingCollapsed": true,
    "tags": []
   },
   "source": [
    "\n",
    "### **5. Substituição:**\n"
   ]
  },
  {
   "cell_type": "markdown",
   "metadata": {
    "id": "nxa3uj8Luo5d"
   },
   "source": [
    "\n",
    "Você pode usar o método `re.sub()` para substituir padrões em uma string.\n",
    "\n",
    "```python\n",
    "texto = \"Python é uma linguagem de programação poderosa.\"\n",
    "padrao = r\"poderosa\"\n",
    "novo_texto = re.sub(padrao, \"versátil\", texto)\n",
    "\n",
    "print(novo_texto)  \n",
    "# Saída: \"Python é uma linguagem de programação versátil.\"\n",
    "```\n",
    "\n",
    "As expressões regulares são poderosas, mas também podem ser complexas. Recomendo a utilização de ferramentas online como [Regex101](https://regex101.com/) para testar e depurar suas expressões regulares. Praticar e entender esses conceitos ajuda você a manipular dados de texto de forma mais eficaz em Python."
   ]
  },
  {
   "cell_type": "markdown",
   "metadata": {
    "id": "9tT598Wh5ZJJ",
    "jp-MarkdownHeadingCollapsed": true,
    "tags": []
   },
   "source": [
    "# Exercícios"
   ]
  },
  {
   "cell_type": "markdown",
   "metadata": {
    "id": "YQV4u9RK_vef"
   },
   "source": [
    "## Implemente os trechos de código acima!\n",
    "\n",
    "## Explique o código abaixo:\n",
    "\n",
    "\n",
    "```python\n",
    "def n_var(arg1,*vartuple):\n",
    "    print(\"O parâmetro passado foi: \",arg1)\n",
    "    \n",
    "    for item in vartuple:\n",
    "        print(\"O parâmetro passado foi: \",item)\n",
    "    \n",
    "    return;\n",
    "\n",
    "```\n",
    "\n",
    "\n",
    "```python\n",
    "n_var(3,\"lista com entradas diversas\".split()) # Cria string e separa já na entrada\n",
    "```"
   ]
  },
  {
   "cell_type": "code",
   "execution_count": null,
   "metadata": {
    "id": "xhEbK18uqXH7"
   },
   "outputs": [],
   "source": []
  }
 ],
 "metadata": {
  "colab": {
   "authorship_tag": "ABX9TyNSeIZOga3Vx8kuiJ2eZOdz",
   "provenance": [],
   "toc_visible": true
  },
  "kernelspec": {
   "display_name": "Python 3 (ipykernel)",
   "language": "python",
   "name": "python3"
  },
  "language_info": {
   "codemirror_mode": {
    "name": "ipython",
    "version": 3
   },
   "file_extension": ".py",
   "mimetype": "text/x-python",
   "name": "python",
   "nbconvert_exporter": "python",
   "pygments_lexer": "ipython3",
   "version": "3.11.5"
  }
 },
 "nbformat": 4,
 "nbformat_minor": 4
}
