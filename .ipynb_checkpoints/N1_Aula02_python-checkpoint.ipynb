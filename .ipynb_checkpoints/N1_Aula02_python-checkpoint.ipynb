{
 "cells": [
  {
   "cell_type": "markdown",
   "metadata": {
    "id": "asx887spoo_z"
   },
   "source": [
    "# **Curso de Python - N1**\n",
    " - Prof. Jonatha Costa"
   ]
  },
  {
   "cell_type": "markdown",
   "metadata": {
    "id": "2dpFZAPvu2Td"
   },
   "source": [
    "# **1. Conceitos Básicos de Python:**\n",
    "    Variáveis e Tipos de Dados:\n",
    "        Inteiros, Floats, Strings, Booleanos\n",
    "        Operadores aritméticos e lógicos"
   ]
  },
  {
   "cell_type": "markdown",
   "metadata": {
    "id": "mTDZ2vdyIbY1"
   },
   "source": [
    "## Variáveis e Tipos de Dados:"
   ]
  },
  {
   "cell_type": "markdown",
   "metadata": {
    "id": "TjgrdkXFGeSe",
    "tags": []
   },
   "source": [
    "#### 1. **Variáveis:**\n",
    "Variáveis em Python são espaços de armazenamento que você pode usar para armazenar informações. Você pode pensar nelas como rótulos para armazenar dados. Em Python, você pode definir uma variável simplesmente atribuindo um valor a ela.\n",
    "\n",
    "Exemplo:\n",
    "```\n",
    "nome = \"Alice\"\n",
    "idade = 30\n",
    "altura = 1.75\n",
    "é_estudante = True\n",
    "```\n",
    "\n",
    "#### 2. **Tipos de Dados:**\n",
    "\n",
    "- **Inteiros (`int`):** São números inteiros, positivos ou negativos, sem casas decimais.\n",
    "  ```\n",
    "  idade = 25\n",
    "  ```\n",
    "\n",
    "- **Floats (`float`):** São números que possuem casas decimais.\n",
    "  ```python\n",
    "  altura = 1.75\n",
    "  ```\n",
    "\n",
    "- **Strings (`str`):** São sequências de caracteres, como texto.\n",
    "  ```python\n",
    "  nome = \"Alice\"\n",
    "  ```\n",
    "\n",
    "- **Booleanos (`bool`):** Representam valores de verdadeiro (`True`) ou falso (`False`).\n",
    "  ```python\n",
    "  é_estudante = True\n",
    "  ```\n"
   ]
  },
  {
   "cell_type": "code",
   "execution_count": 4,
   "metadata": {
    "id": "FFILZHTKHthe",
    "tags": []
   },
   "outputs": [],
   "source": [
    "# Células de testes"
   ]
  },
  {
   "cell_type": "code",
   "execution_count": null,
   "metadata": {},
   "outputs": [],
   "source": []
  },
  {
   "cell_type": "markdown",
   "metadata": {
    "id": "Rw8rjAb6IP9-"
   },
   "source": [
    "## **Operadores Aritméticos e Lógicos**"
   ]
  },
  {
   "cell_type": "markdown",
   "metadata": {
    "tags": []
   },
   "source": [
    "### **1. Operadores Aritméticos:**"
   ]
  },
  {
   "cell_type": "markdown",
   "metadata": {
    "tags": []
   },
   "source": [
    "- **`+` (Adição):** Soma dois valores.\n",
    "  ```python\n",
    "  soma = 5 + 3  # Resultado: 8\n",
    "  ```\n",
    "\n",
    "- **`-` (Subtração):** Subtrai o segundo valor do primeiro.\n",
    "  ```python\n",
    "  diferenca = 10 - 3  # Resultado: 7\n",
    "  ```\n",
    "\n",
    "- **`*` (Multiplicação):** Multiplica dois valores.\n",
    "  ```python\n",
    "  produto = 4 * 6  # Resultado: 24\n",
    "  ```\n",
    "\n",
    "- **`/` (Divisão):** Divide o primeiro valor pelo segundo.\n",
    "  ```python\n",
    "  quociente = 15 / 3  # Resultado: 5.0 (em Python 3, a divisão resulta em float)\n",
    "  ```\n",
    "\n",
    "- **`//` (Divisão Inteira):** Divide o primeiro valor pelo segundo e retorna apenas a parte inteira do resultado.\n",
    "  ```python\n",
    "  quociente_inteiro = 15 // 3  # Resultado: 5\n",
    "  ```\n",
    "\n",
    "- **`%` (Módulo):** Retorna o resto da divisão do primeiro valor pelo segundo.\n",
    "  ```python\n",
    "  resto = 15 % 7  # Resultado: 1\n",
    "  ```\n"
   ]
  },
  {
   "cell_type": "code",
   "execution_count": null,
   "metadata": {},
   "outputs": [],
   "source": []
  },
  {
   "cell_type": "markdown",
   "metadata": {
    "tags": []
   },
   "source": [
    "### **2. Operadores Lógicos:**"
   ]
  },
  {
   "cell_type": "markdown",
   "metadata": {},
   "source": [
    "- **`and` (E lógico):** Retorna verdadeiro se ambas as condições forem verdadeiras.\n",
    "  ```python\n",
    "  resultado = (idade > 18) and (é_estudante == True)\n",
    "  ```\n",
    "\n",
    "- **`or` (OU lógico):** Retorna verdadeiro se pelo menos uma das condições for verdadeira.\n",
    "  ```python\n",
    "  resultado = (idade > 18) or (é_estudante == True)\n",
    "  ```\n",
    "\n",
    "- **`not` (NÃO lógico):** Inverte o valor da condição, de verdadeiro para falso ou de falso para verdadeiro.\n",
    "  ```python\n",
    "  resultado = not (idade > 18)\n",
    "  ```\n"
   ]
  },
  {
   "cell_type": "code",
   "execution_count": null,
   "metadata": {},
   "outputs": [],
   "source": []
  },
  {
   "cell_type": "markdown",
   "metadata": {
    "tags": []
   },
   "source": [
    "### **3.Concatenação de variáveis:**\n"
   ]
  },
  {
   "cell_type": "markdown",
   "metadata": {},
   "source": [
    "\n",
    "  ```python\n",
    "   x = 'Estude';\n",
    "   y = 'linguaguem de programação'\n",
    "   z = x +' a '+ y +'python!';\n",
    "   z\n",
    "  \n",
    "  ```\n"
   ]
  },
  {
   "cell_type": "code",
   "execution_count": null,
   "metadata": {},
   "outputs": [],
   "source": []
  },
  {
   "cell_type": "markdown",
   "metadata": {
    "tags": []
   },
   "source": [
    "### **4.Sistema de numeração:**"
   ]
  },
  {
   "cell_type": "markdown",
   "metadata": {},
   "source": [
    "\n",
    "- **`bin` (binário):** Retorna o valor de entrada em binário\n",
    "  ```python\n",
    "  bin(21)\n",
    "  '0b10101'\n",
    "  ```\n",
    "- **`oct` (octal):** Retorna o valor entrada em octal\n",
    "  ```python\n",
    "  oct(21)\n",
    "  '0b10101' \n",
    "  ```\n",
    "- **`int` (decimal):** Retorna o valor entrada em decimal a partir da base\n",
    "  ```python\n",
    "  int('0b10101',2)  \n",
    "  ```  \n",
    "- **`hex` (hexadecimal):** Retorna o valor de entrada em hexadecimal\n",
    "  ```python\n",
    "  hex(21)\n",
    "  '0x15'\n",
    "  ```"
   ]
  },
  {
   "cell_type": "markdown",
   "metadata": {
    "tags": []
   },
   "source": [
    "### **5. Funções basilares**\n"
   ]
  },
  {
   "cell_type": "markdown",
   "metadata": {
    "id": "jOcnH4rrHt_i",
    "tags": []
   },
   "source": [
    "\n",
    "- **`abs`:** Retorna o valor em absoluto.\n",
    "  ```python\n",
    "  abs(-8)\n",
    "  8\n",
    "  ```\n",
    "\n",
    "- **`round`:** Retorna o valor com 'n' casas decimais\n",
    "  ```python\n",
    "  round(3.141718, 2) # n=2, neste caso!\n",
    "  3.14\n",
    "    ```\n",
    "\n",
    "- **`pow`:** Retorna o valor de uma base 'a' elevada ao expoente 'b'\n",
    "  ```python\n",
    "  pow(4, 2)\n",
    "  16\n",
    "    ```\n",
    "Estes são os conceitos básicos de Python relacionados a variáveis e tipos de dados, bem como operadores aritméticos e lógicos. Dominar esses fundamentos é essencial para escrever código Python funcional e eficaz."
   ]
  },
  {
   "cell_type": "code",
   "execution_count": 13,
   "metadata": {
    "colab": {
     "base_uri": "https://localhost:8080/",
     "height": 35
    },
    "executionInfo": {
     "elapsed": 37,
     "status": "ok",
     "timestamp": 1698513899351,
     "user": {
      "displayName": "Jonatha Rodrigues da Costa",
      "userId": "13687082396096462966"
     },
     "user_tz": 180
    },
    "id": "WtY6C6Fw0qK1",
    "outputId": "d0565e53-f82e-4740-a16c-2b745e7b0fc3",
    "tags": []
   },
   "outputs": [
    {
     "data": {
      "text/plain": [
       "'Estude a linguaguem de programação python!'"
      ]
     },
     "execution_count": 13,
     "metadata": {},
     "output_type": "execute_result"
    }
   ],
   "source": [
    "x = 'Estude';\n",
    "y = 'linguaguem de programação'\n",
    "z = x+' a '+y+' python!';\n",
    "z"
   ]
  },
  {
   "cell_type": "markdown",
   "metadata": {
    "id": "On4JwI_J0qt_"
   },
   "source": [
    "# **Palavras reservadas**"
   ]
  },
  {
   "cell_type": "markdown",
   "metadata": {
    "id": "TZ94JSAK0yQN"
   },
   "source": [
    "As palavras reservadas em Python são as seguintes:\n",
    "\n",
    "```python\n",
    " False, None, True, and, as, assert, async, await, break,\n",
    " class, continue, def, del, elif, else, except, finally, for,\n",
    " from, global, if, import, in, is, lambda, nonlocal, not, or,\n",
    " pass, raise, return, try, while, with, yield\n",
    "```\n",
    "\n",
    "Estas palavras reservadas têm significados específicos na linguagem Python e não podem ser usadas como identificadores (nomes de variáveis, funções, classes, etc.) em seu código."
   ]
  },
  {
   "cell_type": "markdown",
   "metadata": {
    "id": "Mszd--I5BB8r"
   },
   "source": [
    "## **Exercícios propostos**"
   ]
  },
  {
   "cell_type": "markdown",
   "metadata": {},
   "source": [
    "# Produza um código em python\n",
    "\n",
    "\n"
   ]
  }
 ],
 "metadata": {
  "colab": {
   "authorship_tag": "ABX9TyPw/DlsBB7K7nyevMZBFq74",
   "provenance": []
  },
  "kernelspec": {
   "display_name": "Python 3 (ipykernel)",
   "language": "python",
   "name": "python3"
  },
  "language_info": {
   "codemirror_mode": {
    "name": "ipython",
    "version": 3
   },
   "file_extension": ".py",
   "mimetype": "text/x-python",
   "name": "python",
   "nbconvert_exporter": "python",
   "pygments_lexer": "ipython3",
   "version": "3.11.5"
  }
 },
 "nbformat": 4,
 "nbformat_minor": 4
}
