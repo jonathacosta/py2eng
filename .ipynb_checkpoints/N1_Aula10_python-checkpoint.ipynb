{
 "cells": [
  {
   "cell_type": "markdown",
   "metadata": {
    "id": "asx887spoo_z"
   },
   "source": [
    "# **Curso de Python - N1**\n",
    " - Prof. Jonatha Costa"
   ]
  },
  {
   "cell_type": "markdown",
   "metadata": {
    "id": "6TDBRSv6GZGD"
   },
   "source": [
    "Exercícios"
   ]
  },
  {
   "cell_type": "markdown",
   "metadata": {
    "id": "XvsJMEiOGZJI"
   },
   "source": []
  },
  {
   "cell_type": "markdown",
   "metadata": {
    "id": "7eDpY4aQGZL3"
   },
   "source": []
  },
  {
   "cell_type": "markdown",
   "metadata": {
    "id": "hfgru3z5GZOT"
   },
   "source": []
  },
  {
   "cell_type": "markdown",
   "metadata": {
    "id": "lAiQcPdxGZQd"
   },
   "source": []
  }
 ],
 "metadata": {
  "colab": {
   "authorship_tag": "ABX9TyPUteZzFTENF3tNrhZFE7He",
   "provenance": [],
   "toc_visible": true
  },
  "kernelspec": {
   "display_name": "Python 3 (ipykernel)",
   "language": "python",
   "name": "python3"
  },
  "language_info": {
   "codemirror_mode": {
    "name": "ipython",
    "version": 3
   },
   "file_extension": ".py",
   "mimetype": "text/x-python",
   "name": "python",
   "nbconvert_exporter": "python",
   "pygments_lexer": "ipython3",
   "version": "3.11.5"
  }
 },
 "nbformat": 4,
 "nbformat_minor": 4
}
