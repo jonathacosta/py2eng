{
 "cells": [
  {
   "cell_type": "markdown",
   "metadata": {
    "id": "asx887spoo_z"
   },
   "source": [
    "# **Curso de Python - N1**\n",
    " - Prof. Jonatha Costa"
   ]
  },
  {
   "cell_type": "markdown",
   "metadata": {
    "id": "6TDBRSv6GZGD"
   },
   "source": [
    "# Exercícios aplicados"
   ]
  },
  {
   "cell_type": "markdown",
   "metadata": {
    "id": "7eDpY4aQGZL3",
    "tags": []
   },
   "source": [
    "## N1\n"
   ]
  },
  {
   "cell_type": "markdown",
   "metadata": {
    "jp-MarkdownHeadingCollapsed": true,
    "tags": []
   },
   "source": [
    "### Q1"
   ]
  },
  {
   "cell_type": "markdown",
   "metadata": {},
   "source": [
    "Declare, na linha de comando, 3 variáveis (x,y,z) e realize as operações abaixo entre elas:\n",
    "\n",
    "a) x + y + z\n",
    "\n",
    "b) x − yz\n",
    "\n",
    "c) xy/z\n",
    "\n",
    "d) x + yz\n",
    "\n",
    "e) (x + y)/z\n",
    "\n",
    "f) x/(y + z)\n",
    "\n",
    "g) 2x + 3xy − 7\n",
    "\n",
    "h) xyz \n",
    "\n",
    "i) (x + y)2 + (x − y)2\n",
    "\n",
    "j) x2 − x2 y + xy2 − y2\n",
    "\n",
    "k) x3 + x2 + x = −1\n",
    "\n",
    "l) 12x + 5 = 8\n"
   ]
  },
  {
   "cell_type": "markdown",
   "metadata": {
    "tags": []
   },
   "source": [
    "### Q2 \n",
    "Apresente as respostas da questão anterior num único vetor-linha"
   ]
  },
  {
   "cell_type": "markdown",
   "metadata": {
    "jp-MarkdownHeadingCollapsed": true,
    "tags": []
   },
   "source": [
    "### Q3"
   ]
  },
  {
   "cell_type": "markdown",
   "metadata": {},
   "source": [
    "Dado x = [4, 5, 6, 1, 2, 3], escreva esse vetor e explique a ação dos comandos abaixo:\n",
    "```python\n",
    "import numpy as np\n",
    "x=np.array(x)\n",
    "```\n",
    "\n",
    "a)x[0]\n",
    "\n",
    "b)x[4]\n",
    "\n",
    "c)x[1:4]\n",
    "\n",
    "d)x[0:]\n",
    "\n",
    "e)x[1:-2]\n",
    "\n",
    "f)x[5:-1:1]\n",
    "\n",
    "g)[x[1],x[5],x[2],x[1],x[1]]\n",
    "\n",
    "h)x.sum()\n",
    "\n",
    "i)x.mean()\n",
    "\n",
    "j)x.max()\n",
    "\n",
    "k)x.min()\n",
    "\n",
    "l)np.linalg.norm(x)\n",
    "\n",
    "* Nota: Execute o mesmo item l) pelo método a seguir e apresente suas considerações:\n",
    "```python\n",
    "from numpy.linalg import norm\n",
    "norm(x)\n",
    "```"
   ]
  },
  {
   "cell_type": "markdown",
   "metadata": {
    "jp-MarkdownHeadingCollapsed": true,
    "tags": []
   },
   "source": [
    "### Q4"
   ]
  },
  {
   "cell_type": "markdown",
   "metadata": {},
   "source": [
    "Considere os vetores A = np.array([1,2,3]); B = np.array([3,2,1]) e a matriz M = np.array([[4,5,6],[6,5,3]]). Digite os próximos comandos e verifique se sua execução está correta, explique o efeito.\n",
    "\n",
    "\n",
    "a) A + B\n",
    "\n",
    "b) A + M\n",
    "\n",
    "c) A.T + B\n",
    "\n",
    "d) M-[A,B]\n",
    "\n",
    "e) np.array([A,B.T])\n",
    "\n",
    "f) np.array([A,B])\n",
    "\n",
    "g) M-3\n",
    "\n",
    "h) np.dot(A, B) # compare com A * B e apresente suas conclusões\n",
    "\n",
    "i) np.dot(A.T,B)\n",
    "\n",
    "j) A/B\n",
    "\n",
    "k) A//B\n",
    "\n",
    "l) np.array([M[0],M[1],A])\n",
    "\n",
    "m) np.linalg.inv([M[0],M[1],A])\n",
    "\n",
    "n) np.linalg.det([M[0],M[1],A]) \n",
    "\n",
    "* Nota:\n",
    "Experimente resolver os itens l),m) e n) utilizando o método abaixo e faça suas considerações:\n",
    "```python\n",
    "from numpy.linalg import det,inv\n",
    "l=np.array([M[0],M[1],A])\n",
    "inv(l)\n",
    "det(l)\n",
    "```\n"
   ]
  },
  {
   "cell_type": "markdown",
   "metadata": {
    "tags": []
   },
   "source": [
    "### Q5"
   ]
  },
  {
   "cell_type": "markdown",
   "metadata": {
    "tags": []
   },
   "source": [
    "Leia uma matriz de 3 × 3 elementos e calcule a soma dos elementos que estão acima da diagonal principal."
   ]
  },
  {
   "cell_type": "markdown",
   "metadata": {
    "tags": []
   },
   "source": [
    "### Q6"
   ]
  },
  {
   "cell_type": "markdown",
   "metadata": {},
   "source": [
    "Leia uma matriz de n x n elementos. Calcule a soma dos elementos que estão na diagonal principal."
   ]
  },
  {
   "cell_type": "markdown",
   "metadata": {
    "tags": []
   },
   "source": [
    "### Q7"
   ]
  },
  {
   "cell_type": "markdown",
   "metadata": {},
   "source": [
    "Crie um vetor com o comando np.random.randint(100, size=(2, 5)). Encontre o maior valor neste vetor e seu índice, e então, substitua-o pelo seu quadrado.\n",
    "\n",
    "* Dica 1:\n",
    "Utilize o comando argmax() para encontrar a posição do elemento de maior valor e acesse o elemento pelo par vetor[lista][índice].\n",
    "\n",
    "* Dica 2:\n",
    "Explore o comando a seguir e explique-o:\n",
    "```python\n",
    "s=np.random.randint(100, size=(5, 20))\n",
    "m=int(s.argmax() / max(s.shape))\n",
    "n=s.argmax() % max(s.shape\n",
    "s[m][n] = s[m][n]**2\n",
    "```"
   ]
  },
  {
   "cell_type": "markdown",
   "metadata": {
    "tags": []
   },
   "source": [
    "### Q8"
   ]
  },
  {
   "cell_type": "markdown",
   "metadata": {},
   "source": [
    "Considere a matriz M=np.array([[10,2,10,5],[2,5,1,6],[2,4,8,10],[4,10,3,5]]). Substitua os valores da primeira coluna e da última linha por 1. Utilize o comando np.where(M[2, :] > 5) para encontrar na terceira linha desta matriz os índices dos valores que são maiores que 5. Troque estes valores por 5."
   ]
  },
  {
   "cell_type": "markdown",
   "metadata": {
    "tags": []
   },
   "source": [
    "### Q9"
   ]
  },
  {
   "cell_type": "markdown",
   "metadata": {
    "tags": []
   },
   "source": [
    "Gere uma matriz de tamanho 10 x 10, onde seus elementos são da forma: A(i, j) = 2i + 7 j − 2 se i < j , A(i, j) = 3i2 − 1 se i = j e A(i, j) = 4i3 − 5 j se i > j."
   ]
  },
  {
   "cell_type": "markdown",
   "metadata": {
    "tags": []
   },
   "source": [
    "### Q10\n"
   ]
  },
  {
   "cell_type": "code",
   "execution_count": null,
   "metadata": {},
   "outputs": [],
   "source": []
  }
 ],
 "metadata": {
  "colab": {
   "authorship_tag": "ABX9TyPUteZzFTENF3tNrhZFE7He",
   "provenance": [],
   "toc_visible": true
  },
  "kernelspec": {
   "display_name": "Python 3 (ipykernel)",
   "language": "python",
   "name": "python3"
  },
  "language_info": {
   "codemirror_mode": {
    "name": "ipython",
    "version": 3
   },
   "file_extension": ".py",
   "mimetype": "text/x-python",
   "name": "python",
   "nbconvert_exporter": "python",
   "pygments_lexer": "ipython3",
   "version": "3.11.5"
  }
 },
 "nbformat": 4,
 "nbformat_minor": 4
}
