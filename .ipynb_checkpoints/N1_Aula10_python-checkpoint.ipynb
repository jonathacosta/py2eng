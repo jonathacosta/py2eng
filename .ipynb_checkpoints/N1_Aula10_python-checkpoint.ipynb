{
 "cells": [
  {
   "cell_type": "markdown",
   "metadata": {
    "id": "asx887spoo_z"
   },
   "source": [
    "# **Curso de Python - N1**\n",
    " - Prof. Jonatha Costa"
   ]
  },
  {
   "cell_type": "markdown",
   "metadata": {
    "id": "6TDBRSv6GZGD"
   },
   "source": [
    "# Exercícios aplicados"
   ]
  },
  {
   "cell_type": "markdown",
   "metadata": {
    "id": "7eDpY4aQGZL3",
    "tags": []
   },
   "source": [
    "## N1\n"
   ]
  },
  {
   "cell_type": "markdown",
   "metadata": {
    "jp-MarkdownHeadingCollapsed": true,
    "tags": []
   },
   "source": [
    "### Q1"
   ]
  },
  {
   "cell_type": "markdown",
   "metadata": {},
   "source": [
    "Declare, na linha de comando, 3 variáveis (x,y,z) e realize as operações abaixo entre elas:\n",
    "\n",
    "a) x + y + z\n",
    "\n",
    "b) x − yz\n",
    "\n",
    "c) xy/z\n",
    "\n",
    "d) x + yz\n",
    "\n",
    "e) (x + y)/z\n",
    "\n",
    "f) x/(y + z)\n",
    "\n",
    "g) 2x + 3xy − 7\n",
    "\n",
    "h) xyz \n",
    "\n",
    "i) (x + y)2 + (x − y)2\n",
    "\n",
    "j) x2 − x2 y + xy2 − y2\n",
    "\n",
    "k) x3 + x2 + x = −1\n",
    "\n",
    "l) 12x + 5 = 8\n"
   ]
  },
  {
   "cell_type": "markdown",
   "metadata": {
    "tags": []
   },
   "source": [
    "### Q2 \n",
    "Apresente as respostas da questão anterior num único vetor-linha"
   ]
  },
  {
   "cell_type": "markdown",
   "metadata": {
    "tags": []
   },
   "source": [
    "### Q3"
   ]
  },
  {
   "cell_type": "markdown",
   "metadata": {},
   "source": [
    "Dado x = [4, 5, 6, 1, 2, 3], escreva esse vetor e explique a ação dos comandos abaixo:\n",
    "```python\n",
    "import numpy as np\n",
    "x=np.array(x)\n",
    "```\n",
    "\n",
    "a)x[0]\n",
    "\n",
    "b)x[4]\n",
    "\n",
    "c)x[1:4]\n",
    "\n",
    "d)x[0:]\n",
    "\n",
    "e)x[1:-2]\n",
    "\n",
    "f)x[5:-1:1]\n",
    "\n",
    "g)[x[1],x[5],x[2],x[1],x[1]]\n",
    "\n",
    "h)x.sum()\n",
    "\n",
    "i)x.mean()\n",
    "\n",
    "j)x.max()\n",
    "\n",
    "k)x.min()\n",
    "\n",
    "l)np.linalg.norm(x)\n",
    "\n",
    "Nota: Execute o mesmo item l) pelo método a seguir e apresente suas considerações:\n",
    "```python\n",
    "from numpy.linalg import norm\n",
    "norm(x)\n",
    "```"
   ]
  },
  {
   "cell_type": "markdown",
   "metadata": {},
   "source": [
    "### Q4"
   ]
  },
  {
   "cell_type": "markdown",
   "metadata": {},
   "source": [
    "### Q5"
   ]
  },
  {
   "cell_type": "markdown",
   "metadata": {
    "tags": []
   },
   "source": [
    "### Q6"
   ]
  },
  {
   "cell_type": "markdown",
   "metadata": {
    "tags": []
   },
   "source": [
    "### Q7"
   ]
  },
  {
   "cell_type": "markdown",
   "metadata": {
    "tags": []
   },
   "source": [
    "### Q8"
   ]
  },
  {
   "cell_type": "markdown",
   "metadata": {
    "tags": []
   },
   "source": [
    "### Q9"
   ]
  },
  {
   "cell_type": "markdown",
   "metadata": {
    "tags": []
   },
   "source": [
    "### Q10\n"
   ]
  },
  {
   "cell_type": "code",
   "execution_count": null,
   "metadata": {},
   "outputs": [],
   "source": []
  }
 ],
 "metadata": {
  "colab": {
   "authorship_tag": "ABX9TyPUteZzFTENF3tNrhZFE7He",
   "provenance": [],
   "toc_visible": true
  },
  "kernelspec": {
   "display_name": "Python 3 (ipykernel)",
   "language": "python",
   "name": "python3"
  },
  "language_info": {
   "codemirror_mode": {
    "name": "ipython",
    "version": 3
   },
   "file_extension": ".py",
   "mimetype": "text/x-python",
   "name": "python",
   "nbconvert_exporter": "python",
   "pygments_lexer": "ipython3",
   "version": "3.11.5"
  }
 },
 "nbformat": 4,
 "nbformat_minor": 4
}
