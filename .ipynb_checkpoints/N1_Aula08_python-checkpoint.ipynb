{
 "cells": [
  {
   "cell_type": "markdown",
   "metadata": {
    "id": "asx887spoo_z"
   },
   "source": [
    "# **Curso de Python - N1**\n",
    " - Prof. Jonatha Costa"
   ]
  },
  {
   "cell_type": "markdown",
   "metadata": {
    "id": "2dpFZAPvu2Td",
    "tags": []
   },
   "source": [
    "# **Introdução à Visualização de Dados:**"
   ]
  },
  {
   "cell_type": "markdown",
   "metadata": {
    "id": "rIgzNvY-HQaU",
    "tags": []
   },
   "source": [
    "## Visualização de dados"
   ]
  },
  {
   "cell_type": "markdown",
   "metadata": {},
   "source": [
    "A **visualização de dados** é uma parte essencial da análise de dados. Ela permite representar dados de forma gráfica para entender padrões, tendências e insights que podem não ser evidentes em dados brutos. Uma biblioteca popular em Python para visualização de dados é o **Matplotlib**.\n",
    "\n"
   ]
  },
  {
   "cell_type": "markdown",
   "metadata": {},
   "source": [
    "## Matplotlib:"
   ]
  },
  {
   "cell_type": "markdown",
   "metadata": {},
   "source": [
    "O **Matplotlib** é uma biblioteca de visualização de dados em Python que oferece uma variedade de tipos de gráficos. Vamos ver exemplos de gráficos de linha, barras e dispersão."
   ]
  },
  {
   "cell_type": "markdown",
   "metadata": {
    "jp-MarkdownHeadingCollapsed": true,
    "tags": []
   },
   "source": [
    "### **Gráficos de Linha**\n"
   ]
  },
  {
   "cell_type": "markdown",
   "metadata": {},
   "source": [
    "```python\n",
    "import matplotlib.pyplot as plt\n",
    "\n",
    "x = [1, 2, 3, 4, 5]\n",
    "y = [2, 4, 6, 8, 10]\n",
    "\n",
    "plt.plot(x, y, marker='o', color='b', linestyle='-', linewidth=2, markersize=8)\n",
    "plt.xlabel('Eixo X')\n",
    "plt.ylabel('Eixo Y')\n",
    "plt.title('Gráfico de Linha')\n",
    "plt.grid(True)\n",
    "plt.show()\n",
    "```"
   ]
  },
  {
   "cell_type": "code",
   "execution_count": 10,
   "metadata": {
    "tags": []
   },
   "outputs": [],
   "source": [
    "# Simular"
   ]
  },
  {
   "cell_type": "markdown",
   "metadata": {
    "jp-MarkdownHeadingCollapsed": true,
    "tags": []
   },
   "source": [
    "### **Gráfico de Barras**\n"
   ]
  },
  {
   "cell_type": "markdown",
   "metadata": {
    "tags": []
   },
   "source": [
    "```python\n",
    "categorias = ['A', 'B', 'C', 'D', 'E']\n",
    "valores = [4, 7, 1, 9, 5]\n",
    "\n",
    "plt.bar(categorias, valores, color='skyblue')\n",
    "plt.xlabel('Categorias')\n",
    "plt.ylabel('Valores')\n",
    "plt.title('Gráfico de Barras')\n",
    "plt.show()\n",
    "```"
   ]
  },
  {
   "cell_type": "code",
   "execution_count": 39,
   "metadata": {
    "tags": []
   },
   "outputs": [],
   "source": [
    "#Simular"
   ]
  },
  {
   "cell_type": "markdown",
   "metadata": {
    "jp-MarkdownHeadingCollapsed": true,
    "tags": []
   },
   "source": [
    "### **Gráfico de Dispersão**"
   ]
  },
  {
   "cell_type": "markdown",
   "metadata": {
    "id": "2sWy0I0NJTbO",
    "jp-MarkdownHeadingCollapsed": true,
    "tags": []
   },
   "source": [
    "```python\n",
    "x = [1, 2, 3, 4, 5]\n",
    "y = [2, 4, 6, 8, 10]\n",
    "\n",
    "plt.scatter(x, y, color='green', marker='o')\n",
    "plt.xlabel('Eixo X')\n",
    "plt.ylabel('Eixo Y')\n",
    "plt.title('Gráfico de Dispersão')\n",
    "plt.grid(True)\n",
    "plt.show()\n",
    "```"
   ]
  },
  {
   "cell_type": "code",
   "execution_count": 40,
   "metadata": {
    "tags": []
   },
   "outputs": [],
   "source": [
    "#Simular"
   ]
  },
  {
   "cell_type": "markdown",
   "metadata": {
    "jp-MarkdownHeadingCollapsed": true,
    "tags": []
   },
   "source": [
    "### **Personalização de Gráficos:**"
   ]
  },
  {
   "cell_type": "markdown",
   "metadata": {},
   "source": [
    "O Matplotlib permite personalizar praticamente todos os aspectos de um gráfico.\n",
    "\n",
    "```python\n",
    "x = [1, 2, 3, 4, 5]\n",
    "y = [2, 4, 6, 8, 10]\n",
    "\n",
    "plt.plot(x, y, marker='o', color='b', linestyle='-', linewidth=2, markersize=8)\n",
    "plt.xlabel('Eixo X')\n",
    "plt.ylabel('Eixo Y')\n",
    "plt.title('Gráfico Personalizado')\n",
    "plt.grid(True)\n"
   ]
  },
  {
   "cell_type": "code",
   "execution_count": 41,
   "metadata": {
    "tags": []
   },
   "outputs": [],
   "source": [
    "#Simular"
   ]
  },
  {
   "cell_type": "markdown",
   "metadata": {
    "jp-MarkdownHeadingCollapsed": true,
    "tags": []
   },
   "source": [
    "#### Personalizações adicionais\n"
   ]
  },
  {
   "cell_type": "markdown",
   "metadata": {
    "tags": []
   },
   "source": [
    "```python\n",
    "plt.xticks([1, 2, 3, 4, 5], ['A', 'B', 'C', 'D', 'E'])\n",
    "plt.yticks([0, 2, 4, 6, 8, 10])\n",
    "plt.xlim(0.5, 5.5)\n",
    "plt.ylim(0, 12)\n",
    "plt.plot(x, y, marker='o', color='b', linestyle='-', linewidth=2, markersize=8)\n",
    "plt.legend(['Série A'], loc='upper left')\n",
    "plt.savefig('grafico_personalizado.png', dpi=300)  # Salva o gráfico como uma imagem PNG\n",
    "plt.show()\n",
    "```\n"
   ]
  },
  {
   "cell_type": "code",
   "execution_count": 38,
   "metadata": {
    "tags": []
   },
   "outputs": [],
   "source": [
    "#Simular"
   ]
  },
  {
   "cell_type": "markdown",
   "metadata": {
    "tags": []
   },
   "source": [
    "Neste exemplo, várias personalizações foram feitas, incluindo rótulos nos eixos, título, marcações personalizadas nos eixos X e Y, limites nos eixos e uma legenda. O gráfico também é salvo como uma imagem PNG com alta resolução.\n",
    "\n",
    "O Matplotlib oferece uma ampla gama de funcionalidades para criar gráficos de alta qualidade e personalizados em Python. É uma ferramenta poderosa para qualquer pessoa envolvida em análise de dados, ciência de dados ou visualização de informações."
   ]
  },
  {
   "cell_type": "code",
   "execution_count": 16,
   "metadata": {
    "tags": []
   },
   "outputs": [],
   "source": [
    "#Simular"
   ]
  },
  {
   "cell_type": "code",
   "execution_count": 22,
   "metadata": {
    "tags": []
   },
   "outputs": [
    {
     "data": {
      "image/png": "[encoded data removed]",
      "text/plain": [
       "<Figure size 640x480 with 1 Axes>"
      ]
     },
     "metadata": {},
     "output_type": "display_data"
    }
   ],
   "source": [
    "x = [1, 2, 3, 4, 5]\n",
    "y = [2, 4, 6, 8, 10]\n",
    "plt.xticks([1, 2, 3, 4, 5], ['A', 'B', 'C', 'D', 'E'])\n",
    "plt.yticks([0, 2, 4, 6, 8, 10])\n",
    "\n",
    "plt.plot(x, y, marker='o', color='b', linestyle='-', linewidth=2, markersize=8)\n",
    "plt.xlabel('Eixo X')\n",
    "plt.ylabel('Eixo Y')\n",
    "plt.title('Gráfico Personalizado')\n",
    "plt.grid(True)"
   ]
  },
  {
   "cell_type": "code",
   "execution_count": 32,
   "metadata": {
    "tags": []
   },
   "outputs": [
    {
     "data": {
      "image/png": "[encoded data removed]",
      "text/plain": [
       "<Figure size 640x480 with 1 Axes>"
      ]
     },
     "metadata": {},
     "output_type": "display_data"
    }
   ],
   "source": [
    "plt.xticks([1, 2, 3, 4, 5], ['A', 'B', 'C', 'D', 'E'])\n",
    "plt.yticks([0, 2, 4, 6, 8, 10])\n",
    "plt.xlim(0.5, 5.5)\n",
    "plt.ylim(0, 12)\n",
    "plt.plot(x, y, marker='o', color='b', linestyle='-', linewidth=2, markersize=8)\n",
    "plt.legend(['Série A'], loc='upper left')\n",
    "plt.savefig('grafico_personalizado.png', dpi=300)  # Salva o gráfico como uma imagem PNG\n",
    "plt.show()"
   ]
  },
  {
   "cell_type": "markdown",
   "metadata": {
    "id": "9tT598Wh5ZJJ"
   },
   "source": [
    "# Exercícios"
   ]
  },
  {
   "cell_type": "markdown",
   "metadata": {
    "id": "YQV4u9RK_vef"
   },
   "source": [
    "## Implemente os trechos de código acima!"
   ]
  },
  {
   "cell_type": "markdown",
   "metadata": {
    "tags": []
   },
   "source": [
    "## Produza gráficos diversos realizando Exploratory Data Analyze (EDA) sobre os dados disponíveis em: 'https://raw.githubusercontent.com/jonathacosta/SmartGrid/main/SCC-SHC/Results/Datasets/results-full.csv'"
   ]
  },
  {
   "cell_type": "code",
   "execution_count": null,
   "metadata": {},
   "outputs": [],
   "source": []
  }
 ],
 "metadata": {
  "colab": {
   "authorship_tag": "ABX9TyMOyQ80ZQdaebhh6SaQQvLV",
   "provenance": []
  },
  "kernelspec": {
   "display_name": "Python 3 (ipykernel)",
   "language": "python",
   "name": "python3"
  },
  "language_info": {
   "codemirror_mode": {
    "name": "ipython",
    "version": 3
   },
   "file_extension": ".py",
   "mimetype": "text/x-python",
   "name": "python",
   "nbconvert_exporter": "python",
   "pygments_lexer": "ipython3",
   "version": "3.11.5"
  }
 },
 "nbformat": 4,
 "nbformat_minor": 4
}
