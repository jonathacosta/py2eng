{
 "cells": [
  {
   "cell_type": "markdown",
   "metadata": {
    "id": "asx887spoo_z"
   },
   "source": [
    "# **IFCE *campus* Maracanaú**\n",
    " Eixo da indústria\n",
    "---\n",
    "![image.png](data:image/png;base64,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)\n",
    "\n",
    "Aplicado à Engenharia de Automação e Controle\n",
    "\n",
    "\n",
    "> Prof. Jonatha Costa,\n",
    "> jonatha.costa@ifce.edu.br,\n",
    "> http://lattes.cnpq.br/5005059748997042\n"
   ]
  },
  {
   "cell_type": "markdown",
   "metadata": {
    "id": "dCRsFlCFdjv1"
   },
   "source": [
    "# **Escopo**"
   ]
  },
  {
   "cell_type": "markdown",
   "metadata": {
    "id": "jJi0RfjG0lhJ"
   },
   "source": [
    "## N0 - Conceitos de programação\n"
   ]
  },
  {
   "cell_type": "markdown",
   "metadata": {
    "id": "6OFbHB4D0bpa"
   },
   "source": [
    " **1.Conceitos basilares de programação**\n",
    "- Fundamentos de lógica de programação\n",
    "- Fundamentos de resolução de problemas\n",
    "    - premissas\n",
    "    - restrições\n",
    "- Pseudo-código e fluxograma\n",
    "- Arcabouço matemático\n",
    "- Métodos alternativos\n"
   ]
  },
  {
   "cell_type": "markdown",
   "metadata": {
    "id": "OvL7vsOrmx0c"
   },
   "source": [
    "## N1 - Fundamentos de Python\n"
   ]
  },
  {
   "cell_type": "markdown",
   "metadata": {
    "id": "efJ7x-UJmHcH"
   },
   "source": [
    "Curso básico de Python:\n",
    "\n",
    "### **1. Ambientes de programação em Python:**\n",
    "- Notebooks: Google Colab e Jupyter\n",
    "- Anaconda python\n",
    "- Spyder, VisualCode\n",
    "\n",
    "### **2. Conceitos Básicos de Python:**\n",
    "- **Variáveis e Tipos de Dados:**\n",
    "  - Inteiros, Floats, Strings, Booleanos\n",
    "  - Operadores aritméticos e lógicos\n",
    "\n",
    "- **Estruturas de Controle:**\n",
    "  - Condicional (if, else, elif)\n",
    "  - Loops (for, while)\n",
    "\n",
    "### **3. Estruturas de Dados em Python:**\n",
    "- **Listas e Tuplas:**\n",
    "  - Índices e fatiamento\n",
    "  - Métodos de lista\n",
    "- **Dicionários e Conjuntos:**\n",
    "  - Chave-valor (dicionários)\n",
    "  - Operações de conjunto (união, interseção)\n",
    "\n",
    "### **4. Funções em Python:**\n",
    "- Definindo funções\n",
    "- Parâmetros e argumentos\n",
    "- Funções lambda\n",
    "- Recursão\n",
    "\n",
    "### **5. Manipulação de Arquivos:**\n",
    "- Leitura e escrita de arquivos de texto\n",
    "- Trabalhando com arquivos CSV e JSON\n",
    "\n",
    "### **6. Bibliotecas Python:**\n",
    "- **NumPy e Arrays:**\n",
    "  - Introdução ao NumPy\n",
    "  - Operações com arrays\n",
    "- **Pandas e DataFrames:**\n",
    "  - Criando e manipulando DataFrames\n",
    "  - Análise de dados básica\n",
    "\n",
    "### **7. Introdução a Visualização de Dados:**\n",
    "- **Matplotlib:**\n",
    "  - Gráficos de linha, barras, dispersão\n",
    "  - Personalização de gráficos\n",
    "\n",
    "### **8. Projetos Práticos:**\n",
    "- **Projeto 1: Calculadora Python:**\n",
    "  - Criar uma calculadora básica usando funções.\n",
    "- **Projeto 2: Análise de Dados Simples:**\n",
    "  - Analisar um conjunto de dados usando Pandas e criar gráficos básicos com Matplotlib.\n",
    "- **Projeto 3: Jogo da Forca:**\n",
    "  - Implementar o clássico jogo da forca usando estruturas de controle e listas.\n",
    "\n"
   ]
  },
  {
   "cell_type": "markdown",
   "metadata": {
    "id": "NlDLGdbgm8t-"
   },
   "source": [
    "## N2 - Python em POO"
   ]
  },
  {
   "cell_type": "markdown",
   "metadata": {
    "id": "3OLF9MCMnykN"
   },
   "source": [
    "Estrutura de tópicos para orientação a objetos (POO) em Python:\n",
    "\n",
    "### **1. Introdução à Programação Orientada a Objetos (POO):**\n",
    "   - **O que é POO:**\n",
    "     - Objetos, classes, métodos, atributos\n",
    "     - Encapsulamento, herança, polimorfismo\n",
    "\n",
    "### **2. Classes e Objetos:**\n",
    "   - **Definindo Classes:**\n",
    "     - Atributos e métodos de classe\n",
    "     - Construtores (`__init__`) e destrutores (`__del__`)\n",
    "   - **Criando Objetos:**\n",
    "     - Instanciando objetos\n",
    "     - Acesso a atributos e métodos\n",
    "\n",
    "### **3. Encapsulamento:**\n",
    "   - **Atributos e Métodos Privados:**\n",
    "     - `_atributo` e `__atributo`\n",
    "     - Métodos privados\n",
    "   - **Getters e Setters:**\n",
    "     - Protegendo e modificando atributos\n",
    "\n",
    "### **4. Herança:**\n",
    "   - **Definindo Subclasses:**\n",
    "     - Herdando atributos e métodos\n",
    "     - Sobrescrevendo métodos\n",
    "   - **Herança Múltipla:**\n",
    "     - Trabalhando com múltiplas classes-pai\n",
    "\n",
    "### **5. Polimorfismo:**\n",
    "   - **Métodos Polimórficos:**\n",
    "     - Métodos com o mesmo nome em diferentes classes\n",
    "   - **Polimorfismo com Herança:**\n",
    "     - Subclasses que compartilham métodos comuns\n",
    "\n",
    "### **6. Abstração:**\n",
    "   - **Classes Abstratas:**\n",
    "     - Métodos abstratos\n",
    "     - Classes abstratas vs. interfaces\n",
    "\n",
    "### **7. Composição:**\n",
    "   - **Compondo Objetos:**\n",
    "     - Criando objetos complexos usando objetos menores\n",
    "   - **Relacionamentos \"Tem-um\" vs \"É-um\":**\n",
    "     - Entendendo a diferença\n",
    "\n",
    "### **8. Tratamento de Exceções em POO:**\n",
    "   - **Exceções Personalizadas:**\n",
    "     - Criando exceções personalizadas para classes\n",
    "\n",
    "### **9. Design Patterns:**\n",
    "   - **Padrões de Projeto Comuns:**\n",
    "     - Singleton, Factory, Observer, Decorator, etc.\n",
    "   - **Quando e Como Aplicar Padrões de Projeto:**\n",
    "     - Melhores práticas e cenários de uso\n",
    "\n",
    "### **10. Princípios SOLID:**\n",
    "   - **S - Single Responsibility Principle (Princípio da Responsabilidade Única)**\n",
    "   - **O - Open/Closed Principle (Princípio do Aberto/Fechado)**\n",
    "   - **L - Liskov Substitution Principle (Princípio da Substituição de Liskov)**\n",
    "   - **I - Interface Segregation Principle (Princípio da Segregação de Interfaces)**\n",
    "   - **D - Dependency Inversion Principle (Princípio da Inversão de Dependência)**\n",
    "\n",
    "### **11. Testes em POO:**\n",
    "   - **Testes de Unidade:**\n",
    "     - Testando métodos de classes individualmente\n",
    "   - **Testes de Integração:**\n",
    "     - Testando interações entre objetos\n",
    "   - **Ferramentas e Frameworks de Testes:**\n",
    "     - Unittest, pytest, etc.\n",
    "\n",
    "### **12. Aplicações Práticas:**\n",
    "   - **Desenvolvimento de Projetos:**\n",
    "     - Aplicar POO em projetos reais\n",
    "   - **Boas Práticas e Padrões de Codificação:**\n",
    "     - Escrevendo código limpo e legível usando POO\n",
    "\n",
    "### **13. Conclusão:**\n",
    "   - **Resumo dos Conceitos:**\n",
    "     - Revisão dos principais tópicos de POO"
   ]
  },
  {
   "cell_type": "markdown",
   "metadata": {
    "id": "UljKwoqsnYex"
   },
   "source": [
    "##N3 - Projetos de aplicações"
   ]
  },
  {
   "cell_type": "markdown",
   "metadata": {
    "id": "jrvUSkKjnwpC"
   },
   "source": [
    "### **1. Recursos Avançados:**\n",
    "- Programação orientada a objetos em Python\n",
    "- Trabalhando com APIs usando a biblioteca requests\n",
    "- Introdução ao web scraping com BeautifulSoup\n",
    "\n",
    "### **2. Modelos de projetos**\n",
    "- Avaliação de projetos funcionais\n",
    "- Otimização de projetos em POO\n",
    "- Comparativo de performance\n",
    "- Abordagem centradas em inteligência artificial\n",
    "\n",
    "### **3. Conclusão:**\n",
    "- Recapitulação do que foi aprendido\n",
    "- Incentive os alunos a continuarem aprendendo e explorando recursos adicionais por conta própria.\n"
   ]
  },
  {
   "cell_type": "markdown",
   "metadata": {
    "id": "N65EOK2p3HSh"
   },
   "source": [
    "## Por que aprender sobre programação de computadores?"
   ]
  },
  {
   "cell_type": "markdown",
   "metadata": {
    "id": "QpBWoVNpdtI4"
   },
   "source": [
    "https://youtu.be/nt7JqivQsW0\n",
    "\n"
   ]
  }
 ],
 "metadata": {
  "colab": {
   "authorship_tag": "ABX9TyPWqbtCVvxcvvaIIMcaVjXr",
   "provenance": [],
   "toc_visible": true
  },
  "kernelspec": {
   "display_name": "Python 3 (ipykernel)",
   "language": "python",
   "name": "python3"
  },
  "language_info": {
   "codemirror_mode": {
    "name": "ipython",
    "version": 3
   },
   "file_extension": ".py",
   "mimetype": "text/x-python",
   "name": "python",
   "nbconvert_exporter": "python",
   "pygments_lexer": "ipython3",
   "version": "3.11.5"
  }
 },
 "nbformat": 4,
 "nbformat_minor": 1
}
