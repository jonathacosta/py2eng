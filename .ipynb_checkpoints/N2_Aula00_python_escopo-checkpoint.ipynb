{
 "cells": [
  {
   "cell_type": "markdown",
   "metadata": {
    "id": "asx887spoo_z"
   },
   "source": [
    "# Curso de Python\n",
    " - Prof. Jonatha Costa"
   ]
  },
  {
   "cell_type": "markdown",
   "metadata": {
    "id": "jJi0RfjG0lhJ",
    "tags": []
   },
   "source": [
    "## N2 - Python em POO - fundamentos"
   ]
  },
  {
   "cell_type": "markdown",
   "metadata": {
    "id": "SVjOmvv3kpql",
    "tags": []
   },
   "source": [
    "### **1. Introdução à Programação Orientada a Objetos (POO):**\n",
    "   - **O que é POO:**\n",
    "     - Objetos, classes, métodos, atributos\n",
    "     - Encapsulamento, herança, polimorfismo\n",
    "\n",
    "### **2. Classes e Objetos:**\n",
    "   - **Definindo Classes:**\n",
    "     - Atributos e métodos de classe\n",
    "     - Construtores (`__init__`) e destrutores (`__del__`)\n",
    "   - **Criando Objetos:**\n",
    "     - Instanciando objetos\n",
    "     - Acesso a atributos e métodos\n",
    "\n",
    "### **3. Encapsulamento:**\n",
    "   - **Atributos e Métodos Privados:**\n",
    "     - `_atributo` e `__atributo`\n",
    "     - Métodos privados\n",
    "   - **Getters e Setters:**\n",
    "     - Protegendo e modificando atributos\n",
    "\n",
    "### **4. Herança:**\n",
    "   - **Definindo Subclasses:**\n",
    "     - Herdando atributos e métodos\n",
    "     - Sobrescrevendo métodos\n",
    "   - **Herança Múltipla:**\n",
    "     - Trabalhando com múltiplas classes-pai\n",
    "\n",
    "### **5. Polimorfismo:**\n",
    "   - **Métodos Polimórficos:**\n",
    "     - Métodos com o mesmo nome em diferentes classes\n",
    "   - **Polimorfismo com Herança:**\n",
    "     - Subclasses que compartilham métodos comuns\n",
    "\n",
    "### **6. Abstração:**\n",
    "   - **Classes Abstratas:**\n",
    "     - Métodos abstratos\n",
    "     - Classes abstratas vs. interfaces\n",
    "\n",
    "### **7. Composição:**\n",
    "   - **Compondo Objetos:**\n",
    "     - Criando objetos complexos usando objetos menores\n",
    "   - **Relacionamentos \"Tem-um\" vs \"É-um\":**\n",
    "     - Entendendo a diferença\n",
    "\n",
    "### **8. Tratamento de Exceções em POO:**\n",
    "   - **Exceções Personalizadas:**\n",
    "     - Criando exceções personalizadas para classes\n",
    "\n",
    "### **9. Design Patterns:**\n",
    "   - **Padrões de Projeto Comuns:**\n",
    "     - Singleton, Factory, Observer, Decorator, etc.\n",
    "   - **Quando e Como Aplicar Padrões de Projeto:**\n",
    "     - Melhores práticas e cenários de uso\n",
    "\n",
    "### **10. Princípios SOLID:**\n",
    "   - **S - Single Responsibility Principle (Princípio da Responsabilidade Única)**\n",
    "   - **O - Open/Closed Principle (Princípio do Aberto/Fechado)**\n",
    "   - **L - Liskov Substitution Principle (Princípio da Substituição de Liskov)**\n",
    "   - **I - Interface Segregation Principle (Princípio da Segregação de Interfaces)**\n",
    "   - **D - Dependency Inversion Principle (Princípio da Inversão de Dependência)**\n",
    "\n",
    "### **11. Testes em POO:**\n",
    "   - **Testes de Unidade:**\n",
    "     - Testando métodos de classes individualmente\n",
    "   - **Testes de Integração:**\n",
    "     - Testando interações entre objetos\n",
    "   - **Ferramentas e Frameworks de Testes:**\n",
    "     - Unittest, pytest, etc.\n",
    "\n",
    "### **12. Aplicações Práticas:**\n",
    "   - **Desenvolvimento de Projetos:**\n",
    "     - Aplicar POO em projetos reais\n",
    "   - **Boas Práticas e Padrões de Codificação:**\n",
    "     - Escrevendo código limpo e legível usando POO\n",
    "\n",
    "### **13. Conclusão:**\n",
    "   - **Resumo dos Conceitos:**\n",
    "     - Revisão dos principais tópicos de POO"
   ]
  }
 ],
 "metadata": {
  "colab": {
   "authorship_tag": "ABX9TyP/KWNf8bFn/E8FsBe6qn7x",
   "provenance": []
  },
  "kernelspec": {
   "display_name": "Python 3 (ipykernel)",
   "language": "python",
   "name": "python3"
  },
  "language_info": {
   "codemirror_mode": {
    "name": "ipython",
    "version": 3
   },
   "file_extension": ".py",
   "mimetype": "text/x-python",
   "name": "python",
   "nbconvert_exporter": "python",
   "pygments_lexer": "ipython3",
   "version": "3.11.5"
  }
 },
 "nbformat": 4,
 "nbformat_minor": 4
}
