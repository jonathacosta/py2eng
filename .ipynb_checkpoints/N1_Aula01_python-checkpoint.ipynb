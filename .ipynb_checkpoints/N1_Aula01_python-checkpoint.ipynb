{
 "cells": [
  {
   "cell_type": "markdown",
   "metadata": {
    "id": "asx887spoo_z"
   },
   "source": [
    "# **Curso de Python - N1**\n",
    " - Prof. Jonatha Costa"
   ]
  },
  {
   "cell_type": "markdown",
   "metadata": {
    "id": "2dpFZAPvu2Td",
    "jp-MarkdownHeadingCollapsed": true,
    "tags": []
   },
   "source": [
    "## **1.0 Introdução ao Google Colab**"
   ]
  },
  {
   "cell_type": "markdown",
   "metadata": {
    "id": "JhaB4EqUuEpM"
   },
   "source": [
    "Curso básico de Python usando o Google Colab:\n",
    "\n",
    "- O **Google Colab** é uma plataforma gratuita baseada em nuvem fornecida pelo Google que permite aos usuários escrever e executar código Python em notebooks interativos. Esses notebooks são documentos interativos que misturam código, texto, imagens e outros elementos em um ambiente de desenvolvimento integrado (IDE). Existem várias razões pelas quais o Google Colab é uma ferramenta valiosa para aprender Python:\n",
    "\n",
    "### 1.1 **Acesso Gratuito a Recursos de Computação:**\n",
    "   - O Google Colab oferece acesso gratuito a poderosas GPUs (Unidades de Processamento Gráfico) e TPUs (Unidades de Processamento de Tensor) para execução de código, o que é especialmente útil para tarefas de aprendizado de máquina e processamento de dados pesados.\n",
    "\n",
    "### 1.2 **Sem Necessidade de Configuração:**\n",
    "   - Não há necessidade de configurar um ambiente de desenvolvimento local. Tudo é executado em servidores do Google, economizando tempo e esforço para configurar um ambiente Python em seu próprio computador.\n",
    "\n",
    "### 1.3 **Integração com Google Drive:**\n",
    "   - Os notebooks do Colab são armazenados no Google Drive, o que facilita o compartilhamento de projetos e colaboração em tempo real com outras pessoas. Você pode compartilhar um notebook da mesma forma que compartilha outros documentos do Google Drive.\n",
    "\n",
    "### 1.4 **Bibliotecas Pré-Instaladas:**\n",
    "   - O Colab já vem com muitas bibliotecas Python populares pré-instaladas, como NumPy, pandas, matplotlib, seaborn e TensorFlow, permitindo que os usuários comecem a trabalhar com essas ferramentas imediatamente.\n",
    "\n",
    "### 1.5 **Suporte a Texto Formatado e Gráficos:**\n",
    "   - Além de código, os notebooks do Colab suportam texto formatado usando Markdown, o que facilita a criação de documentação explicativa ao lado do código. Também é possível incluir gráficos, imagens e outros elementos visuais diretamente nos notebooks.\n",
    "\n",
    "### 1.6 **Aprendizado Interativo e Experimentação:**\n",
    "   - A natureza interativa dos notebooks permite que os alunos escrevam código Python em pequenos blocos, executem esses blocos e vejam os resultados imediatamente. Isso facilita a experimentação e o aprendizado iterativo.\n",
    "\n",
    "### 1.7 **Recursos de Colaboração e Educação:**\n",
    "   - Além de ser uma ótima ferramenta para aprendizado individual, o Colab também suporta recursos educacionais, como a criação de tutoriais interativos, facilitando a criação de conteúdo educacional envolvente e interativo.\n",
    "\n",
    "### 1.8 **Flexibilidade e Portabilidade:**\n",
    "   - Os notebooks do Colab podem ser exportados para diferentes formatos, como PDF ou Jupyter Notebook (.ipynb), o que permite que os alunos levem seu trabalho consigo e o acessem em outros ambientes de desenvolvimento, se desejado.\n",
    "\n",
    "Em resumo, o Google Colab é útil para aprender Python porque oferece um ambiente de desenvolvimento prático, interativo e sem barreiras, permitindo que os aprendizes se concentrem na lógica da programação e nas técnicas de Python, em vez de se preocuparem com a configuração de ambientes de desenvolvimento complicados. Além disso, ele também promove a colaboração e a criação de conteúdo educacional interativo.\n",
    "\n",
    "\n"
   ]
  },
  {
   "cell_type": "markdown",
   "metadata": {
    "id": "aRwQBM7B0kuU",
    "jp-MarkdownHeadingCollapsed": true,
    "tags": []
   },
   "source": [
    "## **2.0 Criar um notebook no Colab**\n",
    "\n",
    "\n"
   ]
  },
  {
   "cell_type": "markdown",
   "metadata": {
    "id": "OvL7vsOrmx0c"
   },
   "source": [
    "Para criar um novo notebook no Google Colab, siga estas etapas:\n",
    "\n",
    "1. **Acesse o Google Colab:**\n",
    "   Abra seu navegador da web e acesse o [Google Colab](https://colab.research.google.com/) (<https://colab.research.google.com/>). Certifique-se de estar logado em sua conta do Google.\n",
    "\n",
    "2. **Criar um Novo Notebook:**\n",
    "   No Google Colab, você verá uma tela inicial com algumas opções:\n",
    "   - \"Recentes\": Exibe notebooks recentemente acessados.\n",
    "   - \"Google Drive\": Mostra notebooks salvos no seu Google Drive.\n",
    "   - \"GitHub\": Permite abrir notebooks diretamente de um repositório do GitHub.\n",
    "\n",
    "   Para criar um novo notebook, clique em **\"Novo notebook\"** ou vá para **\"Arquivo\" > \"Novo notebook\"** no menu.\n",
    "\n",
    "3. **Escolher o Tipo de Notebook:**\n",
    "   Ao criar um novo notebook, você pode escolher entre um novo notebook Python 2, Python 3 ou um notebook de R. Escolha **\"Python 3\"** se estiver interessado em aprender Python 3. Clique nessa opção para abrir um novo notebook Python 3 em branco.\n",
    "\n",
    "4. **Comece a Escrever Código:**\n",
    "   Após criar um novo notebook, você verá células em branco onde pode escrever seu código Python. Cada célula pode conter código ou texto explicativo (utilizando Markdown). Para começar a escrever código, clique na célula em branco e comece a digitar.\n",
    "\n",
    "5. **Executar Código:**\n",
    "   Após escrever um pedaço de código em uma célula, você pode executá-lo clicando no botão de play à esquerda da célula ou pressionando **Shift + Enter**. O código será executado e o resultado será exibido abaixo da célula.\n",
    "\n",
    "6. **Adicionar Novas Células:**\n",
    "   Você pode adicionar novas células clicando nos botões **\"+\"** na barra de ferramentas acima das células. Você pode escolher entre células de código ou células de texto (Markdown).\n",
    "\n",
    "7. **Salvar e Compartilhar:**\n",
    "   Se você estiver logado em sua conta do Google, o notebook será salvo automaticamente no seu Google Drive. Você também pode fazer o download do notebook para o seu computador ou compartilhá-lo com outras pessoas clicando em **\"Arquivo\" > \"Compartilhar\"**.\n",
    "\n",
    "Essas são as etapas básicas para criar um novo notebook no Google Colab. Agora você está pronto para começar a escrever código Python e explorar todas as funcionalidades oferecidas por esta poderosa ferramenta de desenvolvimento em nuvem!"
   ]
  },
  {
   "cell_type": "markdown",
   "metadata": {
    "id": "UZK7DI05cZMB",
    "jp-MarkdownHeadingCollapsed": true,
    "tags": []
   },
   "source": [
    "## **3.0 Considerações sobre as versões de Python**"
   ]
  },
  {
   "cell_type": "markdown",
   "metadata": {
    "id": "9qtcytAlcoIu",
    "tags": []
   },
   "source": [
    "### Visão geral das versões\n",
    "- Versões mais significativas até 2023.\n",
    "\n",
    "### Python 1.x:\n",
    "- **Python 1.0:** Lançado em janeiro de 1994.\n",
    "- **Python 1.5:** Lançado em dezembro de 1997, trouxe suporte a Unicode e melhorias na manipulação de exceções.\n",
    "\n",
    "### Python 2.x:\n",
    "- **Python 2.0:** Lançado em outubro de 2000, introduziu funcionalidades como coleta de lixo e suporte a Unicode melhorado.\n",
    "- **Python 2.7:** Última versão da série 2.x, lançada em julho de 2010. Muitos projetos ainda estavam usando Python 2 quando o suporte oficial terminou em janeiro de 2020.\n",
    "\n",
    "### Python 3.x:\n",
    "- **Python 3.0:** Lançado em dezembro de 2008, foi uma revisão importante da linguagem que resolveu várias inconsistências e melhorou a clareza e a consistência do Python.\n",
    "- **Python 3.6:** Lançado em dezembro de 2016, trouxe f-strings para formatação de strings e melhorias em dicionários e literais.\n",
    "- **Python 3.7:** Lançado em junho de 2018, introduziu atribuições múltiplas com o operador `:=` (walrus operator) e melhorias na sintaxe de formatação de strings.\n",
    "- **Python 3.8:** Lançado em outubro de 2019, trouxe expressões de atribuição (`:=`), operadores de atribuição (`:=`, `|=`), e outras melhorias na linguagem.\n",
    "- **Python 3.9:** Lançado em outubro de 2020, introduziu operadores de merge (`|` e `|=`) para dicionários e melhorias em anotações de tipo e performance.\n",
    "\n",
    "### Python 3.10:\n",
    "- **Python 3.10:** Lançado em outubro de 2021, trouxe recursos como a atribuição de padrões (assignment expressions) para comprehensions e lambdas, operadores de matriz (`|`, `&`, `^`), melhorias em erros de sintaxe e muito mais.\n",
    "\n",
    "\n",
    "### Python 3.11:\n",
    "- **Python 3.11:** Lançado em outubro de 2022, inclui localizações de erro detalhados, grupos de exceções e operadores except, suporte para tipos de literais de string arbitrários e melhorias significativas na velocidade, tornando-o mais rápido que o Python 3.10.\n",
    "\n",
    "### Python 3.12:\n",
    "- **Python 3.12:** Lançado em outubro de 2023, inclui f-strings mais flexíveis, suporte ao protocolo de buffer, uma nova API de depuração, suporte para subinterpreters isolados, mensagens de erro aprimoradas e diversas melhorias de desempenho, resultando em um aumento geral de 5%.\n",
    "\n",
    "Fonte: https://www.python.org/, acessado em 27 de outubro de 2023.\n",
    "Página oficial da linguagem"
   ]
  },
  {
   "cell_type": "markdown",
   "metadata": {
    "id": "OfOv7ZIuXNhf"
   },
   "source": [
    "**bold text**# Uso de APIs de AI  \n",
    "\n"
   ]
  },
  {
   "cell_type": "markdown",
   "metadata": {
    "id": "QwLn6OnKXXoa",
    "jp-MarkdownHeadingCollapsed": true,
    "tags": []
   },
   "source": [
    "## **4.0 chatGPT e Links**"
   ]
  },
  {
   "cell_type": "markdown",
   "metadata": {},
   "source": [
    "- Os benefícios e malefícios da AI\n",
    "    - Iniciantes e AI\n",
    "    - Profissionais experientes e AI\n",
    "- A importância de saber fazer as perguntas corretas.\n",
    "    - Construção de perguntas precisas com restrições e premissas\n",
    "    - Erros de generalização de perguntas"
   ]
  },
  {
   "cell_type": "markdown",
   "metadata": {
    "id": "oSI6pVoiYpFw"
   },
   "source": [
    "### **Links auxiliares**\n",
    "- ChatGPT: Tudo Que Você Realmente Precisa Saber, Uso e Limitações\n",
    "https://www.cienciaedados.com/chatgpt\n",
    "- Alternativas ao ChatGPT\n",
    "https://www.cienciaedados.com/5\n"
   ]
  }
 ],
 "metadata": {
  "colab": {
   "authorship_tag": "ABX9TyMKHVyctQWjUtrGvDCo/ah2",
   "provenance": []
  },
  "kernelspec": {
   "display_name": "Python 3 (ipykernel)",
   "language": "python",
   "name": "python3"
  },
  "language_info": {
   "codemirror_mode": {
    "name": "ipython",
    "version": 3
   },
   "file_extension": ".py",
   "mimetype": "text/x-python",
   "name": "python",
   "nbconvert_exporter": "python",
   "pygments_lexer": "ipython3",
   "version": "3.11.5"
  }
 },
 "nbformat": 4,
 "nbformat_minor": 4
}
