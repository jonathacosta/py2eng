{
 "cells": [
  {
   "cell_type": "markdown",
   "metadata": {
    "id": "asx887spoo_z",
    "tags": []
   },
   "source": [
    "# **Curso de Python - N1**\n",
    " - Prof. Jonatha Costa"
   ]
  },
  {
   "cell_type": "markdown",
   "metadata": {
    "jp-MarkdownHeadingCollapsed": true,
    "tags": []
   },
   "source": [
    "## **Manipulação de Arquivos em Python** \n"
   ]
  },
  {
   "cell_type": "markdown",
   "metadata": {
    "id": "2dpFZAPvu2Td",
    "tags": []
   },
   "source": [
    "- A Manipulação de Arquivos em Python é uma habilidade essencial para interagir com dados armazenados em arquivos.\n",
    "- Python oferece diversas operações para leitura, escrita e manipulação de arquivos de texto, CSV (Comma Separated Values) e JSON (JavaScript Object Notation)."
   ]
  },
  {
   "cell_type": "markdown",
   "metadata": {},
   "source": [
    "### **Leitura de Arquivos de Texto:**\n"
   ]
  },
  {
   "cell_type": "markdown",
   "metadata": {},
   "source": [
    "```python\n",
    "# Abrir um arquivo para leitura\n",
    "with open('arquivo.txt', 'r') as arquivo:\n",
    "    conteudo = arquivo.read()\n",
    "    print(conteudo)\n",
    "```\n",
    "\n",
    "Neste exemplo, o arquivo 'arquivo.txt' é aberto em modo de leitura (`'r'`) e seu conteúdo é lido e armazenado na variável `conteudo`.\n"
   ]
  },
  {
   "cell_type": "code",
   "execution_count": null,
   "metadata": {},
   "outputs": [],
   "source": []
  },
  {
   "cell_type": "markdown",
   "metadata": {},
   "source": [
    "### **Escrita em Arquivos de Texto:**\n"
   ]
  },
  {
   "cell_type": "markdown",
   "metadata": {
    "id": "2sWy0I0NJTbO",
    "tags": []
   },
   "source": [
    "\n",
    "```python\n",
    "# Abrir um arquivo para escrita\n",
    "with open('arquivo.txt', 'w') as arquivo:\n",
    "    arquivo.write('Olá, mundo!')\n",
    "```\n",
    "\n",
    "Neste exemplo, o arquivo 'arquivo.txt' é aberto em modo de escrita (`'w'`) e a string 'Olá, mundo!' é escrita no arquivo.\n",
    "\n"
   ]
  },
  {
   "cell_type": "markdown",
   "metadata": {
    "id": "j_pDU-x1EhxE",
    "tags": []
   },
   "source": [
    "## Trabalhando com Arquivos CSV:"
   ]
  },
  {
   "cell_type": "markdown",
   "metadata": {},
   "source": [
    "### **Leitura de Arquivos CSV:**\n"
   ]
  },
  {
   "cell_type": "markdown",
   "metadata": {},
   "source": [
    "\n",
    "```python\n",
    "import csv\n",
    "\n",
    "with open('dados.csv', 'r') as arquivo_csv:\n",
    "    leitor_csv = csv.reader(arquivo_csv)\n",
    "    for linha in leitor_csv:\n",
    "        print(linha)\n",
    "```\n",
    "\n",
    "Neste exemplo, o arquivo 'dados.csv' é aberto em modo de leitura e lido usando o módulo `csv`. Cada linha do arquivo CSV é tratada como uma lista.\n"
   ]
  },
  {
   "cell_type": "code",
   "execution_count": null,
   "metadata": {},
   "outputs": [],
   "source": []
  },
  {
   "cell_type": "markdown",
   "metadata": {
    "tags": []
   },
   "source": [
    "### **Escrita em Arquivos CSV:**\n"
   ]
  },
  {
   "cell_type": "markdown",
   "metadata": {
    "id": "fKOraX3hEfue"
   },
   "source": [
    "```python\n",
    "import csv\n",
    "\n",
    "dados = [\n",
    "    ['Nome', 'Idade', 'Profissão'],\n",
    "    ['Alice', 30, 'Engenheira'],\n",
    "    ['Bob', 35, 'Cientista de Dados']\n",
    "]\n",
    "\n",
    "with open('dados.csv', 'w', newline='') as arquivo_csv:\n",
    "    escritor_csv = csv.writer(arquivo_csv)\n",
    "    escritor_csv.writerows(dados)\n",
    "```\n",
    "\n",
    "Neste exemplo, uma lista de listas é escrita no arquivo 'dados.csv' usando o módulo `csv`.\n"
   ]
  },
  {
   "cell_type": "code",
   "execution_count": null,
   "metadata": {},
   "outputs": [],
   "source": []
  },
  {
   "cell_type": "markdown",
   "metadata": {
    "id": "nxSt-X4wERBd"
   },
   "source": [
    "## Trabalhando com Arquivos JSON:"
   ]
  },
  {
   "cell_type": "markdown",
   "metadata": {},
   "source": [
    "Para trabalhar com arquivos JSON (*Java Script Object Notation*), você pode usar o módulo `json` embutido em Python.\n"
   ]
  },
  {
   "cell_type": "markdown",
   "metadata": {},
   "source": [
    "### **Leitura de Arquivos JSON:**\n"
   ]
  },
  {
   "cell_type": "markdown",
   "metadata": {},
   "source": [
    "```python\n",
    "import json\n",
    "\n",
    "with open('dados.json', 'r') as arquivo_json:\n",
    "    dados = json.load(arquivo_json)\n",
    "    print(dados)\n",
    "```\n",
    "\n",
    "Neste exemplo, o arquivo 'dados.json' é aberto em modo de leitura e o conteúdo é interpretado como dados JSON.\n"
   ]
  },
  {
   "cell_type": "code",
   "execution_count": null,
   "metadata": {},
   "outputs": [],
   "source": []
  },
  {
   "cell_type": "markdown",
   "metadata": {},
   "source": [
    "#### **Escrita em Arquivos JSON:**\n"
   ]
  },
  {
   "cell_type": "markdown",
   "metadata": {
    "id": "snrmrZCWENCQ"
   },
   "source": [
    "```python\n",
    "import json\n",
    "\n",
    "dados = {\n",
    "    'nome': 'Alice',\n",
    "    'idade': 30,\n",
    "    'profissao': 'Engenheira'\n",
    "}\n",
    "\n",
    "with open('dados.json', 'w') as arquivo_json:\n",
    "    json.dump(dados, arquivo_json)\n",
    "```\n",
    "\n",
    "Neste exemplo, um dicionário Python é escrito no arquivo 'dados.json' como um objeto JSON.\n"
   ]
  },
  {
   "cell_type": "markdown",
   "metadata": {
    "id": "i1-Qds1FEt8G"
   },
   "source": [
    "\n",
    "Estes são métodos básicos de manipulação de arquivos, mas existem muitas outras funcionalidades e opções disponíveis nos módulos `csv` e `json` para manipular dados de maneiras mais avançadas."
   ]
  },
  {
   "cell_type": "code",
   "execution_count": null,
   "metadata": {},
   "outputs": [],
   "source": []
  },
  {
   "cell_type": "markdown",
   "metadata": {
    "id": "9tT598Wh5ZJJ"
   },
   "source": [
    "# Exercícios"
   ]
  },
  {
   "cell_type": "markdown",
   "metadata": {
    "id": "YQV4u9RK_vef"
   },
   "source": [
    "## Implemente os trechos de código acima!\n"
   ]
  }
 ],
 "metadata": {
  "colab": {
   "authorship_tag": "ABX9TyNj2J9ghhf6oO1C/kStov2o",
   "provenance": []
  },
  "kernelspec": {
   "display_name": "Python 3 (ipykernel)",
   "language": "python",
   "name": "python3"
  },
  "language_info": {
   "codemirror_mode": {
    "name": "ipython",
    "version": 3
   },
   "file_extension": ".py",
   "mimetype": "text/x-python",
   "name": "python",
   "nbconvert_exporter": "python",
   "pygments_lexer": "ipython3",
   "version": "3.11.5"
  }
 },
 "nbformat": 4,
 "nbformat_minor": 4
}
