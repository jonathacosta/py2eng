{
 "cells": [
  {
   "cell_type": "markdown",
   "metadata": {
    "id": "asx887spoo_z",
    "tags": []
   },
   "source": [
    "# **Curso de Python - N1**\n",
    " - Prof. Jonatha Costa"
   ]
  },
  {
   "cell_type": "markdown",
   "metadata": {
    "id": "2dpFZAPvu2Td",
    "jp-MarkdownHeadingCollapsed": true,
    "tags": []
   },
   "source": [
    "## **Bibliotecas Python**\n",
    "- são conjuntos de código pré-escrito que contêm funcionalidades úteis. Elas são projetadas para serem reutilizáveis e facilitam a realização de tarefas específicas. Duas bibliotecas fundamentais para manipulação de dados em Python são **NumPy** e **Pandas**.\n"
   ]
  },
  {
   "cell_type": "markdown",
   "metadata": {
    "id": "rIgzNvY-HQaU",
    "jp-MarkdownHeadingCollapsed": true,
    "tags": []
   },
   "source": [
    "## NumPy"
   ]
  },
  {
   "cell_type": "markdown",
   "metadata": {},
   "source": [
    "### **Introdução ao NumPy:**\n"
   ]
  },
  {
   "cell_type": "markdown",
   "metadata": {},
   "source": [
    "\n",
    "**NumPy** é uma poderosa biblioteca para computação numérica em Python. Ela fornece suporte para arrays multidimensionais (também conhecidos como ndarray) e funções matemáticas para operações em arrays. NumPy é amplamente utilizado em computação científica, análise de dados e aprendizado de máquina.\n",
    "\n",
    "Para usar NumPy, primeiro, você precisa instalá-lo usando um gerenciador de pacotes como pip:\n",
    "\n",
    "```bash\n",
    "pip install numpy\n",
    "```\n",
    "\n",
    "Em seguida, você pode importá-lo em seu código Python:\n",
    "\n",
    "```python\n",
    "import numpy as np  # \"np\" é um alias comum para NumPy\n",
    "```"
   ]
  },
  {
   "cell_type": "markdown",
   "metadata": {},
   "source": [
    "### **Operações com Arrays:**\n"
   ]
  },
  {
   "cell_type": "markdown",
   "metadata": {
    "id": "2sWy0I0NJTbO"
   },
   "source": [
    "\n",
    "```python\n",
    "import numpy as np\n",
    "\n",
    "# Criando um array NumPy\n",
    "array1 = np.array([1, 2, 3, 4, 5])\n",
    "\n",
    "# Operações matemáticas com arrays\n",
    "soma = array1 + 2  # Adiciona 2 a cada elemento do array\n",
    "produto = array1 * 3  # Multiplica cada elemento por 3\n",
    "\n",
    "# Funções matemáticas\n",
    "media = np.mean(array1)  # Calcula a média dos elementos\n",
    "maximo = np.max(array1)  # Encontra o valor máximo\n",
    "```\n",
    "\n",
    "NumPy permite operações vetorizadas, o que significa que você pode aplicar operações diretamente a arrays inteiros, sem a necessidade de escrever loops explícitos. Isso melhora a eficiência e legibilidade do código.\n",
    "\n"
   ]
  },
  {
   "cell_type": "code",
   "execution_count": null,
   "metadata": {},
   "outputs": [],
   "source": []
  },
  {
   "cell_type": "markdown",
   "metadata": {
    "id": "j_pDU-x1EhxE",
    "tags": []
   },
   "source": [
    "## Pandas"
   ]
  },
  {
   "cell_type": "markdown",
   "metadata": {},
   "source": [
    "**Pandas** é uma biblioteca de análise de dados que fornece estruturas de dados eficientes para análise, manipulação e visualização de dados. O principal objeto em Pandas é o **DataFrame**, uma estrutura de dados bidimensional semelhante a uma tabela de banco de dados.\n",
    "\n",
    "Para usar Pandas, primeiro, você precisa instalá-lo:\n",
    "\n",
    "```bash\n",
    "pip install pandas\n",
    "```\n",
    "\n",
    "Em seguida, você pode importá-lo em seu código Python:\n",
    "\n",
    "```python\n",
    "import pandas as pd  # \"pd\" é um alias comum para Pandas\n",
    "```"
   ]
  },
  {
   "cell_type": "markdown",
   "metadata": {},
   "source": [
    "### **Criando e Manipulando DataFrames:**\n"
   ]
  },
  {
   "cell_type": "markdown",
   "metadata": {
    "tags": []
   },
   "source": [
    "```python\n",
    "# Criando um DataFrame a partir de um dicionário\n",
    "dados = {\n",
    "    'Nome': ['Alice', 'Bob', 'Charlie'],\n",
    "    'Idade': [25, 30, 35],\n",
    "    'Profissão': ['Engenheiro', 'Cientista de Dados', 'Designer'],\n",
    "    'Cidade':['Fortaleza', 'Eusébio', 'Fortaleza']\n",
    "}\n",
    "\n",
    "df = pd.DataFrame(dados)\n",
    "```"
   ]
  },
  {
   "cell_type": "code",
   "execution_count": 30,
   "metadata": {
    "tags": []
   },
   "outputs": [],
   "source": [
    "#Simular"
   ]
  },
  {
   "cell_type": "markdown",
   "metadata": {},
   "source": [
    "### Obtendo informações basilares sobre o DF\n"
   ]
  },
  {
   "cell_type": "markdown",
   "metadata": {},
   "source": [
    "```python\n",
    "df.info() # Exibe as colunas do df e tipologia\n",
    "df.head() # Exibe as 5 primeiras linhas do df\n",
    "df.tail() # Exibe as 5 últimas linhas do df\n",
    "```\n"
   ]
  },
  {
   "cell_type": "markdown",
   "metadata": {},
   "source": [
    "### Acessando colunas e linhas do DataFrame\n"
   ]
  },
  {
   "cell_type": "markdown",
   "metadata": {},
   "source": [
    "```\n",
    "nomes = df['Nome']  # Obtém a coluna 'Nome'\n",
    "primeira_linha = df.iloc[0]  # Obtém a primeira linha\n",
    "```"
   ]
  },
  {
   "cell_type": "markdown",
   "metadata": {},
   "source": [
    "### Filtrando dados\n",
    "\n",
    "```python\n",
    "cientistas = df[df['Profissão'] == 'Cientista de Dados']  # Filtra por profissão\n",
    "```"
   ]
  },
  {
   "cell_type": "code",
   "execution_count": 32,
   "metadata": {
    "tags": []
   },
   "outputs": [],
   "source": [
    "#Simular"
   ]
  },
  {
   "cell_type": "markdown",
   "metadata": {},
   "source": [
    "### Incluindo novos dados\n"
   ]
  },
  {
   "cell_type": "markdown",
   "metadata": {
    "tags": []
   },
   "source": [
    "```python\n",
    "df['Tempo_serviço']=[2,3,4]\n",
    "df\n",
    "```\n"
   ]
  },
  {
   "cell_type": "code",
   "execution_count": 12,
   "metadata": {
    "tags": []
   },
   "outputs": [],
   "source": [
    "#Simular"
   ]
  },
  {
   "cell_type": "markdown",
   "metadata": {},
   "source": [
    "## **Análise de Dados Básica:**"
   ]
  },
  {
   "cell_type": "markdown",
   "metadata": {
    "id": "fKOraX3hEfue"
   },
   "source": [
    "\n",
    "Pandas facilita a análise e exploração de dados:\n",
    "\n",
    "```python\n",
    "\n",
    "# Informaões básicas\n",
    "df.info()\n",
    "\n",
    "# Estatísticas descritivas\n",
    "estatisticas = df.describe()\n",
    "\n",
    "# Agrupamento de dados\n",
    "por_profissao = df.groupby('Profissão').mean()\n",
    "\n",
    "# Leitura e escrita de arquivos (CSV, Excel, SQL, etc.)\n",
    "df.to_csv('dados.csv', index=False)  # Salva o DataFrame como um arquivo CSV\n",
    "novo_df = pd.read_csv('dados.csv')  # Lê um arquivo CSV em um DataFrame\n",
    "```\n",
    "\n",
    "Pandas é especialmente útil para trabalhar com grandes conjuntos de dados, facilitando a manipulação, análise e visualização de dados de forma eficiente.\n",
    "\n",
    "NumPy e Pandas são essenciais para qualquer pessoa que trabalhe com dados em Python, desde cientistas de dados até engenheiros de software, devido à sua capacidade de tornar a manipulação e análise de dados mais eficientes e convenientes."
   ]
  },
  {
   "cell_type": "code",
   "execution_count": 33,
   "metadata": {
    "tags": []
   },
   "outputs": [],
   "source": [
    "#Simular"
   ]
  },
  {
   "cell_type": "markdown",
   "metadata": {
    "id": "9tT598Wh5ZJJ",
    "tags": []
   },
   "source": [
    "# Exercícios"
   ]
  },
  {
   "cell_type": "markdown",
   "metadata": {
    "id": "YQV4u9RK_vef",
    "tags": []
   },
   "source": [
    "## Implemente os trechos de código acima!"
   ]
  },
  {
   "cell_type": "markdown",
   "metadata": {
    "tags": []
   },
   "source": [
    "## Importe o arquivo 'csv' do endereço a abaixo e aplique uma análise basilar de dados\n",
    "\n",
    "dados: 'https://raw.githubusercontent.com/jonathacosta/SmartGrid/main/SCC-SHC/Results/Datasets/results-full.csv'"
   ]
  },
  {
   "cell_type": "code",
   "execution_count": null,
   "metadata": {},
   "outputs": [],
   "source": []
  }
 ],
 "metadata": {
  "colab": {
   "authorship_tag": "ABX9TyOMRA20NnShJ5N7voJ6c+rz",
   "provenance": [],
   "toc_visible": true
  },
  "kernelspec": {
   "display_name": "Python 3 (ipykernel)",
   "language": "python",
   "name": "python3"
  },
  "language_info": {
   "codemirror_mode": {
    "name": "ipython",
    "version": 3
   },
   "file_extension": ".py",
   "mimetype": "text/x-python",
   "name": "python",
   "nbconvert_exporter": "python",
   "pygments_lexer": "ipython3",
   "version": "3.11.5"
  },
  "toc-autonumbering": true
 },
 "nbformat": 4,
 "nbformat_minor": 4
}
