{
 "cells": [
  {
   "cell_type": "markdown",
   "metadata": {
    "id": "asx887spoo_z"
   },
   "source": [
    "# **Curso de Python - N1**\n",
    " - Prof. Jonatha Costa"
   ]
  },
  {
   "cell_type": "markdown",
   "metadata": {
    "id": "2dpFZAPvu2Td"
   },
   "source": [
    "# **Projetos simples:**"
   ]
  },
  {
   "cell_type": "markdown",
   "metadata": {
    "id": "rIgzNvY-HQaU",
    "tags": []
   },
   "source": [
    "## Calculadora"
   ]
  },
  {
   "cell_type": "markdown",
   "metadata": {
    "id": "2sWy0I0NJTbO"
   },
   "source": [
    "**Projeto 1: Calculadora Python**\n",
    "\n",
    "Neste projeto prático, vamos criar uma calculadora básica usando funções em Python. A calculadora permitirá que o usuário realize operações de adição, subtração, multiplicação, divisão e potenciação. Vamos dividir o projeto em etapas para facilitar o entendimento:\n",
    "\n",
    "### Etapas do Projeto:\n",
    "\n",
    "#### 1. **Definindo Funções para Operações:**\n",
    "Vamos começar definindo funções para cada operação matemática que a calculadora suportará.\n",
    "\n",
    "```python\n",
    "def adicao(a, b):\n",
    "    return a + b\n",
    "\n",
    "def subtracao(a, b):\n",
    "    return a - b\n",
    "\n",
    "def multiplicacao(a, b):\n",
    "    return a * b\n",
    "\n",
    "def divisao(a, b):\n",
    "    if b != 0:\n",
    "        return a / b\n",
    "    else:\n",
    "        return \"Erro: divisão por zero!\"\n",
    "\n",
    "def potenciacao(a, b):\n",
    "    return a ** b\n",
    "```\n",
    "\n",
    "#### 2. **Obtendo Entrada do Usuário:**\n",
    "Vamos solicitar ao usuário que escolha uma operação e insira os números nos quais a operação será realizada.\n",
    "\n",
    "```python\n",
    "operacao = input(\"Escolha uma operação (+, -, *, /, **): \")\n",
    "num1 = float(input(\"Digite o primeiro número: \"))\n",
    "num2 = float(input(\"Digite o segundo número: \"))\n",
    "```\n",
    "\n",
    "#### 3. **Realizando a Operação:**\n",
    "Com base na escolha do usuário, chamaremos a função correspondente para realizar a operação e exibiremos o resultado.\n",
    "\n",
    "```python\n",
    "if operacao == '+':\n",
    "    resultado = adicao(num1, num2)\n",
    "elif operacao == '-':\n",
    "    resultado = subtracao(num1, num2)\n",
    "elif operacao == '*':\n",
    "    resultado = multiplicacao(num1, num2)\n",
    "elif operacao == '/':\n",
    "    resultado = divisao(num1, num2)\n",
    "elif operacao == '**':\n",
    "    resultado = potenciacao(num1, num2)\n",
    "else:\n",
    "    resultado = \"Operação inválida!\"\n",
    "```\n",
    "\n",
    "#### 4. **Exibindo o Resultado:**\n",
    "Finalmente, exibiremos o resultado da operação ao usuário.\n",
    "\n",
    "```python\n",
    "print(\"Resultado: \" + str(resultado))\n",
    "```\n",
    "\n",
    "#### Exemplo de Uso:\n",
    "```\n",
    "Escolha uma operação (+, -, *, /, **): +\n",
    "Digite o primeiro número: 10\n",
    "Digite o segundo número: 5\n",
    "Resultado: 15.0\n",
    "```\n",
    "\n",
    "Este é um projeto simples, mas prático, que permite praticar conceitos de funções, entrada/saída de dados e controle de fluxo em Python. Você pode expandir este projeto adicionando mais operações ou melhorando a interface do usuário para torná-lo mais interativo. É um ótimo exercício para iniciantes para consolidar o conhecimento em Python."
   ]
  },
  {
   "cell_type": "code",
   "execution_count": 65,
   "metadata": {
    "id": "olEtSQlWJ6QY"
   },
   "outputs": [],
   "source": [
    "#Simular"
   ]
  },
  {
   "cell_type": "markdown",
   "metadata": {
    "id": "lV_m-B51Li5R",
    "jp-MarkdownHeadingCollapsed": true,
    "tags": []
   },
   "source": [
    "## **Análise de Dados simples**"
   ]
  },
  {
   "cell_type": "markdown",
   "metadata": {
    "id": "kDx6SrIALTNH",
    "jp-MarkdownHeadingCollapsed": true,
    "tags": []
   },
   "source": [
    "**Projeto 2: Análise de Dados Simples**\n",
    "\n",
    "Neste projeto prático, vamos realizar uma análise de dados simples usando a biblioteca **Pandas** para manipulação de dados e o **Matplotlib** para criar gráficos básicos. Vamos dividir o projeto em etapas para uma melhor compreensão:\n",
    "\n",
    "### Etapas do Projeto:\n",
    "\n",
    "#### 1. **Importando as Bibliotecas:**\n",
    "Primeiro, importe as bibliotecas necessárias: Pandas para manipulação de dados e Matplotlib para visualização.\n",
    "\n",
    "```python\n",
    "import pandas as pd\n",
    "import matplotlib.pyplot as plt\n",
    "```\n",
    "\n",
    "#### 2. **Criando um banco de dados**\n",
    "```python\n",
    "import csv, random\n",
    "\n",
    "'''Função para gerar dados aleatórios'''\n",
    "def generate_data(num_entries:int,cat=['A','B','C']):\n",
    "    categories,data = cat,[]\n",
    "    for _ in range(num_entries):\n",
    "        category = random.choice(categories)\n",
    "        age,salary = random.randint(18, 60),random.randint(30000, 100000)         \n",
    "        data.append([category, age, salary])\n",
    "    return data\n",
    "\n",
    "''' Escrever dados no arquivo CSV'''\n",
    "def write_to_csv(file_path, data):\n",
    "    with open(file_path, mode='w', newline='') as file:\n",
    "        writer = csv.writer(file)        \n",
    "        writer.writerow(['categoria', 'idade', 'salario']) # Escrever o cabeçalho        \n",
    "        writer.writerows(data) # Escrever os dados\n",
    "\n",
    "        ''' Gerar os dados'''\n",
    "def generator(num_entries=100,arq_name='dataset'):\n",
    "    csv_file_path = arq_name # Nome do arquivo CSV\n",
    "    generated_data = generate_data(num_entries,['Categoria A','Categoria B','Categoria C']) # Gerar dados\n",
    "    write_to_csv(csv_file_path, generated_data) # Escrever dados no arquivo CSV  \n",
    "    print(f\"Conjunto de dados gerado com sucesso em {csv_file_path}\")          \n",
    "generator(500,'dados')    \n",
    "```\n",
    "\n",
    "#### 3. **Carregando os Dados:**\n",
    "Carregue os dados que você deseja analisar. Você pode carregar dados de um arquivo CSV, Excel ou até mesmo de uma API da web.\n",
    "\n",
    "```python\n",
    "# Exemplo de leitura de dados de um arquivo CSV\n",
    "dados = pd.read_csv('dados.csv')\n",
    "```\n",
    "\n",
    "#### 4. **Explorando os Dados:**\n",
    "Antes de criar gráficos, é útil explorar os dados para entender sua estrutura.\n",
    "\n",
    "```python\n",
    "# Visualizando as primeiras linhas dos dados\n",
    "print(dados.head())\n",
    "\n",
    "# Informações sobre os tipos de dados e valores nulos\n",
    "print(dados.info())\n",
    "\n",
    "# Estatísticas descritivas\n",
    "print(dados.describe())\n",
    "```\n",
    "\n",
    "#### 5. **Criando Gráficos:**\n",
    "Agora, você pode criar gráficos para visualizar padrões nos dados.\n",
    "\n",
    "**Exemplo de Gráfico de Barras:**\n",
    "```python\n",
    "# Gráfico de barras para contar a ocorrência de cada valor em uma coluna\n",
    "plt.figure(figsize=(8, 6))\n",
    "dados['categoria'].value_counts().plot(kind='bar', color='skyblue')\n",
    "plt.xlabel('Categorias')\n",
    "plt.ylabel('Contagem')\n",
    "plt.title('Contagem de Categorias')\n",
    "plt.xticks(rotation=45)\n",
    "plt.show()\n",
    "```\n",
    "\n",
    "**Exemplo de Gráfico de Dispersão:**\n",
    "```python\n",
    "# Gráfico de dispersão para visualizar a relação entre duas colunas\n",
    "plt.figure(figsize=(8, 6))\n",
    "plt.scatter(dados['idade'], dados['salario'], color='green', alpha=0.5)\n",
    "plt.xlabel('Idade')\n",
    "plt.ylabel('Salário')\n",
    "plt.title('Relação entre Idade e Salário')\n",
    "plt.grid(True)\n",
    "plt.show()\n",
    "```\n",
    "\n",
    "#### 5. **Conclusões e Insights:**\n",
    "Analise os gráficos e as estatísticas descritivas para tirar conclusões sobre os dados. Por exemplo, você pode identificar tendências, padrões ou outliers nos dados.\n",
    "\n",
    "### Considerações Finais:\n",
    "Este projeto é um exemplo básico de análise de dados usando Pandas e visualização com Matplotlib. Dependendo dos dados que você está trabalhando, você pode criar gráficos diferentes e explorar análises mais complexas. É uma ótima maneira de praticar suas habilidades de manipulação e visualização de dados em Python."
   ]
  },
  {
   "cell_type": "code",
   "execution_count": 63,
   "metadata": {
    "tags": []
   },
   "outputs": [],
   "source": [
    "#Simular"
   ]
  },
  {
   "cell_type": "markdown",
   "metadata": {
    "id": "Ka4HyVAZNS5D"
   },
   "source": [
    "## Projeto 3"
   ]
  },
  {
   "cell_type": "markdown",
   "metadata": {
    "id": "q0sY_iDqNYZR"
   },
   "source": [
    "**Projeto 3: Jogo da Forca**\n",
    "\n",
    "O jogo da forca é um jogo clássico em que um jogador pensa em uma palavra e o outro jogador tenta adivinhar a palavra, uma letra de cada vez. O jogo continua até que o jogador adivinhe a palavra completa ou faça um certo número de tentativas erradas. Vamos implementar este jogo usando estruturas de controle e listas em Python.\n",
    "\n",
    "### Etapas do Projeto:\n",
    "\n",
    "#### 1. **Escolhendo uma Palavra Aleatória:**\n",
    "Primeiro, você precisa ter uma lista de palavras e escolher aleatoriamente uma palavra da lista. Você pode usar a biblioteca `random` para isso.\n",
    "\n",
    "```python\n",
    "import random\n",
    "\n",
    "palavras = ['python', 'java', 'ruby', 'javascript', 'html', 'css']\n",
    "palavra_escolhida = random.choice(palavras)\n",
    "```\n",
    "\n",
    "#### 2. **Inicializando o Jogo:**\n",
    "Crie uma lista para armazenar as letras adivinhadas e mostre uma mensagem inicial para o jogador.\n",
    "\n",
    "```python\n",
    "letras_adivinhadas = []\n",
    "tentativas_maximas = 6\n",
    "\n",
    "print(\"Bem-vindo ao Jogo da Forca!\")\n",
    "```\n",
    "\n",
    "#### 3. **Loop do Jogo:**\n",
    "Implemente um loop que continue até que o jogador adivinhe a palavra completa ou faça um número máximo de tentativas erradas.\n",
    "\n",
    "```python\n",
    "while True:\n",
    "    # Exiba a palavra com as letras adivinhadas e traços para letras não adivinhadas\n",
    "    palavra_oculta = \"\"\n",
    "    for letra in palavra_escolhida:\n",
    "        if letra in letras_adivinhadas:\n",
    "            palavra_oculta += letra\n",
    "        else:\n",
    "            palavra_oculta += \"_\"\n",
    "    print(\"Palavra: \" + palavra_oculta)\n",
    "\n",
    "    # Peça ao jogador para adivinhar uma letra\n",
    "    letra_adivinhada = input(\"Adivinhe uma letra: \")\n",
    "\n",
    "    # Verifique se a letra já foi adivinhada\n",
    "    if letra_adivinhada in letras_adivinhadas:\n",
    "        print(\"Você já adivinhou essa letra!\")\n",
    "    else:\n",
    "        letras_adivinhadas.append(letra_adivinhada)\n",
    "\n",
    "        # Verifique se a letra está na palavra\n",
    "        if letra_adivinhada not in palavra_escolhida:\n",
    "            tentativas_maximas -= 1\n",
    "            print(\"Letra não encontrada. Tentativas restantes: \" + str(tentativas_maximas))\n",
    "\n",
    "        # Verifique se o jogador venceu ou perdeu\n",
    "        if \"_\" not in palavra_oculta:\n",
    "            print(\"Parabéns, você ganhou! A palavra é: \" + palavra_oculta)\n",
    "            break\n",
    "        elif tentativas_maximas == 0:\n",
    "            print(\"Game over! A palavra era: \" + palavra_escolhida)\n",
    "            break\n",
    "```\n",
    "\n",
    "### Considerações Finais:\n",
    "Neste jogo, o jogador tem um número limitado de tentativas para adivinhar a palavra, uma letra de cada vez. O jogo continua até que o jogador adivinhe corretamente a palavra ou esgote todas as tentativas permitidas. Este projeto ajuda a praticar conceitos de listas, loops, estruturas de controle e manipulação de strings em Python, tornando-o uma ótima maneira de melhorar suas habilidades de programação."
   ]
  }
 ],
 "metadata": {
  "colab": {
   "authorship_tag": "ABX9TyOJN2k7psni2RgvwHASTsMB",
   "provenance": [],
   "toc_visible": true
  },
  "kernelspec": {
   "display_name": "Python 3 (ipykernel)",
   "language": "python",
   "name": "python3"
  },
  "language_info": {
   "codemirror_mode": {
    "name": "ipython",
    "version": 3
   },
   "file_extension": ".py",
   "mimetype": "text/x-python",
   "name": "python",
   "nbconvert_exporter": "python",
   "pygments_lexer": "ipython3",
   "version": "3.11.5"
  }
 },
 "nbformat": 4,
 "nbformat_minor": 4
}
