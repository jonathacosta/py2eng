{
 "cells": [
  {
   "cell_type": "markdown",
   "metadata": {
    "id": "asx887spoo_z"
   },
   "source": [
    "\n",
    "# Python aplicado à engenharia de automação e controle - ```py2eng ```\n",
    "\n",
    " - Prof. Jonatha Costa\n"
   ]
  },
  {
   "cell_type": "markdown",
   "metadata": {
    "id": "jJi0RfjG0lhJ"
   },
   "source": [
    "# N0 - Conceitos de programação\n"
   ]
  },
  {
   "cell_type": "markdown",
   "metadata": {
    "id": "6OFbHB4D0bpa"
   },
   "source": [
    " **1.Conceitos basilares de programação**\n",
    "- Fundamentos de lógica de programação\n",
    "- Fundamentos de resolução de problemas\n",
    "    - premissas\n",
    "    - restrições\n",
    "- Pseudo-código e fluxograma\n",
    "- Arcabouço matemático\n",
    "- Métodos alternativos\n"
   ]
  },
  {
   "cell_type": "markdown",
   "metadata": {
    "id": "2DXVlX-X19eg"
   },
   "source": [
    "## *Fundamentos de lógica de programação*\n"
   ]
  },
  {
   "cell_type": "markdown",
   "metadata": {
    "id": "02X1LcbK2CcA"
   },
   "source": [
    "A **lógica de programação** é o conjunto de regras e técnicas utilizadas para desenvolver algoritmos, que são *sequências de passos lógicos* e bem definidos para resolver um problema ou realizar uma tarefa específica. A compreensão dos fundamentos da lógica de programação é essencial para qualquer pessoa que deseje se tornar um profissional eficaz, especialmente na área de ciências exatas.\n",
    "\n",
    "**```Principais conceitos```**:\n",
    "\n",
    "### 1. **Algoritmos:**\n",
    "   - **Definição:** Uma sequência ordenada de passos que descrevem um processo para alcançar um determinado resultado ou solução.\n",
    "   - **Características:** Precisam ser claros, precisos, finitos e executáveis.\n",
    "\n",
    "   ```\n",
    "   Exemplo:\n",
    "\n",
    "   ⛳ Descreva um algoritmo para fazer café.\n",
    "   ⛳ Descreva um algoritmo para substituir o pneu de um carro.\n",
    "   ⛳ Descreva um algoritmo para substituir uma lâmpada no teto de uma residência.\n",
    "\n",
    "   ```\n",
    "\n",
    "### 2. **Variáveis e Tipos de Dados:** 🇦 ♎\n",
    "   - **Variáveis:** São espaços na memória utilizados para armazenar valores. Elas possuem nomes que podem ser usados para acessar e manipular os dados.\n",
    "   - **Tipos de Dados:** Incluem inteiros, números de ponto flutuante, strings (textos), booleanos (verdadeiro ou falso) e estruturas de dados como listas e dicionários.\n",
    "\n",
    "### 3. **Operadores:**: ⚛ ⚛\n",
    "   - **Operadores Aritméticos:** Realizam operações matemáticas básicas (adição, subtração, multiplicação, divisão, etc.).\n",
    "   - **Operadores Relacionais:** Comparam valores (igual a, diferente de, maior que, menor que, etc.).\n",
    "   - **Operadores Lógicos:** Realizam operações lógicas (E lógico, OU lógico, NÃO lógico).\n",
    "\n",
    "### 4. **Estruturas de Controle:** 🎛 🏗 ⏬\n",
    "   - **Estruturas Condicionais (if, else, elif):** Permitem que o programa tome decisões com base em condições especificadas.\n",
    "   - **Estruturas de Repetição (for, while):** Permitem que um conjunto de instruções seja repetido várias vezes até que uma condição seja atendida.\n",
    "\n",
    "### 5. **Estruturas de Dados:**    🛂 🛂 🛂\n",
    "   - **Listas:** Coleção ordenada de itens. Os itens podem ser de diferentes tipos e são acessados por índices.\n",
    "   - **Tuplas:** Coleção ordenada e imutável de itens. Os itens podem ser de diferentes tipos e são acessados por índices. A principal diferença em relação às listas é a imutabilidade das tuplas, ou seja, uma vez criadas, não podem ser alteradas.\n",
    "   - **Conjuntos:** Coleção não ordenada de itens únicos. Conjuntos não permitem elementos duplicados e são úteis para operações como união, interseção e diferença entre conjuntos.\n",
    "   - **Dicionários:** Coleção de pares chave-valor, onde cada chave é única e está associada a um valor.\n",
    "\n",
    "### 6. **Funções:**\n",
    "   - **Definição de Funções:** Um bloco de código que executa uma tarefa específica. As funções podem receber argumentos e retornar valores.\n",
    "   ✍✍✍\n",
    "   - **Reutilização de Código:** Funções permitem que o código seja organizado em partes reutilizáveis, facilitando a manutenção e a compreensão.\n",
    "\n",
    "\n",
    "### 7. **Algoritmos de Busca e Ordenação:** 🔃 🔃  🔃\n",
    "   - **Busca Sequencial:** Procura por um elemento em uma lista, elemento por elemento, até encontrar uma correspondência.\n",
    "   - **Busca Binária:** Eficiente para listas ordenadas, divide repetidamente a lista pela metade para encontrar o elemento desejado.\n",
    "   - **Ordenação (por exemplo, algoritmo de ordenação de bolhas ou quicksort):** Organiza os elementos de uma lista em uma ordem específica (ascendente ou descendente).\n",
    "\n",
    "### 8. **Recursividade:** 🔁 ◀ ⛑\n",
    "   - **Definição:** Uma função que chama a si mesma para resolver um problema menor relacionado ao problema original.\n",
    "   - **Aplicações:** Usada em algoritmos que envolvem subdivisão de problemas em subproblemas menores.\n",
    "\n",
    "Entender esses conceitos é crucial para resolver problemas de programação de forma eficiente e criar programas funcionais e organizados. A prática é fundamental para desenvolver habilidades sólidas em lógica de programação."
   ]
  },
  {
   "cell_type": "markdown",
   "metadata": {
    "id": "x7l0v13l2CZa"
   },
   "source": [
    "##Fundamentos de resolução de problemas"
   ]
  },
  {
   "cell_type": "markdown",
   "metadata": {
    "id": "u8imZ2Th2CWj"
   },
   "source": [
    "**Fundamentos de Resolução de Problemas com Premissas e Restrições:**\n",
    "\n",
    "Ao resolver problemas, especialmente na área da ciência da computação e programação, é fundamental entender e trabalhar com **premissas** e **restrições**. Aqui está uma explicação detalhada desses conceitos:\n",
    "\n",
    "### 1. **Premissas:**\n",
    "   - **Definição:** Premissas são afirmações ou condições que são consideradas verdadeiras e servem como base para o raciocínio ou para a solução de um problema.\n",
    "   - **Importância:** Estabelecem as condições iniciais ou os fatos fundamentais sobre os quais um problema é construído.\n",
    "   - **Exemplo:** Se você está resolvendo um problema relacionado a um sistema de pagamento online, uma premissa poderia ser \"Os dados dos clientes são criptografados para proteger a privacidade\".\n",
    "   - **Uso:** As premissas ajudam a definir o contexto do problema e a orientar as soluções, garantindo que o raciocínio seja baseado em informações precisas e verificáveis.\n",
    "\n",
    "### 2. **Restrições:**\n",
    "   - **Definição:** Restrições são condições ou limitações que devem ser obedecidas durante o processo de resolução de um problema.\n",
    "   - **Importância:** Definem os limites dentro dos quais uma solução aceitável deve ser encontrada. Ignorar restrições pode levar a soluções impraticáveis ou inviáveis.\n",
    "   - **Exemplo:** Se você está desenvolvendo um aplicativo de entrega de alimentos, uma restrição pode ser \"O tempo de entrega não deve exceder 30 minutos a partir do pedido\".\n",
    "   - **Uso:** Restrições ajudam a refinar a solução, garantindo que ela não apenas funcione em teoria, mas também na prática, considerando limitações do mundo real.\n",
    "\n",
    "### Como Usar Premissas e Restrições para Resolver Problemas:\n",
    "\n",
    "1. **Compreensão Profunda:** Antes de começar a resolver um problema, é essencial entender completamente as premissas e as restrições associadas ao problema. Isso evita interpretações errôneas e orienta o raciocínio na direção certa.\n",
    "\n",
    "2. **Desenvolvimento de Soluções:** Ao criar soluções, é crucial considerar as premissas como bases confiáveis de conhecimento e garantir que as soluções estejam alinhadas com essas premissas. Além disso, as restrições devem ser estritamente obedecidas durante o desenvolvimento das soluções.\n",
    "\n",
    "3. **Validação e Testes:** Após criar uma solução, é importante validar se todas as premissas foram levadas em consideração e se todas as restrições foram respeitadas. Testes e validações ajudam a garantir que a solução seja robusta e funcione conforme o esperado dentro dos limites estabelecidos.\n",
    "\n",
    "Em resumo, entender e trabalhar eficazmente com premissas e restrições são habilidades essenciais ao resolver problemas complexos. Elas garantem que as soluções sejam realistas, aplicáveis e bem fundamentadas, levando a resultados bem-sucedidos e sustentáveis."
   ]
  },
  {
   "cell_type": "markdown",
   "metadata": {
    "id": "B3L7gSkJ2CSL"
   },
   "source": [
    "## Pseudo-código e fluxograma"
   ]
  },
  {
   "cell_type": "markdown",
   "metadata": {
    "id": "cpsJknEV2CJK"
   },
   "source": [
    "### Pseudo-código\n"
   ]
  },
  {
   "cell_type": "markdown",
   "metadata": {
    "id": "YJW-uL2y2r8A"
   },
   "source": [
    "**Pseudo-código:** 🗽 🗽 🗽\n",
    "\n",
    "O pseudo-código é uma forma de representar algoritmos de forma simples e não específica de linguagem de programação. É uma descrição textual de um algoritmo que segue a lógica e a estrutura dos programas de computador, mas sem a necessidade de seguir a sintaxe de uma linguagem de programação real. É frequentemente usado em etapas iniciais do desenvolvimento de software para planejar e entender a lógica de um algoritmo antes de escrever código em uma linguagem específica.\n",
    "\n",
    "### **Características do Pseudo-código:**\n",
    "\n",
    "1. **Simplicidade:** O pseudo-código é fácil de entender e escrever, utilizando linguagem natural para descrever os passos do algoritmo.\n",
    "  \n",
    "2. **Independência de Linguagem:** Não está vinculado a uma linguagem de programação específica, permitindo que programadores de diferentes origens compreendam e contribuam.\n",
    "\n",
    "3. **Estruturas de Controle:** Utiliza estruturas condicionais (como `se`, `senão`) e de repetição (como `enquanto`, `para`) para representar a lógica do algoritmo.\n",
    "\n",
    "4. **Comentários:** Pode incluir comentários explicativos para detalhar passos complexos ou para ajudar na compreensão.\n",
    "\n",
    "### **Exemplo de Pseudo-código:**\n",
    "\n",
    "**Algoritmo para Somar Dois Números:**\n",
    "\n",
    "```\n",
    "Início\n",
    "   Ler número1\n",
    "   Ler número2\n",
    "   Soma = número1 + número2\n",
    "   Escrever Soma\n",
    "Fim\n",
    "```\n",
    "\n",
    "Neste exemplo, o pseudo-código descreve um algoritmo para somar dois números. As instruções são descritas de forma simples e direta, sem se preocupar com a sintaxe específica de uma linguagem de programação.\n",
    "\n",
    "### **Vantagens do Pseudo-código:**\n",
    "\n",
    "1. **Compreensão Universal:** Pode ser compreendido por qualquer pessoa, independentemente da linguagem de programação com a qual estão familiarizados.\n",
    "\n",
    "2. **Facilita a Planejamento:** Ajuda a planejar e estruturar algoritmos antes de escrever código em uma linguagem específica.\n",
    "\n",
    "3. **Colaboração:** Facilita a colaboração e comunicação entre membros da equipe de desenvolvimento, especialmente quando têm experiência em diferentes linguagens de programação.\n",
    "\n",
    "📓 🔢\n",
    "\n",
    "Em suma, o pseudo-código é uma ferramenta valiosa para expressar lógica algorítmica de maneira compreensível e independente de linguagem, facilitando o processo de desenvolvimento de software."
   ]
  },
  {
   "cell_type": "markdown",
   "metadata": {
    "id": "hsjZgsnl2pqH"
   },
   "source": [
    "### Fluxograma"
   ]
  },
  {
   "cell_type": "markdown",
   "metadata": {
    "id": "p3U4xLW-2sZ6"
   },
   "source": [
    "**Fluxograma no Contexto da Programação de Códigos:** ⏮ 📁\n",
    "\n",
    "Um fluxograma é uma representação gráfica de um processo ou algoritmo. No contexto da programação de códigos, fluxogramas são usados para visualizar a lógica de um programa antes de ser implementado em uma linguagem específica. Eles fornecem uma representação visual dos passos a serem seguidos, ajudando os programadores a entenderem o fluxo do programa, a identificar possíveis problemas lógicos e a otimizar a lógica do código. Aqui está uma explicação mais detalhada sobre como os fluxogramas são usados na programação:\n",
    "\n",
    "### **Elementos do Fluxograma:**\n",
    "\n",
    "1. **Terminador (Oval):** Representa o início ou o fim do programa.\n",
    "\n",
    "2. **Processo (Retângulo):** Representa uma operação ou uma sequência de operações a serem realizadas.\n",
    "\n",
    "3. **Decisão (Losango):** Representa uma condição que determina o caminho a ser seguido pelo programa, geralmente associado a uma estrutura de controle de decisão (como `if` e `else`).\n",
    "\n",
    "4. **Conector (Círculo Pequeno):** Conecta partes diferentes de um fluxograma quando o fluxo não cabe em uma única página.\n",
    "\n",
    "5. **Seta de Direção:** Indica a direção do fluxo do programa.\n",
    "\n",
    "### **Como os Fluxogramas São Usados na Programação:**\n",
    "\n",
    "1. **Planejamento:** Antes de começar a codificar, os programadores usam fluxogramas para planejar a lógica do programa. Eles ajudam a organizar pensamentos e a estruturar a solução para um problema.\n",
    "\n",
    "2. **Compreensão do Algoritmo:** Fluxogramas são especialmente úteis para entender algoritmos complexos. Eles oferecem uma visão visual clara do fluxo do programa, facilitando a compreensão para todos os envolvidos no desenvolvimento.\n",
    "\n",
    "3. **Detecção de Erros:** Ao visualizar o fluxo do programa, é possível identificar lógicas incorretas ou loops infinitos antes mesmo de começar a escrever o código. Isso economiza tempo e esforço na fase de depuração.\n",
    "\n",
    "4. **Compartilhamento e Colaboração:** Fluxogramas são uma forma eficaz de comunicar a lógica do programa para outros membros da equipe, facilitando a colaboração e a discussão sobre a solução proposta.\n",
    "\n",
    "5. **Documentação:** Fluxogramas podem servir como parte da documentação do projeto, explicando a lógica do programa para desenvolvedores futuros ou para quem precisa entender o código existente.\n",
    "\n",
    "### **Exemplo de Fluxograma Simples:**\n",
    "\n",
    "[Fluxograma](https://github.com/jonathacosta/py2eng/blob/main/figures/flow1-jrc.png)\n",
    "\n",
    "Este é um exemplo simples de fluxograma representando um sistema de pedidos de varejo. Ele mostra os passos desde o início até o final do processo de fazer um pedido online.\n",
    "\n",
    "Em resumo, fluxogramas são ferramentas visuais valiosas que ajudam programadores a planejar, entender e comunicar a lógica de um programa, proporcionando uma visão clara do fluxo de controle e das decisões lógicas no código."
   ]
  },
  {
   "cell_type": "markdown",
   "metadata": {
    "id": "9MzDrthJ3URu"
   },
   "source": [
    "## Arcabouço matemático"
   ]
  },
  {
   "cell_type": "markdown",
   "metadata": {
    "id": "vFCj9Kj_5Lm9"
   },
   "source": [
    "O arcabouço matemático é fundamental na programação por várias razões cruciais:\n",
    "\n",
    "### **1. Resolução de Problemas:**\n",
    "   - **Modelagem Abstrata:** Ajuda a transformar problemas do mundo real em modelos matemáticos, simplificando a complexidade e facilitando a resolução.\n",
    "\n",
    "### **2. Algoritmos e Estruturas de Dados:**\n",
    "   - **Análise de Complexidade:** Permite avaliar a eficiência dos algoritmos em termos de tempo e espaço, crucial para escolher o algoritmo certo para uma tarefa específica.\n",
    "   - **Estruturas Avançadas:** Conceitos matemáticos como grafos e árvores são essenciais para problemas que envolvem redes, hierarquias ou relações complexas.\n",
    "\n",
    "### **3. Computação Gráfica e Visualização:**\n",
    "   - **Transformações Geométricas:** Matemática é essencial para rotação, translação, escala, e outras transformações em gráficos e objetos 3D.\n",
    "   - **Simulações:** Para criar simulações realistas de fenômenos naturais, econômicos ou científicos, são necessários modelos matemáticos complexos.\n",
    "\n",
    "### **4. Inteligência Artificial e Aprendizado de Máquina:**\n",
    "   - **Algoritmos de Otimização:** Muitos algoritmos de aprendizado de máquina e IA são baseados em conceitos matemáticos, especialmente cálculo e álgebra linear.\n",
    "   - **Probabilidade e Estatísticas:** São cruciais para lidar com incerteza e tomar decisões baseadas em dados.\n",
    "\n",
    "### **5. Criptografia e Segurança:**\n",
    "   - **Teoria dos Números:** Importante para algoritmos de criptografia e segurança, como RSA, que são baseados em propriedades matemáticas.\n",
    "\n",
    "### **6. Física e Simulações de Movimento:**\n",
    "   - **Equações Diferenciais:** Usadas para simular movimentos complexos em jogos, animações e simulações científicas.\n",
    "\n",
    "### **7. Ciência de Dados:**\n",
    "   - **Transformações e Análise de Dados:** Para entender padrões e insights em grandes conjuntos de dados, técnicas matemáticas são aplicadas.\n",
    "   - **Álgebra Linear:** Usada em algoritmos de redução de dimensionalidade e análise de componentes principais.\n",
    "\n",
    "### **8. Análise e Design de Algoritmos:**\n",
    "   - **Análise Assintótica:** Utilizada para entender o desempenho de algoritmos em diferentes escalas de entrada.\n",
    "\n",
    "### **9. Engenharia de Software:**\n",
    "   - **Modelagem de Software:** Em métodos formais, a matemática é usada para modelar o comportamento do software, ajudando a garantir sua corretude.\n",
    "\n",
    "### **Importância Geral:**\n",
    "- **Precisão:** A matemática oferece precisão, garantindo que algoritmos e modelos sejam robustos e confiáveis.\n",
    "- **Inovação:** Permite a criação de tecnologias avançadas, desde simulações realistas até algoritmos de aprendizado profundo.\n",
    "- **Interdisciplinaridade:** A matemática é uma linguagem comum entre várias disciplinas científicas, facilitando a colaboração em projetos interdisciplinares.\n",
    "\n",
    "Em resumo, o arcabouço matemático é vital na programação porque fornece ferramentas para resolver problemas, otimizar algoritmos, criar simulações precisas, entender dados complexos e inovar em diversas áreas da ciência da computação. É uma base essencial para programadores que desejam trabalhar em campos que exigem soluções computacionais sofisticadas e eficientes."
   ]
  },
  {
   "cell_type": "markdown",
   "metadata": {
    "id": "ZlyjEkz95uGi"
   },
   "source": [
    "## Métodos alternativos"
   ]
  },
  {
   "cell_type": "markdown",
   "metadata": {
    "id": "OnvZ_9Ma5xGy"
   },
   "source": [
    "**Métodos Alternativos ou Métodos Numéricos na Programação:**\n",
    "\n",
    "Métodos alternativos ou métodos numéricos são técnicas matemáticas utilizadas para resolver problemas complexos ou encontrar aproximações para soluções em situações onde métodos analíticos exatos não são viáveis ou práticos. Na programação, esses métodos são vitais para resolver problemas em áreas como física, engenharia, finanças, ciência de dados, simulações e muito mais. Eles se destacam em situações onde as soluções não podem ser expressas de forma simples ou onde as soluções analíticas são difíceis ou impossíveis de obter.\n",
    "\n",
    "### **Exemplos Comuns de Métodos Numéricos:**\n",
    "\n",
    "1. **Método da Bissecção:** Usado para encontrar raízes de equações, divide iterativamente o intervalo até encontrar uma raiz com precisão desejada.\n",
    "\n",
    "2. **Método de Newton-Raphson:** Encontra raízes de funções usando iterações e derivadas.\n",
    "\n",
    "3. **Método de Euler:** Aproxima soluções para equações diferenciais ordinárias usando diferenciação numérica.\n",
    "\n",
    "4. **Método de Runge-Kutta:** Um método mais preciso para resolver equações diferenciais, especialmente útil para problemas físicos.\n",
    "\n",
    "5. **Interpolação Polinomial:** Estima valores desconhecidos entre pontos conhecidos.\n",
    "\n",
    "6. **Método dos Mínimos Quadrados:** Encontra a melhor linha de ajuste para dados, minimizando a soma dos quadrados das diferenças entre os dados reais e a linha de ajuste.\n",
    "\n",
    "7. **Método Monte Carlo:** Utiliza números aleatórios para aproximar soluções para problemas complexos, especialmente útil em simulações e estatísticas.\n",
    "\n",
    "8. **Método das Diferenças Finitas:** Uma técnica numérica para resolver equações diferenciais parciais.\n",
    "\n",
    "### **Importância na Programação:**\n",
    "\n",
    "1. **Precisão em Contextos Complexos:** Problemas complexos, especialmente em ciência e engenharia, muitas vezes não têm soluções analíticas. Métodos numéricos oferecem aproximações precisas nessas situações.\n",
    "\n",
    "2. **Simulações Realistas:** Em jogos, engenharia e simulações científicas, métodos numéricos ajudam a criar modelos realistas de fenômenos complexos.\n",
    "\n",
    "3. **Otimização e Análise de Dados:** Métodos numéricos são essenciais para encontrar mínimos, máximos e pontos de inflexão em funções, além de serem usados em técnicas de aprendizado de máquina e análise estatística.\n",
    "\n",
    "4. **Sistemas Dinâmicos:** Permitem entender e prever comportamentos de sistemas dinâmicos complexos, como sistemas climáticos ou econômicos.\n",
    "\n",
    "5. **Engenharia de Software:** Em software científico e de engenharia, esses métodos são incorporados para resolver problemas específicos.\n",
    "\n",
    "### **Desafios:**\n",
    "\n",
    "1. **Precisão vs. Desempenho:** Encontrar um equilíbrio entre a precisão necessária e a eficiência computacional, pois métodos mais precisos podem ser mais computacionalmente intensivos.\n",
    "\n",
    "2. **Estabilidade Numérica:** Algumas técnicas numéricas podem levar a erros acumulativos, especialmente em iterações longas, exigindo cuidados na implementação para garantir estabilidade.\n",
    "\n",
    " Métodos numéricos são cruciais na programação quando se trata de resolver problemas complexos, especialmente em contextos científicos e de engenharia. Eles fornecem soluções aproximadas quando as soluções exatas são inatingíveis, possibilitando a resolução de uma ampla gama de desafios no mundo computacional."
   ]
  }
 ],
 "metadata": {
  "colab": {
   "authorship_tag": "ABX9TyPwawL/6gdLaJ+0a5QUr+VY",
   "provenance": [],
   "toc_visible": true
  },
  "kernelspec": {
   "display_name": "Python 3 (ipykernel)",
   "language": "python",
   "name": "python3"
  },
  "language_info": {
   "codemirror_mode": {
    "name": "ipython",
    "version": 3
   },
   "file_extension": ".py",
   "mimetype": "text/x-python",
   "name": "python",
   "nbconvert_exporter": "python",
   "pygments_lexer": "ipython3",
   "version": "3.11.5"
  }
 },
 "nbformat": 4,
 "nbformat_minor": 1
}
